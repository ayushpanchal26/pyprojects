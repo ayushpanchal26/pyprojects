{
  "cells": [
    {
      "cell_type": "markdown",
      "metadata": {
        "id": "A05OG15VqOPF"
      },
      "source": [
        "# Task : Session 1\n",
        "Solve these questions own your own and try to test yourself what you have learned in the session.\n",
        "\n",
        "Happy Learning!"
      ]
    },
    {
      "cell_type": "markdown",
      "metadata": {
        "id": "2doIXf8bqe9_"
      },
      "source": [
        "### Q1 :- Print the given strings as per stated format.\n",
        "\n",
        "**Given strings**:\n",
        "```\n",
        "\"Data\" \"Science\" \"Mentorship\" \"Program\"\n",
        "\"By\" \"CampusX\"\n",
        "```\n",
        "**Output**:\n",
        "```\n",
        "Data-Science-Mentorship-Program-started-By-CampusX\n",
        "```\n",
        "\n",
        "Concept- [Seperator and End]"
      ]
    },
    {
      "cell_type": "code",
      "execution_count": 35,
      "metadata": {
        "id": "-em6d3KErDtp"
      },
      "outputs": [
        {
          "data": {
            "text/plain": [
              "'data-science-mentorship-program-by-campus'"
            ]
          },
          "execution_count": 35,
          "metadata": {},
          "output_type": "execute_result"
        }
      ],
      "source": [
        "# Write your code here\n",
        "'-'.join(['data','science','mentorship','program','by','campus'])\n"
      ]
    },
    {
      "cell_type": "markdown",
      "metadata": {
        "id": "1KUpN7ZTrC3_"
      },
      "source": [
        "### Q2:- Write a program that will convert celsius value to fahrenheit."
      ]
    },
    {
      "cell_type": "code",
      "execution_count": 36,
      "metadata": {
        "id": "yxKYhYQiqWfj"
      },
      "outputs": [
        {
          "data": {
            "text/plain": [
              "89.6"
            ]
          },
          "execution_count": 36,
          "metadata": {},
          "output_type": "execute_result"
        }
      ],
      "source": [
        "# Write your code here\n",
        "c = 32\n",
        "F = (9/5)*c + 32\n",
        "F"
      ]
    },
    {
      "cell_type": "markdown",
      "metadata": {
        "id": "RLrOBBJurLB2"
      },
      "source": [
        "### Q3:- Take 2 numbers as input from the user.Write a program to swap the numbers without using any special python syntax."
      ]
    },
    {
      "cell_type": "code",
      "execution_count": 37,
      "metadata": {
        "id": "yPn7if0TrJ4F"
      },
      "outputs": [
        {
          "data": {
            "text/plain": [
              "(3, 3)"
            ]
          },
          "execution_count": 37,
          "metadata": {},
          "output_type": "execute_result"
        }
      ],
      "source": [
        "# Write your code here\n",
        "a = int(input('Enter the first number'))\n",
        "b = int(input('Enter the second number'))\n",
        "temp = ''\n",
        "temp = a\n",
        "a = b\n",
        "b = temp\n",
        "a,b"
      ]
    },
    {
      "cell_type": "markdown",
      "metadata": {
        "id": "waLCP1bjr7ML"
      },
      "source": [
        "### Q4:- Write a program to find the euclidean distance between two coordinates.Take both the coordinates from the user as input."
      ]
    },
    {
      "cell_type": "code",
      "execution_count": 38,
      "metadata": {
        "id": "Pl1Sv-xnrxnH"
      },
      "outputs": [
        {
          "data": {
            "text/plain": [
              "0"
            ]
          },
          "execution_count": 38,
          "metadata": {},
          "output_type": "execute_result"
        }
      ],
      "source": [
        "# Write your code here\n",
        "x2 = int(input('Enter'))\n",
        "x1 = int(input('Enter'))\n",
        "y1 = int(input('Enter'))\n",
        "y2 = int(input('Enter'))\n",
        "D = ( x2 - x1 )*2 + ( y1- y2 )*2\n",
        "D\n"
      ]
    },
    {
      "cell_type": "markdown",
      "metadata": {
        "id": "VLrhg-FRsHjR"
      },
      "source": [
        "### Q5:- Write a program to find the simple interest when the value of principle,rate of interest and time period is provided by the user.\n"
      ]
    },
    {
      "cell_type": "code",
      "execution_count": 39,
      "metadata": {
        "id": "s40DlReZsTmY"
      },
      "outputs": [
        {
          "data": {
            "text/plain": [
              "0.27"
            ]
          },
          "execution_count": 39,
          "metadata": {},
          "output_type": "execute_result"
        }
      ],
      "source": [
        "# Write your code here\n",
        "t = int(input('enter the time '))\n",
        "p = int(input('Enter the principal amount'))\n",
        "r = int(input('Enter the rate of intrest'))\n",
        "si = (p*t*r)/100\n",
        "si"
      ]
    },
    {
      "cell_type": "markdown",
      "metadata": {
        "id": "LMy0BTUktYKa"
      },
      "source": [
        "### Q6:- Write a program that will tell the number of dogs and chicken are there when the user will provide the value of total heads and legs.\n",
        "\n",
        "For example:\n",
        "Input:\n",
        "heads -> 4\n",
        "legs -> 12\n",
        "<br>\n",
        "Output:\n",
        "dogs -> 2\n",
        "chicken -> 2\n",
        "\n",
        "\n",
        "\n"
      ]
    },
    {
      "cell_type": "code",
      "execution_count": 40,
      "metadata": {
        "id": "XSBvJoA4tXaG"
      },
      "outputs": [
        {
          "name": "stdout",
          "output_type": "stream",
          "text": [
            "invalid input\n"
          ]
        }
      ],
      "source": [
        "# Write your code here\n",
        "heads = int(input('Enter the amount of the head'))\n",
        "legs = int(input('enter the amount of heads'))\n",
        "chickens = None\n",
        "dogs = None\n",
        "for c in range(heads+1):\n",
        "    d = heads -c \n",
        "\n",
        "    if c*2 and d*4 == legs:\n",
        "        chickens = c\n",
        "        dogs = d \n",
        "        break\n",
        "\n",
        "if chickens is not None and dogs is not None:\n",
        "    print(f'chickens -> {chickens}')\n",
        "    print(f'dogs -> {dogs}')\n",
        "else:\n",
        "    print('invalid input')"
      ]
    },
    {
      "cell_type": "markdown",
      "metadata": {
        "id": "gJ7C5kZYt4BP"
      },
      "source": [
        "### Q7:- Write a program to find the sum of squares of first n natural numbers where n will be provided by the user."
      ]
    },
    {
      "cell_type": "code",
      "execution_count": 41,
      "metadata": {
        "id": "_tHsmEHzt2nX"
      },
      "outputs": [
        {
          "data": {
            "text/plain": [
              "6"
            ]
          },
          "execution_count": 41,
          "metadata": {},
          "output_type": "execute_result"
        }
      ],
      "source": [
        "# Write your code here\n",
        "n  = int(input('enter'))\n",
        "sum = 0\n",
        "for i in range(1,n+1):\n",
        "    sum += i\n",
        "sum\n"
      ]
    },
    {
      "cell_type": "markdown",
      "metadata": {
        "id": "FHrMM7g-yG1h"
      },
      "source": [
        "### Q8:- Given the first 2 terms of an Arithmetic Series.Find the Nth term of the series. Assume all inputs are provided by the user."
      ]
    },
    {
      "cell_type": "code",
      "execution_count": 42,
      "metadata": {
        "id": "go4_kmZmyVSx"
      },
      "outputs": [
        {
          "data": {
            "text/plain": [
              "3"
            ]
          },
          "execution_count": 42,
          "metadata": {},
          "output_type": "execute_result"
        }
      ],
      "source": [
        "# Write your code here\n",
        "a = int(input('enter'))\n",
        "b = int(input('enter'))\n",
        "Nth = int(input('enter'))\n",
        "d = b-a\n",
        "Nth =a+(Nth-1)*d\n",
        "Nth"
      ]
    },
    {
      "cell_type": "markdown",
      "metadata": {
        "id": "QgyRX_es1oum"
      },
      "source": [
        "### Q9:- Given 2 fractions, find the sum of those 2 fractions.Take the numerator and denominator values of the fractions from the user."
      ]
    },
    {
      "cell_type": "code",
      "execution_count": 43,
      "metadata": {
        "id": "X05xqFS1yW16"
      },
      "outputs": [
        {
          "data": {
            "text/plain": [
              "6"
            ]
          },
          "execution_count": 43,
          "metadata": {},
          "output_type": "execute_result"
        }
      ],
      "source": [
        "# Write your code here\n",
        "from math import gcd\n",
        "num1 = int(input('enter'))\n",
        "den1 = int(input('enter'))\n",
        "num2 = int(input('enter'))\n",
        "den2 = int(input('enter'))\n",
        "\n",
        "def lcm(x,y):\n",
        "    return x*y // gcd(x,y)\n",
        "\n",
        "common_deno = lcm(den1 , den2)\n",
        "num1 *= common_deno // den1\n",
        "num2 *= common_deno // den2\n",
        "result =  num1 + num2\n",
        "result"
      ]
    },
    {
      "cell_type": "markdown",
      "metadata": {
        "id": "eaql38ln13u7"
      },
      "source": [
        "### Q10:- Given the height, width and breadth of a milk tank, you have to find out how many glasses of milk can be obtained? Assume all the inputs are provided by the user.\n",
        "\n",
        "\n",
        "\n",
        "Input:<br>\n",
        "Dimensions of the milk tank<br>\n",
        "H = 20cm, L = 20cm, B = 20cm\n",
        "<br><br>\n",
        "Dimensions of the glass<br>\n",
        "h = 3cm, r = 1cm"
      ]
    },
    {
      "cell_type": "code",
      "execution_count": 44,
      "metadata": {
        "id": "FePZqno74eWv"
      },
      "outputs": [
        {
          "name": "stdout",
          "output_type": "stream",
          "text": [
            "number of glass of milk from the milk tank of size27 is :-> 2.8662420382165603\n"
          ]
        }
      ],
      "source": [
        "# Write your code here\n",
        "# dimesions of the tank\n",
        "h = int(input('enter'))\n",
        "l = int(input('enter'))\n",
        "b = int(input('enter'))\n",
        "\n",
        "# dimensions of glass \n",
        "H = 3 #cm\n",
        "r = 1 #cm\n",
        "volume_of_tank = h*l*b\n",
        "\n",
        "volume_of_glass = 3.14 *r*H\n",
        "\n",
        "result = volume_of_tank / volume_of_glass\n",
        "print(f'number of glass of milk from the milk tank of size{volume_of_tank} is :-> {result}')"
      ]
    },
    {
      "cell_type": "code",
      "execution_count": null,
      "metadata": {},
      "outputs": [],
      "source": []
    }
  ],
  "metadata": {
    "colab": {
      "provenance": []
    },
    "kernelspec": {
      "display_name": "Python 3",
      "name": "python3"
    },
    "language_info": {
      "codemirror_mode": {
        "name": "ipython",
        "version": 3
      },
      "file_extension": ".py",
      "mimetype": "text/x-python",
      "name": "python",
      "nbconvert_exporter": "python",
      "pygments_lexer": "ipython3",
      "version": "3.8.10"
    }
  },
  "nbformat": 4,
  "nbformat_minor": 0
}
