{
  "cells": [
    {
      "cell_type": "markdown",
      "metadata": {
        "id": "FyUJ3PRAsPr4"
      },
      "source": [
        "##`Q-1:` Rectangle Class\n",
        "1. Write a Rectangle class in Python language, allowing you to build a rectangle with length and width attributes.\n",
        "\n",
        "2. Create a Perimeter() method to calculate the perimeter of the rectangle and a Area() method to calculate the area of ​​the rectangle.\n",
        "\n",
        "3. Create a method display() that display the length, width, perimeter and area of an object created using an instantiation on rectangle class."
      ]
    },
    {
      "cell_type": "markdown",
      "metadata": {
        "id": "GxUtOqJfssFK"
      },
      "source": [
        "Eg.\n",
        "After making above classes and methods, on executing below code:-\n",
        "```\n",
        "my_rectangle = Rectangle(3 , 4)\n",
        "my_rectangle.display()\n",
        "```\n",
        "\n",
        "`Output:`\n",
        "```\n",
        "The length of rectangle is:  3\n",
        "The width of rectangle is:  4\n",
        "The perimeter of rectangle is:  14\n",
        "The area of rectangle is:  12\n",
        "```\n"
      ]
    },
    {
      "cell_type": "code",
      "execution_count": 12,
      "metadata": {
        "id": "92_QT-Uj6NBg"
      },
      "outputs": [
        {
          "name": "stdout",
          "output_type": "stream",
          "text": [
            "The length of rectangle is: 3 \n",
            "The width of rectangle is: 4\n",
            "The perimeter of rectangle is: perimeter = 14\n",
            "The area of rectangle is:  area = 12\n"
          ]
        }
      ],
      "source": [
        "# write your code here\n",
        "class Rectangle:\n",
        "\n",
        "    def __init__(self,length , width):\n",
        "        self.length = length\n",
        "        self.width = width\n",
        "\n",
        "    def perimeter(self):\n",
        "        return f'perimeter = {2*(self.length+self.width)}'\n",
        "    \n",
        "    def area(self):\n",
        "        return f'area = {self.length * self.width}'\n",
        "    \n",
        "    def display(self):\n",
        "       \n",
        "        print(f'The length of rectangle is: {self.length} \\nThe width of rectangle is: {self.width}\\nThe perimeter of rectangle is: {self.perimeter()}\\nThe area of rectangle is:  {self.area()}')\n",
        "        \n",
        "my_rectangle = Rectangle(3 , 4)\n",
        "my_rectangle.display()\n"
      ]
    },
    {
      "cell_type": "markdown",
      "metadata": {
        "id": "r_GxrS0Vrdom"
      },
      "source": [
        "##`Q-2: Bank Class`\n",
        "\n",
        "1. Create a Python class called `BankAccount` which represents a bank account, having as attributes: `accountNumber` (numeric type), `name` (name of the account owner as string type), `balance`.\n",
        "2. Create a constructor with parameters: `accountNumber, name, balance`.\n",
        "3. Create a `Deposit()` method which manages the deposit actions.\n",
        "4. Create a `Withdrawal()` method  which manages withdrawals actions.\n",
        "5. Create an `bankFees()` method to apply the bank fees with a percentage of 5% of the balance account.\n",
        "6. Create a `display()` method to display account details.\n",
        "Give the complete code for the  BankAccount class."
      ]
    },
    {
      "cell_type": "markdown",
      "metadata": {
        "id": "qvVkOUJgvTV_"
      },
      "source": [
        "Eg.\n",
        "After making above classes and methods, on executing below code:-\n",
        "```\n",
        "newAccount = BankAccount(2178514584, \"Mandy\" , 2800)\n",
        "\n",
        "newAccount.Withdrawal(700)\n",
        "\n",
        "newAccount.Deposit(1000)\n",
        "\n",
        "newAccount.display()\n",
        "```\n",
        "\n",
        "`Output:`\n",
        "```\n",
        "Account Number :  2178514584\n",
        "Account Name :  Mandy\n",
        "Account Balance :  3100 ₹\n",
        "```"
      ]
    },
    {
      "cell_type": "code",
      "execution_count": 26,
      "metadata": {
        "id": "fUQOmQyA6YDR"
      },
      "outputs": [
        {
          "name": "stdout",
          "output_type": "stream",
          "text": [
            "Account number - 2178514584\n",
            " Account name - Mandy\n",
            " Account Balance - 3100\n"
          ]
        }
      ],
      "source": [
        "# write your code here\n",
        "class BankAccount():\n",
        "\n",
        "    def __init__(self,account_number,name,balance):\n",
        "        self.account_number = account_number\n",
        "        self.name  = name \n",
        "        self.balance  = balance\n",
        "\n",
        "        \n",
        "\n",
        "    def bankfees(self):\n",
        "        new_balance_after_fees = self.balance *0.05\n",
        " \n",
        "\n",
        "    def deposit(self,amount):\n",
        "        self.balance += amount\n",
        "       \n",
        "        return f'amount of {amount} has been debited to you account{ self.account_number} and the current balance is {self.balance}'\n",
        "    \n",
        "    def withdraw(self,amount):\n",
        "        self.balance -= amount\n",
        "     \n",
        "        return f'amount of {amount} has been withdrawl from you account{self.account_number} and remaining balance is {self.balance}'\n",
        "    \n",
        "    def display(self):\n",
        "         print(f'Account number - {self.account_number}\\n Account name - {self.name}\\n Account Balance - {self.balance}')\n",
        "    \n",
        "        \n",
        "newAccount = BankAccount(2178514584, \"Mandy\" , 2800)\n",
        "\n",
        "newAccount.withdraw(700)\n",
        "\n",
        "newAccount.deposit(1000)\n",
        "\n",
        "newAccount.display()"
      ]
    },
    {
      "cell_type": "markdown",
      "metadata": {
        "id": "QovcQAZTrgGU"
      },
      "source": [
        "##`Q-3:Computation class`\n",
        "\n",
        "1. Create a `Computation` class with a default constructor (without parameters) allowing to perform various calculations on integers numbers.\n",
        "2. Create a method called `Factorial()` which allows to calculate the factorial of an integer n. Integer n as parameter for this method\n",
        "\n",
        "3. Create a method called `naturalSum()` allowing to calculate the sum of the first n integers 1 + 2 + 3 + .. + n. Integer n as parameter for this method.\n",
        "\n",
        "4. Create a method called `testPrime()` in  the Calculation class to test the primality of a given integer n, n is Prime or Not? Integer n as parameter for this method.\n",
        "\n",
        "5. Create  a method called `testPrims()` allowing to test if two numbers are prime between them. Two integers are prime to one another if they have only `1` as their common divisor. Eg. 4 and 9 are prime to each other.\n",
        "\n",
        "5. Create a `tableMult()` method which creates and displays the multiplication table of a given integer. Then create an `allTablesMult()` method to display all the integer multiplication tables 1, 2, 3, ..., 9.\n",
        "\n",
        "6. Create a static `listDiv()` method that gets all the divisors of a given integer on new list called  Ldiv. Create another `listDivPrim()` method that gets all the prime divisors of a given integer."
      ]
    },
    {
      "cell_type": "code",
      "execution_count": null,
      "metadata": {
        "id": "YEkPH70l6Z-o"
      },
      "outputs": [],
      "source": [
        "class Computation:\n",
        "    def __init__(self):\n",
        "        pass\n",
        "\n",
        "    @staticmethod\n",
        "    def Factorial(n):\n",
        "        if n == 0:\n",
        "            return 1\n",
        "        else:\n",
        "            return n * Computation.Factorial(n - 1)\n",
        "        \n",
        "    @staticmethod\n",
        "    def naturalSum(n):\n",
        "        return (n * (n + 1)) // 2\n",
        "\n",
        "    @staticmethod\n",
        "    def testPrime(n):\n",
        "        if n <= 1:\n",
        "            return False\n",
        "        elif n <= 3:\n",
        "            return True\n",
        "        elif n % 2 == 0 or n % 3 == 0:\n",
        "            return False\n",
        "        i = 5\n",
        "        while i * i <= n:\n",
        "            if n % i == 0 or n % (i + 2) == 0:\n",
        "                return False\n",
        "            i += 6\n",
        "        return True\n",
        "\n",
        "    @staticmethod\n",
        "    def testPrims(a, b):\n",
        "        return Computation.testPrime(a) and Computation.testPrime(b)\n",
        "\n",
        "    @staticmethod\n",
        "    def tableMult(n):\n",
        "        for i in range(1, 11):\n",
        "            print(f\"{n} * {i} = {n * i}\")\n",
        "\n",
        "    @staticmethod\n",
        "    def allTablesMult():\n",
        "        for i in range(1, 10):\n",
        "            print(f\"\\nMultiplication table of {i}:\")\n",
        "            Computation.tableMult(i)\n",
        "\n",
        "    @staticmethod\n",
        "    def listDiv(n):\n",
        "        Ldiv = []\n",
        "        for i in range(1, n + 1):\n",
        "            if n % i == 0:\n",
        "                Ldiv.append(i)\n",
        "        return Ldiv\n",
        "\n",
        "    @staticmethod\n",
        "    def listDivPrim(n):\n",
        "        Ldiv = Computation.listDiv(n)\n",
        "        LdivPrim = [x for x in Ldiv if Computation.testPrime(x)]\n",
        "        return LdivPrim\n",
        "\n",
        "print(\"Factorial of 5:\", Computation.Factorial(5))\n",
        "print(\"Sum of first 5 natural numbers:\", Computation.naturalSum(5))\n",
        "print(\"Is 7 prime?\", Computation.testPrime(7))\n",
        "print(\"Are 4 and 9 prime to each other?\", Computation.testPrims(4, 9))\n",
        "print(\"Multiplication table of 7:\")\n",
        "Computation.tableMult(7)\n",
        "print(\"\\nAll multiplication tables:\")\n",
        "Computation.allTablesMult()\n",
        "print(\"Divisors of 24:\", Computation.listDiv(24))\n",
        "print(\"Prime divisors of 24:\", Computation.listDivPrim(24))\n"
      ]
    },
    {
      "cell_type": "markdown",
      "metadata": {
        "id": "0yn23_oEriXa"
      },
      "source": [
        "##`Q-4`: Build flashcard using class in Python.\n",
        "\n",
        "Build a flashcard using class in python. A flashcard is a card having information on both sides, which can be used as an aid in memoization. Flashcards usually have a question on one side and an answer on the other.\n",
        "\n",
        "**Example 1:**\n",
        "\n",
        "Approach:\n",
        "\n",
        "- Create a class named FlashCard.\n",
        "- Initialize dictionary fruits using __init__() method. Here you have to define fruit name as key and it's color as value. E.g., {\"Banana\": \"yellow\", \"Strawberries\": \"pink\"}\n",
        "- Now randomly choose a pair from fruits by using _random_ module and store the key in variable _fruit_ and _value_ in variable color.\n",
        "- Now prompt the user to answer the color of the randomly chosen fruit.\n",
        "- If correct print correct else print wrong.\n",
        "\n",
        "Output:\n",
        "```bash\n",
        "welcome to fruit quiz\n",
        "What is the color of Strawberries\n",
        "pink\n",
        "Correct answer\n",
        "Enter 0, if you want to play again: 0\n",
        "What is the color of watermelon\n",
        "green\n",
        "Correct answer\n",
        "Enter 0, if you want to play again: 1\n",
        "```"
      ]
    },
    {
      "cell_type": "code",
      "execution_count": 15,
      "metadata": {
        "id": "vCrUF6VU6l6w"
      },
      "outputs": [
        {
          "name": "stdout",
          "output_type": "stream",
          "text": [
            "welcome to fruit game \n",
            "Wrong answer\n"
          ]
        },
        {
          "ename": "AttributeError",
          "evalue": "'Flashcard' object has no attribute 'answer'",
          "output_type": "error",
          "traceback": [
            "\u001b[1;31m---------------------------------------------------------------------------\u001b[0m",
            "\u001b[1;31mAttributeError\u001b[0m                            Traceback (most recent call last)",
            "Cell \u001b[1;32mIn[15], line 30\u001b[0m\n\u001b[0;32m     26\u001b[0m flashcard\u001b[38;5;241m.\u001b[39mplay()\n\u001b[0;32m     29\u001b[0m ayush \u001b[38;5;241m=\u001b[39m Flashcard()\n\u001b[1;32m---> 30\u001b[0m \u001b[43mayush\u001b[49m\u001b[38;5;241;43m.\u001b[39;49m\u001b[43manswer\u001b[49m()\n",
            "\u001b[1;31mAttributeError\u001b[0m: 'Flashcard' object has no attribute 'answer'"
          ]
        }
      ],
      "source": [
        "# write your code here\n",
        "import random \n",
        "class Flashcard:\n",
        "    def __init__(self):\n",
        "        self.fruits = {'banana':'yellow',\n",
        "                       'strawberries':'pink',\n",
        "                       'orange':'orange',\n",
        "                       'watermelon':'green'}\n",
        "        \n",
        "       \n",
        "    def play(self):\n",
        "        print('welcome to fruit game ')\n",
        "        play_again = True \n",
        "\n",
        "        while play_again:\n",
        "            fruit,color = random.choice(list(self.fruits.items()))\n",
        "            guess = input(f'what is the color of {fruit}?')\n",
        "            if guess.lower() == color.lower():\n",
        "                print('correct answer')\n",
        "            else:\n",
        "                print(\"Wrong answer\")\n",
        "            play_again = int(input(\"Enter 0 if you want to play again: \")) == 0\n",
        "\n",
        "# Create a FlashCard object and start playing\n",
        "flashcard = Flashcard()\n",
        "flashcard.play()\n",
        "\n"
      ]
    },
    {
      "cell_type": "markdown",
      "metadata": {
        "id": "GN2r0jbRewYr"
      },
      "source": [
        "## `Q-5:` Problem 5 based on OOP Python.\n",
        "\n",
        "TechWorld, a technology training center, wants to allocate courses for instructors. An instructor is identified by name, technology skills, experience and average feedback. An instructor is allocated a course, if he/she satisfies the below two conditions:\n",
        "- eligibility criteria:\n",
        "    - if experience is more than 3 years, average feedback should be 4.5 or more\n",
        "    - if experience is 3 years or less, average feedback should be 4 or more\n",
        "- he/she should posses the technology skill for the course\n",
        "\n",
        "Identify the class name and attributes to represent instructors. Write a Python program to implement the class chosen with its attributes and methods.\n",
        "\n",
        "**Note:**\n",
        "- Consider all instance variables to be private and methods to be public.\n",
        "- An instructor may have multiple technology skills, so consider instance variable, technology_skill to be a list.\n",
        "- *check_eligibility()*: Return true if eligibility criteria is satisfied by the instructor. Else, return false\n",
        "- *allocate_course(technology)*: Return true if the course which requires the given technology can be allocated to the instructor. Else, return false.\n",
        "\n",
        "Represent a few objects of the class, initialize instance variables using setter methods, invoke\n",
        "appropriate methods and test your program."
      ]
    },
    {
      "cell_type": "code",
      "execution_count": 54,
      "metadata": {
        "id": "pdMFuVFnlvKL"
      },
      "outputs": [
        {
          "name": "stdout",
          "output_type": "stream",
          "text": [
            "Instructor 1 Eligibility: True\n"
          ]
        },
        {
          "data": {
            "text/plain": [
              "'you have been got False so your dream job role of java is given to you'"
            ]
          },
          "execution_count": 54,
          "metadata": {},
          "output_type": "execute_result"
        }
      ],
      "source": [
        "# write your code here\n",
        "class Instructor:\n",
        "    def __init__(self,name):\n",
        "        self.__name = name\n",
        "        self.__technology_skill = []\n",
        "        self.__experience = 0\n",
        "        self.__average_feedback = 0.0\n",
        "    \n",
        "\n",
        "    \n",
        "    def set_technology_skills(self,skills):\n",
        "        self.__technology_skill = skills\n",
        "    \n",
        "    def set_experience(self,experince):\n",
        "        self.__experience = experince\n",
        "    \n",
        "    def set_feedback(self,feedback):\n",
        "        self.__average_feedback = feedback\n",
        "\n",
        "    def check_eligibility(self):\n",
        "        if self.__experience >3:\n",
        "            return self.__average_feedback >=4.5\n",
        "        else:\n",
        "            return self.__average_feedback >=4\n",
        "        \n",
        "    def allocate_role(self,technology):\n",
        "        return f'you have been got {technology in self.__technology_skill} so your dream job role of {technology} is given to you'\n",
        "\n",
        "    \n",
        "instructor1 = Instructor(\"John Doe\")\n",
        "instructor1.set_technology_skills([\"Python\", \"Java\", \"C++\"])\n",
        "instructor1.set_experience(4)\n",
        "instructor1.set_feedback(4.7)\n",
        "print(\"Instructor 1 Eligibility:\", instructor1.check_eligibility())\n",
        "dream_job = input('enter your dream role')\n",
        "instructor1.allocate_role(dream_job)"
      ]
    },
    {
      "cell_type": "code",
      "execution_count": 46,
      "metadata": {},
      "outputs": [
        {
          "name": "stdout",
          "output_type": "stream",
          "text": [
            "Isntuctor ayush has been allocated ['oops', 'python']\n"
          ]
        }
      ],
      "source": [
        "class Instructor:\n",
        "    def __init__(self,name, technology_skill, experience,average_feedback):\n",
        "        self.name = name\n",
        "        self.technology_skill = technology_skill\n",
        "        self.experience = experience\n",
        "        self.average_feedback = average_feedback\n",
        "\n",
        "    \n",
        "    def check_eligiblity(self):\n",
        "        if self.experience >= 3 and self.average_feedback >=4.5 or self.experince <3 and self.average_feedback >=4:\n",
        "            self.passed = self.name\n",
        "    \n",
        "    def allocate_course(self):\n",
        "        if self.name == self.passed:\n",
        "            print(f'Isntuctor {self.name} has been allocated {self.technology_skill}')\n",
        "\n",
        "\n",
        "ayush = Instructor('ayush',['oops','python'],5,4.6)\n",
        "ayush.check_eligiblity()\n",
        "ayush.allocate_course()"
      ]
    },
    {
      "cell_type": "code",
      "execution_count": null,
      "metadata": {},
      "outputs": [],
      "source": []
    }
  ],
  "metadata": {
    "colab": {
      "provenance": []
    },
    "kernelspec": {
      "display_name": "Python 3",
      "name": "python3"
    },
    "language_info": {
      "codemirror_mode": {
        "name": "ipython",
        "version": 3
      },
      "file_extension": ".py",
      "mimetype": "text/x-python",
      "name": "python",
      "nbconvert_exporter": "python",
      "pygments_lexer": "ipython3",
      "version": "3.8.10"
    }
  },
  "nbformat": 4,
  "nbformat_minor": 0
}
