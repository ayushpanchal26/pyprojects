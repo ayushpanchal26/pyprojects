{
 "cells": [
  {
   "cell_type": "markdown",
   "metadata": {},
   "source": [
    "### Some theory\n",
    "types of data used for I/O:\n",
    "+ Text - '12345' as a sequence of unicode chars.\n",
    "+ Binary - 12345 as a sequence of bytes of its binary equivalent.\n",
    "\n",
    "Hence there are 2 files to deal with.\n",
    "+ Text files - All programs files are text files.\n",
    "+ Binary files - Images  ,music , video files "
   ]
  },
  {
   "cell_type": "markdown",
   "metadata": {},
   "source": [
    "### How File  I/O is done in most programming languages\n",
    "\n",
    "+ open file\n",
    "+ Read/write data \n",
    "+ close the file "
   ]
  },
  {
   "cell_type": "code",
   "execution_count": 1,
   "metadata": {},
   "outputs": [],
   "source": [
    "# case 1  - file is not open present \n",
    "f = open('sample.txt','w')\n",
    "f.write('hello world')\n",
    "f.close()\n",
    "# since the file is closed this will not work \n",
    "# f.write('hello')"
   ]
  },
  {
   "cell_type": "code",
   "execution_count": 2,
   "metadata": {},
   "outputs": [],
   "source": [
    "# write multiline strings\n",
    "f  = open('sample2.txt','w')\n",
    "f.write('hello world ')\n",
    "f.write('\\n who are you ')\n",
    "f.close()\n"
   ]
  },
  {
   "cell_type": "code",
   "execution_count": null,
   "metadata": {},
   "outputs": [],
   "source": []
  },
  {
   "cell_type": "code",
   "execution_count": 3,
   "metadata": {},
   "outputs": [],
   "source": [
    "# case 2 - if the file is already present \n",
    "f = open('sample.txt','w')\n",
    "f.write('salman khan')\n",
    "f.close()"
   ]
  },
  {
   "cell_type": "code",
   "execution_count": 4,
   "metadata": {},
   "outputs": [],
   "source": [
    "# problem with w mode \n",
    "# intoducing append mode\n",
    "f = open('sample.txt','a')\n",
    "f.write('\\nI am fine')\n",
    "f.close()"
   ]
  },
  {
   "cell_type": "code",
   "execution_count": 5,
   "metadata": {},
   "outputs": [],
   "source": [
    "# write lines \n",
    "l = ['\\nhello ','hi ','how are you','i am fine']\n",
    "f = open('sample.txt','a')\n",
    "f.writelines(l)\n",
    "f.close()"
   ]
  },
  {
   "cell_type": "code",
   "execution_count": 6,
   "metadata": {},
   "outputs": [
    {
     "name": "stdout",
     "output_type": "stream",
     "text": [
      "salman kha\n"
     ]
    }
   ],
   "source": [
    "# reading from files \n",
    "# -> using read()\n",
    "f  = open('sample.txt','r')\n",
    "s = f.read(10)\n",
    "print(s)\n",
    "f.close()"
   ]
  },
  {
   "cell_type": "code",
   "execution_count": 7,
   "metadata": {},
   "outputs": [
    {
     "name": "stdout",
     "output_type": "stream",
     "text": [
      "salman khan\n",
      "\n",
      "I am fine\n",
      "\n"
     ]
    }
   ],
   "source": [
    "# readline() -> to read line by line \n",
    "f = open('sample.txt','r')\n",
    "print(f.readline())\n",
    "print(f.readline())\n",
    "f.close()"
   ]
  },
  {
   "cell_type": "markdown",
   "metadata": {},
   "source": [
    "readline - helps while used in big files where we can load a file in once.\n",
    "and when working with small file use read function.\n"
   ]
  },
  {
   "cell_type": "code",
   "execution_count": 8,
   "metadata": {},
   "outputs": [
    {
     "name": "stdout",
     "output_type": "stream",
     "text": [
      "salman khan\n",
      "I am fine\n",
      "hello hi how are youi am fine"
     ]
    }
   ],
   "source": [
    "# reading entire using readline\n",
    "f = open('sample.txt','r')\n",
    "\n",
    "while True:\n",
    "    data  = f.readline()\n",
    "\n",
    "    if data == '':\n",
    "        break\n",
    "    else:\n",
    "        print(data,end='')\n",
    "\n",
    "f.close()"
   ]
  },
  {
   "cell_type": "markdown",
   "metadata": {},
   "source": [
    "### using context Manager(with)\n",
    "+ It's a good idea to close a file after usage as it will free up the resources.\n",
    "+ If we don't close it, garbage collector would close it.\n",
    "+ with keyword closes the file as soon as the usage is over."
   ]
  },
  {
   "cell_type": "code",
   "execution_count": 9,
   "metadata": {},
   "outputs": [],
   "source": [
    "# with\n",
    "with open('sample2.txt','w') as f:\n",
    "    f.write('selmon bhai')\n"
   ]
  },
  {
   "cell_type": "code",
   "execution_count": 10,
   "metadata": {},
   "outputs": [
    {
     "name": "stdout",
     "output_type": "stream",
     "text": [
      "selmon bhai\n"
     ]
    }
   ],
   "source": [
    "# try with f.read() now\n",
    "with open('sample2.txt','r') as f:\n",
    "    print(f.read())"
   ]
  },
  {
   "cell_type": "code",
   "execution_count": 11,
   "metadata": {},
   "outputs": [
    {
     "name": "stdout",
     "output_type": "stream",
     "text": [
      "[('a', 'a'), ('b', 'b'), ('c', 'c'), ('d', 'd')]\n"
     ]
    }
   ],
   "source": [
    "s = \"abcd\"\n",
    "t = \"abcde\"\n",
    "print(list(zip(s,t)))"
   ]
  },
  {
   "cell_type": "code",
   "execution_count": 12,
   "metadata": {},
   "outputs": [
    {
     "data": {
      "text/plain": [
       "['a', 'y', 'u', 's', 'h', ' ', 'i', 's', ' ', 'h', 'e', 'r', 'e']"
      ]
     },
     "execution_count": 12,
     "metadata": {},
     "output_type": "execute_result"
    }
   ],
   "source": [
    "s= 'ayush is here'\n",
    "l = []\n",
    "for i in s:\n",
    "    l.append(i)\n",
    "l\n"
   ]
  },
  {
   "cell_type": "code",
   "execution_count": 13,
   "metadata": {},
   "outputs": [
    {
     "name": "stdout",
     "output_type": "stream",
     "text": [
      "salman kha\n",
      "n\n",
      "I am fin\n"
     ]
    }
   ],
   "source": [
    "# moving within a file -> char than 10 char\n",
    "with open('sample.txt','r') as f:\n",
    "    print(f.read(10))\n",
    "    print(f.read(10))"
   ]
  },
  {
   "cell_type": "code",
   "execution_count": 14,
   "metadata": {},
   "outputs": [],
   "source": [
    "# benifits ? -> to load a big file in memory \n",
    "big_l = ['hellow world' for i in range(1000)]\n",
    "\n",
    "with open('big.txt','w') as f:\n",
    "    f.writelines(big_l)"
   ]
  },
  {
   "cell_type": "code",
   "execution_count": 15,
   "metadata": {},
   "outputs": [
    {
     "name": "stdout",
     "output_type": "stream",
     "text": [
      "ldhellow w***ow worldhe***ldhellow w***ow worldhe***ldhellow w***ow worldhe***ldhellow w***ow worldhe***ldhellow w***ow worldhe***ldhellow w***ow worldhe***ldhellow w***ow worldhe***ldhellow w***ow worldhe***ldhellow w***ow worldhe***ldhellow w***ow worldhe***ldhellow w***ow worldhe***ldhellow w***ow worldhe***ldhellow w***ow worldhe***ldhellow w***ow worldhe***ldhellow w***ow worldhe***ldhellow w***ow worldhe***ldhellow w***ow worldhe***ldhellow w***ow worldhe***ldhellow w***ow worldhe***ldhellow w***ow worldhe***ldhellow w***ow worldhe***ldhellow w***ow worldhe***ldhellow w***ow worldhe***ldhellow w***ow worldhe***ldhellow w***ow worldhe***ldhellow w***ow worldhe***ldhellow w***ow worldhe***ldhellow w***ow worldhe***ldhellow w***ow worldhe***ldhellow w***ow worldhe***ldhellow w***ow worldhe***ldhellow w***ow worldhe***ldhellow w***ow worldhe***ldhellow w***ow worldhe***ldhellow w***ow worldhe***ldhellow w***ow worldhe***ldhellow w***ow worldhe***ldhellow w***ow worldhe***ldhellow w***ow worldhe***ldhellow w***ow worldhe***ldhellow w***ow worldhe***ldhellow w***ow worldhe***ldhellow w***ow worldhe***ldhellow w***ow worldhe***ldhellow w***ow worldhe***ldhellow w***ow worldhe***ldhellow w***ow worldhe***ldhellow w***ow worldhe***ldhellow w***ow worldhe***ldhellow w***ow worldhe***ldhellow w***ow worldhe***ldhellow w***ow worldhe***ldhellow w***ow worldhe***ldhellow w***ow worldhe***ldhellow w***ow worldhe***ldhellow w***ow worldhe***ldhellow w***ow worldhe***ldhellow w***ow worldhe***ldhellow w***ow worldhe***ldhellow w***ow worldhe***ldhellow w***ow worldhe***ldhellow w***ow worldhe***ldhellow w***ow worldhe***ldhellow w***ow worldhe***ldhellow w***ow worldhe***ldhellow w***ow worldhe***ldhellow w***ow worldhe***ldhellow w***ow worldhe***ldhellow w***ow worldhe***ldhellow w***ow worldhe***ldhellow w***ow worldhe***ldhellow w***ow worldhe***ldhellow w***ow worldhe***ldhellow w***ow worldhe***ldhellow w***ow worldhe***ldhellow w***ow worldhe***ldhellow w***ow worldhe***ldhellow w***ow worldhe***ldhellow w***ow worldhe***ldhellow w***ow worldhe***ldhellow w***ow worldhe***ldhellow w***ow worldhe***ldhellow w***ow worldhe***ldhellow w***ow worldhe***ldhellow w***ow worldhe***ldhellow w***ow worldhe***ldhellow w***ow worldhe***ldhellow w***ow worldhe***ldhellow w***ow worldhe***ldhellow w***ow worldhe***ldhellow w***ow worldhe***ldhellow w***ow worldhe***ldhellow w***ow worldhe***ldhellow w***ow worldhe***ldhellow w***ow worldhe***ldhellow w***ow worldhe***ldhellow w***ow worldhe***ldhellow w***ow worldhe***ldhellow w***ow worldhe***ldhellow w***ow worldhe***ldhellow w***ow worldhe***ldhellow w***ow worldhe***ldhellow w***ow worldhe***ldhellow w***ow worldhe***ldhellow w***ow worldhe***ldhellow w***ow worldhe***ldhellow w***ow worldhe***ldhellow w***ow worldhe***ldhellow w***ow worldhe***ldhellow w***ow worldhe***ldhellow w***ow worldhe***ldhellow w***ow worldhe***ldhellow w***ow worldhe***ldhellow w***ow worldhe***ldhellow w***ow worldhe***ldhellow w***ow worldhe***ldhellow w***ow worldhe***ldhellow w***ow worldhe***ldhellow w***ow worldhe***ldhellow w***ow worldhe***ldhellow w***ow worldhe***ldhellow w***ow worldhe***ldhellow w***ow worldhe***ldhellow w***ow worldhe***ldhellow w***ow worldhe***ldhellow w***ow worldhe***ldhellow w***ow worldhe***ldhellow w***ow worldhe***ldhellow w***ow worldhe***ldhellow w***ow worldhe***ldhellow w***ow worldhe***ldhellow w***ow worldhe***ldhellow w***ow worldhe***ldhellow w***ow worldhe***ldhellow w***ow worldhe***ldhellow w***ow worldhe***ldhellow w***ow worldhe***ldhellow w***ow worldhe***ldhellow w***ow worldhe***ldhellow w***ow worldhe***ldhellow w***ow worldhe***ldhellow w***ow worldhe***ldhellow w***ow worldhe***ldhellow w***ow worldhe***ldhellow w***ow worldhe***ldhellow w***ow worldhe***ldhellow w***ow worldhe***ldhellow w***ow worldhe***ldhellow w***ow worldhe***ldhellow w***ow worldhe***ldhellow w***ow worldhe***ldhellow w***ow worldhe***ldhellow w***ow worldhe***ldhellow w***ow worldhe***ldhellow w***ow worldhe***ldhellow w***ow worldhe***ldhellow w***ow worldhe***ldhellow w***ow worldhe***ldhellow w***ow worldhe***ldhellow w***ow worldhe***ldhellow w***ow worldhe***ldhellow w***ow worldhe***ldhellow w***ow worldhe***ldhellow w***ow worldhe***ldhellow w***ow worldhe***ldhellow w***ow worldhe***ldhellow w***ow worldhe***ldhellow w***ow worldhe***ldhellow w***ow worldhe***ldhellow w***ow worldhe***ldhellow w***ow worldhe***ldhellow w***ow worldhe***ldhellow w***ow worldhe***ldhellow w***ow worldhe***ldhellow w***ow worldhe***ldhellow w***ow worldhe***ldhellow w***ow worldhe***ldhellow w***ow worldhe***ldhellow w***ow worldhe***ldhellow w***ow worldhe***ldhellow w***ow worldhe***ldhellow w***ow worldhe***ldhellow w***ow worldhe***ldhellow w***ow worldhe***ldhellow w***ow worldhe***ldhellow w***ow worldhe***ldhellow w***ow worldhe***ldhellow w***ow worldhe***ldhellow w***ow worldhe***ldhellow w***ow worldhe***ldhellow w***ow worldhe***ldhellow w***ow worldhe***ldhellow w***ow worldhe***ldhellow w***ow worldhe***ldhellow w***ow worldhe***ldhellow w***ow worldhe***ldhellow w***ow worldhe***ldhellow w***ow worldhe***ldhellow w***ow worldhe***ldhellow w***ow worldhe***"
     ]
    }
   ],
   "source": [
    "with open('big.txt','r') as f:\n",
    "    chunk_size = 10\n",
    "\n",
    "    while len(f.read(chunk_size))>0:\n",
    "        print(f.read(chunk_size),end = \"***\")\n",
    "        f.read(chunk_size)"
   ]
  },
  {
   "cell_type": "code",
   "execution_count": 16,
   "metadata": {},
   "outputs": [
    {
     "name": "stdout",
     "output_type": "stream",
     "text": [
      "salman kha\n",
      "10\n",
      "n khan\n",
      "I a\n",
      "16\n"
     ]
    }
   ],
   "source": [
    "# seek and tell functions\n",
    "with open('sample.txt','r') as f:\n",
    "    print(f.read(10))\n",
    "    print(f.tell())\n",
    "    f.seek(5)\n",
    "    print(f.read(10))\n",
    "    print(f.tell())"
   ]
  },
  {
   "cell_type": "code",
   "execution_count": 17,
   "metadata": {},
   "outputs": [],
   "source": [
    "# seek during write\n",
    "with open('sample.txt','w') as f:\n",
    "    f.write('hello')\n",
    "    f.seek(0)\n",
    "    f.write('Xaj')\n"
   ]
  },
  {
   "cell_type": "markdown",
   "metadata": {},
   "source": [
    "### Problems with working in text mode \n",
    "+ can't work with binary files like images\n",
    "+ not good for other data types like int/float/list/tuples"
   ]
  },
  {
   "cell_type": "code",
   "execution_count": 18,
   "metadata": {},
   "outputs": [],
   "source": [
    "\n",
    "# with open('image.png','r') as f:\n",
    "#     f.read()\n"
   ]
  },
  {
   "cell_type": "code",
   "execution_count": 20,
   "metadata": {},
   "outputs": [],
   "source": [
    "# working with binary file\n",
    "with open('image.png','rb') as f:\n",
    "    with open('image_copy.png' ,'wb') as wf:\n",
    "        wf.write(f.read())"
   ]
  },
  {
   "cell_type": "code",
   "execution_count": 22,
   "metadata": {},
   "outputs": [],
   "source": [
    "# working with other data types\n",
    "# with open('sample.txt','w') as f:\n",
    "#     f.write(5)"
   ]
  },
  {
   "cell_type": "code",
   "execution_count": 27,
   "metadata": {},
   "outputs": [],
   "source": [
    "with open('sample.txt','w') as f:\n",
    "    f.write('5')"
   ]
  },
  {
   "cell_type": "code",
   "execution_count": 29,
   "metadata": {},
   "outputs": [
    {
     "name": "stdout",
     "output_type": "stream",
     "text": [
      "10\n"
     ]
    }
   ],
   "source": [
    "\n",
    "with open('sample.txt','r') as f:\n",
    "    print(int(f.read())+ 5)\n"
   ]
  },
  {
   "cell_type": "code",
   "execution_count": 32,
   "metadata": {},
   "outputs": [],
   "source": [
    "d = {\n",
    "    'name':'ayush',\n",
    "    'age':33,\n",
    "    'gender' :'male'\n",
    "}\n",
    "\n",
    "with open('sample.txt','w') as f:\n",
    "    f.write(str(d))"
   ]
  },
  {
   "cell_type": "code",
   "execution_count": 37,
   "metadata": {},
   "outputs": [
    {
     "name": "stdout",
     "output_type": "stream",
     "text": [
      "{'name': 'ayush', 'age': 33, 'gender': 'male'}\n",
      "<class 'str'>\n"
     ]
    }
   ],
   "source": [
    "with open('sample.txt','r') as f:\n",
    "    print(f.read())\n",
    "    print(type(f.read()))"
   ]
  },
  {
   "cell_type": "code",
   "execution_count": 38,
   "metadata": {},
   "outputs": [
    {
     "ename": "ValueError",
     "evalue": "dictionary update sequence element #0 has length 1; 2 is required",
     "output_type": "error",
     "traceback": [
      "\u001b[1;31m---------------------------------------------------------------------------\u001b[0m",
      "\u001b[1;31mValueError\u001b[0m                                Traceback (most recent call last)",
      "Cell \u001b[1;32mIn[38], line 2\u001b[0m\n\u001b[0;32m      1\u001b[0m \u001b[38;5;28;01mwith\u001b[39;00m \u001b[38;5;28mopen\u001b[39m(\u001b[38;5;124m'\u001b[39m\u001b[38;5;124msample.txt\u001b[39m\u001b[38;5;124m'\u001b[39m,\u001b[38;5;124m'\u001b[39m\u001b[38;5;124mr\u001b[39m\u001b[38;5;124m'\u001b[39m) \u001b[38;5;28;01mas\u001b[39;00m f:\n\u001b[1;32m----> 2\u001b[0m     \u001b[38;5;28mprint\u001b[39m(\u001b[38;5;28;43mdict\u001b[39;49m\u001b[43m(\u001b[49m\u001b[43mf\u001b[49m\u001b[38;5;241;43m.\u001b[39;49m\u001b[43mread\u001b[49m\u001b[43m(\u001b[49m\u001b[43m)\u001b[49m\u001b[43m)\u001b[49m)\n",
      "\u001b[1;31mValueError\u001b[0m: dictionary update sequence element #0 has length 1; 2 is required"
     ]
    }
   ],
   "source": [
    "with open('sample.txt','r') as f:\n",
    "    print(dict(f.read()))"
   ]
  },
  {
   "cell_type": "markdown",
   "metadata": {},
   "source": [
    "### serilization and deserialization\n",
    "+ Serialization - process of converting python data types to JSON format\n",
    "+ Deserlization - process of converting  JSON to python data types\n",
    "\n",
    "\n",
    "JSON -- javascipt on notation\n"
   ]
  },
  {
   "cell_type": "code",
   "execution_count": 39,
   "metadata": {},
   "outputs": [],
   "source": [
    "# JSON is universal text format which is understadable by all the programming languages"
   ]
  },
  {
   "cell_type": "code",
   "execution_count": 40,
   "metadata": {},
   "outputs": [],
   "source": [
    "# serialization using json module \n",
    "import json\n",
    "\n",
    "l = [1,2,3,4,5]\n",
    "with open('demo.json','w') as f:\n",
    "    json.dump(l,f)"
   ]
  },
  {
   "cell_type": "code",
   "execution_count": 45,
   "metadata": {},
   "outputs": [],
   "source": [
    "d  ={\n",
    "    'name':'ayush',\n",
    "    'age':33,\n",
    "    'gender':'male'\n",
    "\n",
    "}\n",
    "\n",
    "with open('demo.json','w') as f:\n",
    "    json.dump(d,f,indent=4)"
   ]
  },
  {
   "cell_type": "code",
   "execution_count": 49,
   "metadata": {},
   "outputs": [
    {
     "name": "stdout",
     "output_type": "stream",
     "text": [
      "{'name': 'ayush', 'age': 33, 'gender': 'male'}\n",
      "<class 'dict'>\n"
     ]
    }
   ],
   "source": [
    "# deserlization \n",
    "import json\n",
    "with open('demo.json','r') as f:\n",
    "    d = json.load(f)\n",
    "    print(d)   \n",
    "    print(type(d))"
   ]
  },
  {
   "cell_type": "code",
   "execution_count": 51,
   "metadata": {},
   "outputs": [],
   "source": [
    "# serialize and deserialize tuple\n",
    "import json\n",
    "t = (1,2,3,4,5)\n",
    "with open('demo.json', 'w') as f:\n",
    "    json.dump(t,f)"
   ]
  },
  {
   "cell_type": "code",
   "execution_count": 54,
   "metadata": {},
   "outputs": [],
   "source": [
    "# serialize and deserialize a nested dict\n",
    "d = {\n",
    "    'stundet':'ayush',\n",
    "    'marks':[23,14,34,45,56]\n",
    "}\n",
    "\n",
    "with open('demo.json','w') as f:\n",
    "    json.dump(d,f,indent=4)"
   ]
  },
  {
   "cell_type": "markdown",
   "metadata": {},
   "source": [
    "### serializing and deserializing custom objects\n",
    "\n",
    "\n",
    "\n",
    "\n",
    "\n",
    "\n",
    "\n",
    "\n",
    "\n",
    "\n",
    "\n",
    "\n",
    "\n",
    "\n",
    "\n",
    "\n",
    "\n"
   ]
  },
  {
   "cell_type": "code",
   "execution_count": 58,
   "metadata": {},
   "outputs": [],
   "source": [
    "class Person:\n",
    "    def __init__(self, fname ,lname,age,gender):\n",
    "        self.fname = fname\n",
    "        self.lname = lname\n",
    "        self.age  = age\n",
    "        self.gender = gender\n",
    "# format to prntes in\n",
    "# -> ayush panchal age-> 19 gender -> male\n",
    "\n"
   ]
  },
  {
   "cell_type": "code",
   "execution_count": 59,
   "metadata": {},
   "outputs": [],
   "source": [
    "person  = Person('ayush','panchal',19,'male')\n"
   ]
  },
  {
   "cell_type": "code",
   "execution_count": 63,
   "metadata": {},
   "outputs": [],
   "source": [
    "import json\n",
    "\n",
    "def show_object(person):\n",
    "    if isinstance(person,Person):\n",
    "        return f'{person.fname} {person.lname} age -> {person.age} gender - > {person.gender}'\n",
    "    \n",
    "\n",
    "with open('demo.json','w') as f:\n",
    "    json.dump(person,f,default=show_object)"
   ]
  },
  {
   "cell_type": "code",
   "execution_count": 65,
   "metadata": {},
   "outputs": [],
   "source": [
    "# as a dict\n",
    "\n",
    "import json\n",
    "\n",
    "def show_object(person):\n",
    "    if isinstance(person,Person):\n",
    "        return {'name':person.fname + ' '+person.lname ,'age':person.age,'gender':person.gender}\n",
    "    \n",
    "\n",
    "with open('demo.json','w') as f:\n",
    "    json.dump(person,f,default=show_object,indent= 4)"
   ]
  },
  {
   "cell_type": "code",
   "execution_count": 66,
   "metadata": {},
   "outputs": [
    {
     "name": "stdout",
     "output_type": "stream",
     "text": [
      "{'name': 'ayush panchal', 'age': 19, 'gender': 'male'}\n",
      "<class 'dict'>\n"
     ]
    }
   ],
   "source": [
    "# deserializating\n",
    "import json\n",
    "with open('demo.json','r') as f:\n",
    "    d = json.load(f)\n",
    "    print(d)\n",
    "    print(type(d))"
   ]
  },
  {
   "cell_type": "markdown",
   "metadata": {},
   "source": [
    "### Pickling \n",
    "pickling is the process whereby a Python object hierachy is converted into a byte stream, and unpickling is inverse operation , whereby a byte stream(from a binary file or bytes-like object) is coverted back into an object hierarchy."
   ]
  },
  {
   "cell_type": "code",
   "execution_count": 75,
   "metadata": {},
   "outputs": [],
   "source": [
    "class Person:\n",
    "    def __init__(self,name , age):\n",
    "        self.name  = name \n",
    "        self.age = age\n",
    "\n",
    "    def display_info(self):\n",
    "        print(f'hi my name is {self.name} and i am {self.age} years old')"
   ]
  },
  {
   "cell_type": "code",
   "execution_count": 76,
   "metadata": {},
   "outputs": [],
   "source": [
    "p = Person('ayush',19)"
   ]
  },
  {
   "cell_type": "code",
   "execution_count": 77,
   "metadata": {},
   "outputs": [],
   "source": [
    "# pickle dump \n",
    "import pickle\n",
    "with open('person.pkl','wb') as f:\n",
    "    pickle.dump(p,f)"
   ]
  },
  {
   "cell_type": "code",
   "execution_count": 79,
   "metadata": {},
   "outputs": [
    {
     "name": "stdout",
     "output_type": "stream",
     "text": [
      "hi my name is ayush and i am 19 years old\n"
     ]
    }
   ],
   "source": [
    "# pickle load\n",
    "\n",
    "import pickle\n",
    "with open('person.pkl','rb') as f:\n",
    "    p = pickle.load(f)\n",
    "    p.display_info()"
   ]
  },
  {
   "cell_type": "markdown",
   "metadata": {},
   "source": [
    "### Picke vs Json\n",
    "+ pickle lets the users to store data in binary format.\n",
    "+ JSON lets the user store data in a human readable format."
   ]
  },
  {
   "cell_type": "code",
   "execution_count": null,
   "metadata": {},
   "outputs": [],
   "source": []
  }
 ],
 "metadata": {
  "kernelspec": {
   "display_name": "Python 3",
   "language": "python",
   "name": "python3"
  },
  "language_info": {
   "codemirror_mode": {
    "name": "ipython",
    "version": 3
   },
   "file_extension": ".py",
   "mimetype": "text/x-python",
   "name": "python",
   "nbconvert_exporter": "python",
   "pygments_lexer": "ipython3",
   "version": "3.8.10"
  }
 },
 "nbformat": 4,
 "nbformat_minor": 2
}
