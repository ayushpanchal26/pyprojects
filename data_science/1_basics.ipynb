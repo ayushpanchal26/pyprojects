{
 "cells": [
  {
   "cell_type": "code",
   "execution_count": 9,
   "metadata": {},
   "outputs": [],
   "source": [
    "email = input('enter email')\n",
    "password = input('enter password')\n",
    "\n",
    "if ('@gmail.com' in email ) and password == '1234':\n",
    "    print('yes you logged in ')"
   ]
  },
  {
   "cell_type": "code",
   "execution_count": 10,
   "metadata": {},
   "outputs": [],
   "source": [
    "menu  = input(\"\"\"\n",
    "hi \n",
    "1 - pin change \n",
    "2 - balance check \n",
    "3 - withdrawl \n",
    "4 - exit\n",
    "\"\"\")\n",
    "password = '123445'\n",
    "balance = 34234\n",
    "\n",
    "if menu == '1':\n",
    "    password == input('enter he new password')\n",
    "\n",
    "elif menu == '2':\n",
    "    print(f'you balance is {balance}')\n",
    "\n",
    "elif menu == '3':\n",
    "    amount  =  int(input('enter amount'))\n",
    "    if amount > balance:\n",
    "        print(\"not avaiable\")\n",
    "    else:\n",
    "        balance = balance - amount \n",
    "        print(f\"amount withdrawl : {amount} remaining balance {balance}\")\n",
    "else:\n",
    "    exit"
   ]
  },
  {
   "cell_type": "markdown",
   "metadata": {},
   "source": [
    "Modules\n"
   ]
  },
  {
   "cell_type": "code",
   "execution_count": 11,
   "metadata": {},
   "outputs": [
    {
     "data": {
      "text/plain": [
       "14.0"
      ]
     },
     "execution_count": 11,
     "metadata": {},
     "output_type": "execute_result"
    }
   ],
   "source": [
    "# math \n",
    "import math\n",
    "math.factorial(5)\n",
    "math.floor(6)\n",
    "math.sqrt(196)"
   ]
  },
  {
   "cell_type": "code",
   "execution_count": 12,
   "metadata": {},
   "outputs": [
    {
     "name": "stdout",
     "output_type": "stream",
     "text": [
      "['False', 'None', 'True', 'and', 'as', 'assert', 'async', 'await', 'break', 'class', 'continue', 'def', 'del', 'elif', 'else', 'except', 'finally', 'for', 'from', 'global', 'if', 'import', 'in', 'is', 'lambda', 'nonlocal', 'not', 'or', 'pass', 'raise', 'return', 'try', 'while', 'with', 'yield']\n"
     ]
    }
   ],
   "source": [
    "# keyword\n",
    "import keyword\n",
    "print(keyword.kwlist)"
   ]
  },
  {
   "cell_type": "code",
   "execution_count": 13,
   "metadata": {},
   "outputs": [
    {
     "name": "stdout",
     "output_type": "stream",
     "text": [
      "73\n"
     ]
    }
   ],
   "source": [
    "# random\n",
    "import random\n",
    "print(random.randint(1,100))"
   ]
  },
  {
   "cell_type": "code",
   "execution_count": 14,
   "metadata": {},
   "outputs": [
    {
     "name": "stdout",
     "output_type": "stream",
     "text": [
      "<built-in method now of type object at 0x00007FF8AFFEB530>\n"
     ]
    }
   ],
   "source": [
    "# datetime\n",
    "import datetime\n",
    "print(datetime.datetime.now)"
   ]
  },
  {
   "cell_type": "code",
   "execution_count": 15,
   "metadata": {},
   "outputs": [
    {
     "name": "stdout",
     "output_type": "stream",
     "text": [
      "\n",
      "Please wait a moment while I gather a list of all available modules...\n",
      "\n",
      "IPython             audioop             linecache           sre_parse\n",
      "PIL                 babel               locale              ssl\n",
      "__future__          backcall            logging             sspi\n",
      "_abc                base64              lzma                sspicon\n",
      "_argon2_cffi_bindings basics              mailbox             stack_data\n",
      "_ast                bdb                 mailcap             start_pythonwin\n",
      "_asyncio            binascii            markupsafe          stat\n",
      "_asyncio_d          binhex              marshal             statistics\n",
      "_bisect             bisect              math                string\n",
      "_blake2             bleach              matplotlib          stringprep\n",
      "_bootlocale         bs4                 matplotlib_inline   struct\n",
      "_bz2                builtins            mimetypes           subprocess\n",
      "_bz2_d              bz2                 mistune             sunau\n",
      "_cffi_backend       cProfile            mmap                symbol\n",
      "_codecs             calendar            mmapfile            symtable\n",
      "_codecs_cn          certifi             mmsystem            sys\n",
      "_codecs_hk          cffi                modulefinder        sysconfig\n",
      "_codecs_iso2022     cgi                 mpl_toolkits        tabnanny\n",
      "_codecs_jp          cgitb               msilib              tarfile\n",
      "_codecs_kr          charset_normalizer  msvcrt              telnetlib\n",
      "_codecs_tw          chunk               multiprocessing     tempfile\n",
      "_collections        cmath               nbclient            terminado\n",
      "_collections_abc    cmd                 nbconvert           test\n",
      "_compat_pickle      code                nbformat            textwrap\n",
      "_compression        codecs              nest_asyncio        this\n",
      "_contextvars        codeop              netbios             threading\n",
      "_csv                collections         netrc               threadpoolctl\n",
      "_ctypes             colorama            nntplib             time\n",
      "_ctypes_d           colorsys            notebook_shim       timeit\n",
      "_ctypes_test        comm                nt                  timer\n",
      "_ctypes_test_d      commctrl            ntpath              tinycss2\n",
      "_datetime           compileall          ntsecuritycon       tkinter\n",
      "_decimal            concurrent          nturl2path          token\n",
      "_decimal_d          configparser        numbers             tokenize\n",
      "_distutils_hack     contextlib          numpy               tomli\n",
      "_dummy_thread       contextvars         odbc                tornado\n",
      "_elementtree        contourpy           opcode              trace\n",
      "_elementtree_d      copy                operator            traceback\n",
      "_functools          copyreg             optparse            tracemalloc\n",
      "_hashlib            crypt               os                  traitlets\n",
      "_hashlib_d          csv                 overrides           tty\n",
      "_heapq              ctypes              packaging           turtle\n",
      "_imp                curses              pandas              turtledemo\n",
      "_io                 cycler              pandocfilters       types\n",
      "_json               dataclasses         parser              typing\n",
      "_locale             datetime            parso               typing_extensions\n",
      "_lsprof             dateutil            pathlib             tzdata\n",
      "_lzma               dbi                 pdb                 unicodedata\n",
      "_lzma_d             dbm                 perfmon             unicodedata_d\n",
      "_markupbase         dde                 pickle              unittest\n",
      "_md5                debugpy             pickleshare         uri_template\n",
      "_msi                decimal             pickletools         urllib\n",
      "_msi_d              decorator           pip                 urllib3\n",
      "_multibytecodec     defusedxml          pipes               uu\n",
      "_multiprocessing    difflib             pkg_resources       uuid\n",
      "_multiprocessing_d  dis                 pkgutil             venv\n",
      "_opcode             distutils           pkgutil_resolve_name warnings\n",
      "_operator           doctest             platform            wave\n",
      "_osx_support        dummy_threading     platformdirs        wcwidth\n",
      "_overlapped         email               plistlib            weakref\n",
      "_overlapped_d       encodings           poplib              webbrowser\n",
      "_pickle             ensurepip           posixpath           webcolors\n",
      "_py_abc             enum                pprint              webencodings\n",
      "_pydecimal          errno               profile             websocket\n",
      "_pyio               exceptiongroup      prometheus_client   win2kras\n",
      "_queue              executing           prompt_toolkit      win32api\n",
      "_queue_d            fastjsonschema      pstats              win32clipboard\n",
      "_random             faulthandler        psutil              win32com\n",
      "_sha1               feedparser          pty                 win32con\n",
      "_sha256             filecmp             pure_eval           win32console\n",
      "_sha3               fileinput           py_compile          win32cred\n",
      "_sha512             fnmatch             pyclbr              win32crypt\n",
      "_signal             fontTools           pycparser           win32cryptcon\n",
      "_sitebuiltins       formatter           pydoc               win32event\n",
      "_socket             fqdn                pydoc_data          win32evtlog\n",
      "_socket_d           fractions           pyexpat             win32evtlogutil\n",
      "_sqlite3            ftplib              pyexpat_d           win32file\n",
      "_sqlite3_d          functools           pygments            win32gui\n",
      "_sre                gc                  pylab               win32gui_struct\n",
      "_ssl                genericpath         pyparsing           win32help\n",
      "_ssl_d              getopt              pythoncom           win32inet\n",
      "_stat               getpass             pythonjsonlogger    win32inetcon\n",
      "_statistics         gettext             pytz                win32job\n",
      "_string             glob                pywin               win32lz\n",
      "_strptime           gzip                pywin32_bootstrap   win32net\n",
      "_struct             h11                 pywin32_testutil    win32netcon\n",
      "_symtable           hashlib             pywintypes          win32pdh\n",
      "_testbuffer         heapq               queue               win32pdhquery\n",
      "_testbuffer_d       hmac                quopri              win32pdhutil\n",
      "_testcapi           html                random              win32pipe\n",
      "_testcapi_d         http                rasutil             win32print\n",
      "_testconsole        httpcore            re                  win32process\n",
      "_testconsole_d      httpx               reader              win32profile\n",
      "_testimportmultiple idlelib             referencing         win32ras\n",
      "_testimportmultiple_d idna                regcheck            win32rcparser\n",
      "_testinternalcapi   imaplib             regutil             win32security\n",
      "_testinternalcapi_d imghdr              reprlib             win32service\n",
      "_testmultiphase     imp                 requests            win32serviceutil\n",
      "_testmultiphase_d   importlib           rfc3339_validator   win32timezone\n",
      "_thread             importlib_metadata  rfc3986_validator   win32trace\n",
      "_threading_local    importlib_resources rlcompleter         win32traceutil\n",
      "_tkinter            inspect             rpds                win32transaction\n",
      "_tkinter_d          io                  runpy               win32ts\n",
      "_tracemalloc        ipaddress           sched               win32ui\n",
      "_warnings           ipykernel           scipy               win32uiole\n",
      "_weakref            ipykernel_launcher  seaborn             win32verstamp\n",
      "_weakrefset         isapi               secrets             win32wnet\n",
      "_win32sysloader     iso8601             select              winerror\n",
      "_winapi             isoduration         select_d            winioctlcon\n",
      "_winxptheme         itertools           selectors           winnt\n",
      "_xxsubinterpreters  jedi                send2trash          winperf\n",
      "_yaml               jinja2              servicemanager      winpty\n",
      "abc                 joblib              setuptools          winreg\n",
      "adodbapi            json                sgmllib             winsound\n",
      "afxres              json5               shelve              winsound_d\n",
      "aifc                jsonpointer         shlex               winxpgui\n",
      "antigravity         jsonschema          shutil              winxptheme\n",
      "anyio               jsonschema_specifications signal              wsgiref\n",
      "argon2              jupyter             site                xdrlib\n",
      "argparse            jupyter_client      six                 xml\n",
      "array               jupyter_core        sklearn             xmlrpc\n",
      "arrow               jupyter_events      smtpd               xxsubtype\n",
      "ast                 jupyter_lsp         smtplib             yaml\n",
      "asttokens           jupyter_server      sndhdr              zipapp\n",
      "async_lru           jupyter_server_terminals sniffio             zipfile\n",
      "asynchat            jupyterlab          socket              zipimport\n",
      "asyncio             jupyterlab_pygments socketserver        zipp\n",
      "asyncore            jupyterlab_server   soupsieve           zlib\n",
      "atexit              keyword             sqlite3             zmq\n",
      "attr                kiwisolver          sre_compile         \n",
      "attrs               lib2to3             sre_constants       \n",
      "\n",
      "Enter any module name to get more help.  Or, type \"modules spam\" to search\n",
      "for modules whose name or summary contain the string \"spam\".\n",
      "\n"
     ]
    }
   ],
   "source": [
    "help('modules')"
   ]
  },
  {
   "cell_type": "markdown",
   "metadata": {},
   "source": [
    "Loops in python\n"
   ]
  },
  {
   "cell_type": "markdown",
   "metadata": {},
   "source": [
    "while loop \n"
   ]
  },
  {
   "cell_type": "code",
   "execution_count": 16,
   "metadata": {},
   "outputs": [
    {
     "name": "stdout",
     "output_type": "stream",
     "text": [
      "44 x 1 = 44\n",
      "44 x 2 = 88\n",
      "44 x 3 = 132\n",
      "44 x 4 = 176\n",
      "44 x 5 = 220\n",
      "44 x 6 = 264\n",
      "44 x 7 = 308\n",
      "44 x 8 = 352\n",
      "44 x 9 = 396\n",
      "44 x 10 = 440\n"
     ]
    }
   ],
   "source": [
    "\n",
    "number  = int(input(\"Enter\"))\n",
    "i = 1\n",
    "while i<11:\n",
    "    print(f'{number} x {i} = {number * i }')\n",
    "    i+=1"
   ]
  },
  {
   "cell_type": "code",
   "execution_count": 17,
   "metadata": {},
   "outputs": [
    {
     "name": "stdout",
     "output_type": "stream",
     "text": [
      "1\n",
      "2\n",
      "limit cross\n"
     ]
    }
   ],
   "source": [
    "# while loop with else\n",
    "x = 1\n",
    "\n",
    "while x < 3:\n",
    "    print(x)\n",
    "    x += 1\n",
    "else:\n",
    "    print('limit cross') # when the loop breaks else code executes"
   ]
  },
  {
   "cell_type": "code",
   "execution_count": 18,
   "metadata": {},
   "outputs": [
    {
     "name": "stdout",
     "output_type": "stream",
     "text": [
      "guess higher\n",
      "guess higher\n",
      "guess higher\n",
      "guess lower\n",
      "guess lower\n",
      "guess lower\n",
      "guess higher\n",
      "guess higher\n",
      "guess higher\n",
      "guess higher\n",
      "guess lower\n"
     ]
    },
    {
     "ename": "ValueError",
     "evalue": "invalid literal for int() with base 10: ''",
     "output_type": "error",
     "traceback": [
      "\u001b[1;31m---------------------------------------------------------------------------\u001b[0m",
      "\u001b[1;31mValueError\u001b[0m                                Traceback (most recent call last)",
      "Cell \u001b[1;32mIn[18], line 10\u001b[0m\n\u001b[0;32m      7\u001b[0m     \u001b[38;5;28;01melif\u001b[39;00m num\u001b[38;5;241m<\u001b[39m jackpot:\n\u001b[0;32m      8\u001b[0m         \u001b[38;5;28mprint\u001b[39m(\u001b[38;5;124m'\u001b[39m\u001b[38;5;124mguess higher\u001b[39m\u001b[38;5;124m'\u001b[39m)\n\u001b[1;32m---> 10\u001b[0m     num  \u001b[38;5;241m=\u001b[39m \u001b[38;5;28;43mint\u001b[39;49m\u001b[43m(\u001b[49m\u001b[38;5;28;43minput\u001b[39;49m\u001b[43m(\u001b[49m\u001b[38;5;124;43m'\u001b[39;49m\u001b[38;5;124;43menter\u001b[39;49m\u001b[38;5;124;43m'\u001b[39;49m\u001b[43m)\u001b[49m\u001b[43m)\u001b[49m\n\u001b[0;32m     11\u001b[0m     i \u001b[38;5;241m+\u001b[39m\u001b[38;5;241m=\u001b[39m \u001b[38;5;241m1\u001b[39m\n\u001b[0;32m     13\u001b[0m \u001b[38;5;28;01melse\u001b[39;00m:\n",
      "\u001b[1;31mValueError\u001b[0m: invalid literal for int() with base 10: ''"
     ]
    }
   ],
   "source": [
    "\n",
    "jackpot = random.randint(1,100)\n",
    "i = 0\n",
    "num  = int(input('enter'))\n",
    "while i != jackpot:\n",
    "    if num>jackpot:\n",
    "        print('guess lower')\n",
    "    elif num< jackpot:\n",
    "        print('guess higher')\n",
    "\n",
    "    num  = int(input('enter'))\n",
    "    i += 1\n",
    "\n",
    "else:\n",
    "    print('correct')"
   ]
  },
  {
   "cell_type": "markdown",
   "metadata": {},
   "source": [
    "for loop "
   ]
  },
  {
   "cell_type": "markdown",
   "metadata": {},
   "source": [
    "Program - The cureent population of town is 10000 . the population of the town is increasing at the rate of 10% per year. You have to write a program to find out the population at the end of each of the last 10 years"
   ]
  },
  {
   "cell_type": "code",
   "execution_count": 19,
   "metadata": {},
   "outputs": [
    {
     "name": "stdout",
     "output_type": "stream",
     "text": [
      "10 10000\n",
      "9 9090.90909090909\n",
      "8 8264.462809917353\n",
      "7 7513.148009015775\n",
      "6 6830.134553650703\n",
      "5 6209.213230591548\n",
      "4 5644.739300537771\n",
      "3 5131.5811823070635\n",
      "2 4665.07380209733\n",
      "1 4240.976183724845\n"
     ]
    }
   ],
   "source": [
    "\n",
    "current_population = 10000\n",
    "for i in range(10,0,-1):\n",
    "    print(i , current_population)\n",
    "    current_population = current_population /1.1"
   ]
  },
  {
   "cell_type": "markdown",
   "metadata": {},
   "source": [
    "Pogram - wap for the series --> 1/1! + 2/2! + 3/3!+ .....n"
   ]
  },
  {
   "cell_type": "code",
   "execution_count": 26,
   "metadata": {},
   "outputs": [
    {
     "name": "stdout",
     "output_type": "stream",
     "text": [
      "2.71827876984127\n"
     ]
    }
   ],
   "source": [
    "import math \n",
    "n = int(input('enter'))\n",
    "temp = 0\n",
    "fact = 1 \n",
    "for i in range(1,n+1):\n",
    "    temp +=i/(math.factorial(i))\n",
    "    # fact = fact * i \n",
    "    # temp = temp + i/fact\n",
    "\n",
    "print(temp)\n",
    "\n"
   ]
  },
  {
   "cell_type": "markdown",
   "metadata": {},
   "source": [
    "Nested loop\n"
   ]
  },
  {
   "cell_type": "code",
   "execution_count": 27,
   "metadata": {},
   "outputs": [
    {
     "name": "stdout",
     "output_type": "stream",
     "text": [
      "1 1\n",
      "1 2\n",
      "1 3\n",
      "1 4\n",
      "2 1\n",
      "2 2\n",
      "2 3\n",
      "2 4\n",
      "3 1\n",
      "3 2\n",
      "3 3\n",
      "3 4\n",
      "4 1\n",
      "4 2\n",
      "4 3\n",
      "4 4\n"
     ]
    }
   ],
   "source": [
    "for i in range(1,5):\n",
    "    for j in range(1,5):\n",
    "        print(i,j)"
   ]
  },
  {
   "cell_type": "code",
   "execution_count": 42,
   "metadata": {},
   "outputs": [
    {
     "name": "stdout",
     "output_type": "stream",
     "text": [
      "*\n",
      "**\n"
     ]
    }
   ],
   "source": [
    "row = int(input('enter'))\n",
    "for i in range(1,row+1):\n",
    "    for j in range(1,i+1):\n",
    "        print('*',end='')\n",
    "    print()"
   ]
  },
  {
   "cell_type": "code",
   "execution_count": 2,
   "metadata": {},
   "outputs": [
    {
     "name": "stdout",
     "output_type": "stream",
     "text": [
      "1\n",
      "121\n",
      "12321\n",
      "1234321\n",
      "123454321\n"
     ]
    }
   ],
   "source": [
    "row = int(input('enter'))\n",
    "for i in range(1,row+1):\n",
    "    for j in range(1,i+1):\n",
    "        print(j,end='')\n",
    "    for k in range(i-1,0,-1):\n",
    "        print(k,end='')\n",
    "    print()"
   ]
  },
  {
   "cell_type": "markdown",
   "metadata": {},
   "source": [
    "Break\n",
    "Continue \n",
    "Pass"
   ]
  },
  {
   "cell_type": "code",
   "execution_count": 44,
   "metadata": {},
   "outputs": [
    {
     "name": "stdout",
     "output_type": "stream",
     "text": [
      "1\n",
      "2\n",
      "3\n",
      "4\n"
     ]
    }
   ],
   "source": [
    "for i in range(1,10):\n",
    "    if i == 5:\n",
    "        break\n",
    "    print(i)"
   ]
  },
  {
   "cell_type": "code",
   "execution_count": 1,
   "metadata": {},
   "outputs": [
    {
     "name": "stdout",
     "output_type": "stream",
     "text": [
      "5\n",
      "7\n",
      "11\n",
      "13\n",
      "17\n",
      "19\n",
      "23\n",
      "29\n",
      "31\n"
     ]
    }
   ],
   "source": [
    "u = int(input('enter 1st'))\n",
    "l = int(input('enter 2nd'))\n",
    "for i in range(u, l+1):\n",
    "    for j in range(2,i):\n",
    "        if i%j == 0:\n",
    "            break\n",
    "    else:\n",
    "         print(i)"
   ]
  },
  {
   "cell_type": "code",
   "execution_count": 47,
   "metadata": {},
   "outputs": [
    {
     "name": "stdout",
     "output_type": "stream",
     "text": [
      "1\n",
      "2\n",
      "3\n",
      "4\n",
      "6\n",
      "7\n",
      "8\n",
      "9\n"
     ]
    }
   ],
   "source": [
    "# continue \n",
    "for i in range(1,10):\n",
    "    if i == 5:\n",
    "        continue\n",
    "    print(i)"
   ]
  },
  {
   "cell_type": "code",
   "execution_count": 48,
   "metadata": {},
   "outputs": [],
   "source": [
    "# pass\n",
    "for i in range(1,10):\n",
    "    pass\n",
    "# pass allows python to not throw error and code remain at is so we can work on it later\n"
   ]
  },
  {
   "cell_type": "markdown",
   "metadata": {},
   "source": [
    "Creating String\n"
   ]
  },
  {
   "cell_type": "code",
   "execution_count": 49,
   "metadata": {},
   "outputs": [
    {
     "name": "stdout",
     "output_type": "stream",
     "text": [
      "jay shree krishna\n"
     ]
    }
   ],
   "source": [
    "s = 'jay shree krishna'\n",
    "s = \"jay shree krishna\"\n",
    "\n",
    "# ''' ''' or \"\"\" \"\"\" - multiline string(ex:- blog websites)\n",
    "s = '''jay shree krishna'''\n",
    "print(s)\n"
   ]
  },
  {
   "cell_type": "code",
   "execution_count": null,
   "metadata": {},
   "outputs": [
    {
     "name": "stdout",
     "output_type": "stream",
     "text": [
      "hs\n",
      "None\n"
     ]
    }
   ],
   "source": [
    "# class Solution:\n",
    "#     def __init__(self,name):\n",
    "#         self.name = name\n",
    "#     def change(self,n):\n",
    "#         if n in self.name:\n",
    "#             a  = len(self.name)\n",
    "#             print(self.name[-1:-3:-1])\n",
    "#         else:\n",
    "#             print('nothing')\n",
    "\n",
    "# ayu  = Solution('ayush')\n",
    "# print(ayu.change('u'))"
   ]
  },
  {
   "cell_type": "code",
   "execution_count": 50,
   "metadata": {},
   "outputs": [
    {
     "name": "stdout",
     "output_type": "stream",
     "text": [
      "yaush\n"
     ]
    }
   ],
   "source": [
    "class Solution:\n",
    "    def reversePrefix(self, word, ch):\n",
    "        i = word.find(ch) + 1\n",
    "        prefix = word[:i]\n",
    "        reversed_prefix = prefix[::-1]\n",
    "        remaining_suffix = word[i:]\n",
    "        return reversed_prefix + remaining_suffix\n",
    "\n",
    "a = Solution()\n",
    "print(a.reversePrefix('ayush','y'))"
   ]
  },
  {
   "cell_type": "markdown",
   "metadata": {},
   "source": [
    "strings are immuatabe in python we cannot delete or edit inside a string content "
   ]
  },
  {
   "cell_type": "code",
   "execution_count": 61,
   "metadata": {},
   "outputs": [
    {
     "data": {
      "text/plain": [
       "'world'"
      ]
     },
     "execution_count": 61,
     "metadata": {},
     "output_type": "execute_result"
    }
   ],
   "source": [
    "# '' and 'world'\n",
    "'' or 'world'"
   ]
  },
  {
   "cell_type": "code",
   "execution_count": 63,
   "metadata": {},
   "outputs": [
    {
     "data": {
      "text/plain": [
       "'world'"
      ]
     },
     "execution_count": 63,
     "metadata": {},
     "output_type": "execute_result"
    }
   ],
   "source": [
    "'hello' and 'world'"
   ]
  },
  {
   "cell_type": "code",
   "execution_count": 67,
   "metadata": {},
   "outputs": [
    {
     "data": {
      "text/plain": [
       "True"
      ]
     },
     "execution_count": 67,
     "metadata": {},
     "output_type": "execute_result"
    }
   ],
   "source": [
    "not '' "
   ]
  },
  {
   "cell_type": "code",
   "execution_count": 73,
   "metadata": {},
   "outputs": [
    {
     "data": {
      "text/plain": [
       "False"
      ]
     },
     "execution_count": 73,
     "metadata": {},
     "output_type": "execute_result"
    }
   ],
   "source": [
    "'P' in 'Python'\n",
    "'P' not in 'Python'\n"
   ]
  },
  {
   "cell_type": "markdown",
   "metadata": {},
   "source": [
    "# comman function \n",
    "+ len\n",
    "+ max \n",
    "+ min \n",
    "+ sorted"
   ]
  },
  {
   "cell_type": "code",
   "execution_count": 76,
   "metadata": {},
   "outputs": [
    {
     "data": {
      "text/plain": [
       "13"
      ]
     },
     "execution_count": 76,
     "metadata": {},
     "output_type": "execute_result"
    }
   ],
   "source": [
    "len('ayush pancahl')"
   ]
  },
  {
   "cell_type": "code",
   "execution_count": 78,
   "metadata": {},
   "outputs": [
    {
     "data": {
      "text/plain": [
       "'d'"
      ]
     },
     "execution_count": 78,
     "metadata": {},
     "output_type": "execute_result"
    }
   ],
   "source": [
    "min('helloworld')"
   ]
  },
  {
   "cell_type": "code",
   "execution_count": 79,
   "metadata": {},
   "outputs": [
    {
     "data": {
      "text/plain": [
       "'w'"
      ]
     },
     "execution_count": 79,
     "metadata": {},
     "output_type": "execute_result"
    }
   ],
   "source": [
    "max('helloworld')"
   ]
  },
  {
   "cell_type": "code",
   "execution_count": 80,
   "metadata": {},
   "outputs": [
    {
     "data": {
      "text/plain": [
       "['d', 'e', 'h', 'l', 'l', 'l', 'o', 'o', 'r', 'w']"
      ]
     },
     "execution_count": 80,
     "metadata": {},
     "output_type": "execute_result"
    }
   ],
   "source": [
    "sorted('helloworld')"
   ]
  },
  {
   "cell_type": "markdown",
   "metadata": {},
   "source": [
    "# Capitalize / Title / Upper / Lower / Swapcase"
   ]
  },
  {
   "cell_type": "code",
   "execution_count": 81,
   "metadata": {},
   "outputs": [
    {
     "data": {
      "text/plain": [
       "'hello world'"
      ]
     },
     "execution_count": 81,
     "metadata": {},
     "output_type": "execute_result"
    }
   ],
   "source": [
    "s = 'hello world'\n",
    "s.capitalize()\n",
    "s.title()\n",
    "s.upper()\n",
    "s.lower()"
   ]
  },
  {
   "cell_type": "code",
   "execution_count": 82,
   "metadata": {},
   "outputs": [
    {
     "data": {
      "text/plain": [
       "'HeeLwOrLD'"
      ]
     },
     "execution_count": 82,
     "metadata": {},
     "output_type": "execute_result"
    }
   ],
   "source": [
    "a = 'hEElWoRld'\n",
    "a.swapcase()"
   ]
  },
  {
   "cell_type": "markdown",
   "metadata": {},
   "source": [
    "# count / Find / Index"
   ]
  },
  {
   "cell_type": "code",
   "execution_count": 84,
   "metadata": {},
   "outputs": [
    {
     "data": {
      "text/plain": [
       "3"
      ]
     },
     "execution_count": 84,
     "metadata": {},
     "output_type": "execute_result"
    }
   ],
   "source": [
    "'i want to be devloper'.count('e')"
   ]
  },
  {
   "cell_type": "code",
   "execution_count": 88,
   "metadata": {},
   "outputs": [
    {
     "data": {
      "text/plain": [
       "19"
      ]
     },
     "execution_count": 88,
     "metadata": {},
     "output_type": "execute_result"
    }
   ],
   "source": [
    "'python wroks efficiently'.find('e',14)"
   ]
  },
  {
   "cell_type": "code",
   "execution_count": 89,
   "metadata": {},
   "outputs": [
    {
     "data": {
      "text/plain": [
       "1"
      ]
     },
     "execution_count": 89,
     "metadata": {},
     "output_type": "execute_result"
    }
   ],
   "source": [
    "'python has so many version'.index('y')"
   ]
  },
  {
   "cell_type": "markdown",
   "metadata": {},
   "source": [
    "endswith / startswith"
   ]
  },
  {
   "cell_type": "code",
   "execution_count": 91,
   "metadata": {},
   "outputs": [
    {
     "data": {
      "text/plain": [
       "True"
      ]
     },
     "execution_count": 91,
     "metadata": {},
     "output_type": "execute_result"
    }
   ],
   "source": [
    "'my name is ayush'.endswith('h')"
   ]
  },
  {
   "cell_type": "code",
   "execution_count": 92,
   "metadata": {},
   "outputs": [
    {
     "data": {
      "text/plain": [
       "True"
      ]
     },
     "execution_count": 92,
     "metadata": {},
     "output_type": "execute_result"
    }
   ],
   "source": [
    "'start withs '.startswith('sta')"
   ]
  },
  {
   "cell_type": "markdown",
   "metadata": {},
   "source": [
    "format"
   ]
  },
  {
   "cell_type": "code",
   "execution_count": 93,
   "metadata": {},
   "outputs": [
    {
     "data": {
      "text/plain": [
       "'hi my name is ayush and i am a male'"
      ]
     },
     "execution_count": 93,
     "metadata": {},
     "output_type": "execute_result"
    }
   ],
   "source": [
    "name = 'ayush'\n",
    "gender = 'male'\n",
    "'hi my name is {} and i am a {}'.format(name , gender)"
   ]
  },
  {
   "cell_type": "markdown",
   "metadata": {},
   "source": [
    "isalnum / isalpha / isdigit/ isidentier"
   ]
  },
  {
   "cell_type": "code",
   "execution_count": 94,
   "metadata": {},
   "outputs": [
    {
     "data": {
      "text/plain": [
       "True"
      ]
     },
     "execution_count": 94,
     "metadata": {},
     "output_type": "execute_result"
    }
   ],
   "source": [
    "'ayush1234'.isalnum()"
   ]
  },
  {
   "cell_type": "code",
   "execution_count": 96,
   "metadata": {},
   "outputs": [
    {
     "data": {
      "text/plain": [
       "True"
      ]
     },
     "execution_count": 96,
     "metadata": {},
     "output_type": "execute_result"
    }
   ],
   "source": [
    "'ayush'.isalpha()"
   ]
  },
  {
   "cell_type": "code",
   "execution_count": 98,
   "metadata": {},
   "outputs": [
    {
     "data": {
      "text/plain": [
       "False"
      ]
     },
     "execution_count": 98,
     "metadata": {},
     "output_type": "execute_result"
    }
   ],
   "source": [
    "'1232'.isdigit()"
   ]
  },
  {
   "cell_type": "code",
   "execution_count": 102,
   "metadata": {},
   "outputs": [
    {
     "data": {
      "text/plain": [
       "False"
      ]
     },
     "execution_count": 102,
     "metadata": {},
     "output_type": "execute_result"
    }
   ],
   "source": [
    "'first_'.isidentifier()\n"
   ]
  },
  {
   "cell_type": "markdown",
   "metadata": {},
   "source": [
    "split / join"
   ]
  },
  {
   "cell_type": "code",
   "execution_count": 3,
   "metadata": {},
   "outputs": [
    {
     "data": {
      "text/plain": [
       "['hi', 'my', 'name', 'is', 'ayush']"
      ]
     },
     "execution_count": 3,
     "metadata": {},
     "output_type": "execute_result"
    }
   ],
   "source": [
    "'hi my name is ayush'.split()"
   ]
  },
  {
   "cell_type": "code",
   "execution_count": 113,
   "metadata": {},
   "outputs": [
    {
     "data": {
      "text/plain": [
       "'hi-my-name-is-ayush'"
      ]
     },
     "execution_count": 113,
     "metadata": {},
     "output_type": "execute_result"
    }
   ],
   "source": [
    "'-'.join(['hi', 'my', 'name', 'is', 'ayush'])"
   ]
  },
  {
   "cell_type": "markdown",
   "metadata": {},
   "source": [
    "# Replace"
   ]
  },
  {
   "cell_type": "code",
   "execution_count": 116,
   "metadata": {},
   "outputs": [
    {
     "data": {
      "text/plain": [
       "'ayushpanchal.com'"
      ]
     },
     "execution_count": 116,
     "metadata": {},
     "output_type": "execute_result"
    }
   ],
   "source": [
    "'hi my name is ayush'.replace('ayush','harry')\n",
    "'ayushpanchal@gmail.com'.replace('@gmail','')"
   ]
  },
  {
   "cell_type": "markdown",
   "metadata": {},
   "source": [
    "Strip "
   ]
  },
  {
   "cell_type": "code",
   "execution_count": 115,
   "metadata": {},
   "outputs": [
    {
     "data": {
      "text/plain": [
       "'ayush'"
      ]
     },
     "execution_count": 115,
     "metadata": {},
     "output_type": "execute_result"
    }
   ],
   "source": [
    "'ayush                  '.strip()"
   ]
  },
  {
   "cell_type": "markdown",
   "metadata": {},
   "source": [
    "Example Programs"
   ]
  },
  {
   "cell_type": "code",
   "execution_count": 4,
   "metadata": {},
   "outputs": [
    {
     "name": "stdout",
     "output_type": "stream",
     "text": [
      "ayush\n"
     ]
    }
   ],
   "source": [
    "# 1.) extact user name from a given email.\n",
    "# eg:- if th email is xyz123@gmail.com \n",
    "# then the username should be xyz123\n",
    "user_name = input('enter')\n",
    "# name = ''\n",
    "# if '@gmail.com' in user_name:\n",
    "#     name = user_name.replace('@gmail.com','')\n",
    "#     print(name)\n",
    "\n",
    "postion = user_name.index('@')\n",
    "print(user_name[0:postion])\n"
   ]
  },
  {
   "cell_type": "code",
   "execution_count": 2,
   "metadata": {},
   "outputs": [
    {
     "name": "stdout",
     "output_type": "stream",
     "text": [
      "length of given string is 5\n"
     ]
    }
   ],
   "source": [
    "# find the length of a given string without using the len() function\n",
    "n = input('enter')\n",
    "counter = 0 \n",
    "for i in n:\n",
    "    counter+= 1\n",
    "\n",
    "print(f'length of given string is {counter}')"
   ]
  },
  {
   "cell_type": "code",
   "execution_count": 5,
   "metadata": {},
   "outputs": [
    {
     "name": "stdout",
     "output_type": "stream",
     "text": [
      "3\n"
     ]
    }
   ],
   "source": [
    "# count the frequency of a particular character in a provided string.\n",
    "# Eg 'hello how are you' is the string , the ferquency of h in this string is 2.\n",
    "\n",
    "st = input('Enter the string')\n",
    "freq_word = input(\"Enter\")\n",
    "print(st.count(freq_word))"
   ]
  },
  {
   "cell_type": "code",
   "execution_count": 8,
   "metadata": {},
   "outputs": [
    {
     "name": "stdout",
     "output_type": "stream",
     "text": [
      "frequency is 3\n"
     ]
    }
   ],
   "source": [
    "# code #2 \n",
    "st = input('Enter the string')\n",
    "freq_word = input(\"Enter\")\n",
    "counter = 0\n",
    "for i in st:\n",
    "    if i == freq_word:\n",
    "        counter+=1\n",
    "print(f\"frequency is {counter}\")\n"
   ]
  },
  {
   "cell_type": "code",
   "execution_count": 9,
   "metadata": {},
   "outputs": [
    {
     "name": "stdout",
     "output_type": "stream",
     "text": [
      "yush\n"
     ]
    }
   ],
   "source": [
    "# wap which can remove particulare character from a string\n",
    "s = input('enter the string')\n",
    "term = input('enter the term ')\n",
    "res = ''\n",
    "for i in s:\n",
    "    if i != term:\n",
    "        res += i \n",
    "\n",
    "print(res)"
   ]
  },
  {
   "cell_type": "code",
   "execution_count": 18,
   "metadata": {},
   "outputs": [
    {
     "name": "stdout",
     "output_type": "stream",
     "text": [
      "[' india', 'is', 'my', 'country']\n"
     ]
    }
   ],
   "source": [
    "# wap a program to count the number of words in a string without split()\n",
    "s = input('enter the string')\n",
    "l = []\n",
    "temp = ' '\n",
    "for i in s:\n",
    "    if i!= ' ':\n",
    "        temp +=i\n",
    "    else:\n",
    "        l.append(temp)\n",
    "        temp = ''\n",
    "\n",
    "l.append(temp)\n",
    "print(l)"
   ]
  },
  {
   "cell_type": "code",
   "execution_count": 21,
   "metadata": {},
   "outputs": [
    {
     "name": "stdout",
     "output_type": "stream",
     "text": [
      "Hi\n",
      "How\n",
      "Are\n",
      "You\n"
     ]
    }
   ],
   "source": [
    "# Write a Python program to convert a string to title case without using the title()\n",
    "s = input('enter the string')\n",
    "for i in s.split():\n",
    "    print(i[0].upper() + i[1:].lower())\n",
    "    "
   ]
  },
  {
   "cell_type": "code",
   "execution_count": null,
   "metadata": {},
   "outputs": [],
   "source": [
    "# convert integer to string \n",
    "s = int(input('enter the number'))\n"
   ]
  }
 ],
 "metadata": {
  "kernelspec": {
   "display_name": "Python 3",
   "language": "python",
   "name": "python3"
  },
  "language_info": {
   "codemirror_mode": {
    "name": "ipython",
    "version": 3
   },
   "file_extension": ".py",
   "mimetype": "text/x-python",
   "name": "python",
   "nbconvert_exporter": "python",
   "pygments_lexer": "ipython3",
   "version": "3.8.10"
  }
 },
 "nbformat": 4,
 "nbformat_minor": 2
}
