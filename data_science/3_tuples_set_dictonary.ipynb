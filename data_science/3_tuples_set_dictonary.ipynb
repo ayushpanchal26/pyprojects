{
 "cells": [
  {
   "cell_type": "markdown",
   "metadata": {},
   "source": [
    "# Tuples\n",
    "+ tuples are immutable"
   ]
  },
  {
   "cell_type": "code",
   "execution_count": 124,
   "metadata": {},
   "outputs": [
    {
     "name": "stdout",
     "output_type": "stream",
     "text": [
      "()\n",
      "<class 'tuple'>\n",
      "(1, 2, 3, 4)\n",
      "(1, 2.5, True, 'ayush', [1, 2, 4], {1: 2})\n",
      "('h', 'e', 'l', 'l', 'o')\n"
     ]
    }
   ],
   "source": [
    "# creating tuples \n",
    "t1 = ()\n",
    "print(t1)\n",
    "# create a tuple with a single item\n",
    "t2 = (2,) # single item tuple\n",
    "print(type(t2))\n",
    "\n",
    "t = (1,2,3,4) # homo \n",
    "print(t)\n",
    "\n",
    "t3 = (1,2.5,True,'ayush',[1,2,4],{1:2}) # hetro\n",
    "print(t3)\n",
    "\n",
    "t4 = (1,2,3,(4,5)) # 2D tuple\n",
    "\n",
    "t6 = tuple('hello')\n",
    "print(t6)"
   ]
  },
  {
   "cell_type": "code",
   "execution_count": 125,
   "metadata": {},
   "outputs": [
    {
     "name": "stdout",
     "output_type": "stream",
     "text": [
      "2\n",
      "(5, 4, 4, 3, 5)\n"
     ]
    }
   ],
   "source": [
    "# accessing items \n",
    "# indexing \n",
    "t = (1,2,4,5,3,4,4,5)\n",
    "print(t[1])\n",
    "\n",
    "# slicing\n",
    "print(t[-1:-6:-1])"
   ]
  },
  {
   "cell_type": "markdown",
   "metadata": {},
   "source": [
    "Tuples are immutable so tuples cannot can be edited,we cannot add item and we cannot delete particular item in the tuple we can delete whole tuple but not the item of the tuple"
   ]
  },
  {
   "cell_type": "markdown",
   "metadata": {},
   "source": [
    "operations on tuples"
   ]
  },
  {
   "cell_type": "code",
   "execution_count": 126,
   "metadata": {},
   "outputs": [
    {
     "name": "stdout",
     "output_type": "stream",
     "text": [
      "(1, 2, 4, 5, 6, 7, 8, 9)\n",
      "1\n",
      "2\n",
      "4\n",
      "5\n"
     ]
    }
   ],
   "source": [
    "# + and *\n",
    "t1 = (1,2,4,5)\n",
    "t2 = (6,7,8,9)\n",
    "print(t1 + t2)\n",
    "\n",
    "# membership\n",
    "1 in t1\n",
    "\n",
    "# iteration\n",
    "for i in t1:\n",
    "    print(i)"
   ]
  },
  {
   "cell_type": "markdown",
   "metadata": {},
   "source": [
    "Tuple function\n"
   ]
  },
  {
   "cell_type": "code",
   "execution_count": 127,
   "metadata": {},
   "outputs": [],
   "source": [
    "#len , sum , min , max , sorted"
   ]
  },
  {
   "cell_type": "code",
   "execution_count": 128,
   "metadata": {},
   "outputs": [
    {
     "data": {
      "text/plain": [
       "1"
      ]
     },
     "execution_count": 128,
     "metadata": {},
     "output_type": "execute_result"
    }
   ],
   "source": [
    "# count \n",
    "t1.count(2)\n",
    "\n"
   ]
  },
  {
   "cell_type": "code",
   "execution_count": 129,
   "metadata": {},
   "outputs": [
    {
     "data": {
      "text/plain": [
       "2"
      ]
     },
     "execution_count": 129,
     "metadata": {},
     "output_type": "execute_result"
    }
   ],
   "source": [
    "# index\n",
    "t1 = (1,2,4,5)\n",
    "t1.index(4)"
   ]
  },
  {
   "cell_type": "markdown",
   "metadata": {},
   "source": [
    "Differnce between tupe and list\n",
    "+ syntax \n",
    "+ mutability - immutable data types are faster than mutable data types\n",
    "+ speed\n",
    "+ Memory\n",
    "+ Built in functionality\n",
    "+ Error prone \n",
    "+ Usability"
   ]
  },
  {
   "cell_type": "code",
   "execution_count": 130,
   "metadata": {},
   "outputs": [
    {
     "name": "stdout",
     "output_type": "stream",
     "text": [
      "time taken  8.30691409111023\n"
     ]
    }
   ],
   "source": [
    "import time \n",
    "t1 = time.time()\n",
    "l = tuple(range(100000000))\n",
    "t2 = time.time()\n",
    "print('time taken ', time.time() - t1 )"
   ]
  },
  {
   "cell_type": "code",
   "execution_count": 131,
   "metadata": {},
   "outputs": [
    {
     "name": "stdout",
     "output_type": "stream",
     "text": [
      "ayush\n"
     ]
    }
   ],
   "source": [
    "print('ayush')"
   ]
  },
  {
   "cell_type": "markdown",
   "metadata": {},
   "source": [
    "why use tuples"
   ]
  },
  {
   "cell_type": "code",
   "execution_count": 132,
   "metadata": {},
   "outputs": [],
   "source": [
    "# tuples unpacking\n",
    "a,b = (1,2)"
   ]
  },
  {
   "cell_type": "code",
   "execution_count": 133,
   "metadata": {},
   "outputs": [],
   "source": [
    "a = 1\n",
    "b = 2\n",
    "a,b = b,a \n",
    "# value swap\n"
   ]
  },
  {
   "cell_type": "code",
   "execution_count": 134,
   "metadata": {},
   "outputs": [
    {
     "name": "stdout",
     "output_type": "stream",
     "text": [
      "1 2\n",
      "[4, 5, 5, 6, 6]\n"
     ]
    }
   ],
   "source": [
    "a,b,*args = (1,2,4,5,5,6,6)\n",
    "print(a,b)\n",
    "print(args)"
   ]
  },
  {
   "cell_type": "code",
   "execution_count": 135,
   "metadata": {},
   "outputs": [
    {
     "data": {
      "text/plain": [
       "((1, 3), (2, 4), (4, 3), (4, 2))"
      ]
     },
     "execution_count": 135,
     "metadata": {},
     "output_type": "execute_result"
    }
   ],
   "source": [
    "# zipping \n",
    "a = (1,2,4,4)\n",
    "b = (3,4,3,2)\n",
    "tuple(zip(a,b))\n"
   ]
  },
  {
   "cell_type": "markdown",
   "metadata": {},
   "source": [
    "# sets\n",
    "A set is an unordered collection of items. Every set element is unique (no duplicate) and must be immutable (cannot be changed). However, a set itself is mutable. we can add or remove items from it.\n",
    "<br>\n",
    "Sets can also be used to perform mathematical set operation like union, intersection , symmetric differnce ,etc."
   ]
  },
  {
   "cell_type": "markdown",
   "metadata": {},
   "source": [
    "characterstics:\n",
    "+ Unordered\n",
    "+ Mutable\n",
    "+ No duplicates\n",
    "+ Can't contain mutable data types"
   ]
  },
  {
   "cell_type": "code",
   "execution_count": 136,
   "metadata": {},
   "outputs": [
    {
     "name": "stdout",
     "output_type": "stream",
     "text": [
      "<class 'set'>\n"
     ]
    }
   ],
   "source": [
    "# empty \n",
    "s = set()\n",
    "s1 =  {} # dicitonay\n",
    "print(type(s))"
   ]
  },
  {
   "cell_type": "markdown",
   "metadata": {},
   "source": [
    " accessing items \n",
    " <br>\n",
    " indexing is not possible in sets as it is unordered\n",
    " so slicing is aslo not possible "
   ]
  },
  {
   "cell_type": "code",
   "execution_count": 137,
   "metadata": {},
   "outputs": [
    {
     "name": "stdout",
     "output_type": "stream",
     "text": [
      "{1, 2, 4, 5, 7, 8, 9}\n"
     ]
    }
   ],
   "source": [
    "# adding items \n",
    "s = {1,2,4}\n",
    "s.add(5)\n",
    "s.update([7,8,9])\n",
    "print(s)"
   ]
  },
  {
   "cell_type": "code",
   "execution_count": 138,
   "metadata": {},
   "outputs": [
    {
     "name": "stdout",
     "output_type": "stream",
     "text": [
      "{1, 2, 3, 4, 5}\n",
      "{3, 5}\n",
      "set()\n"
     ]
    }
   ],
   "source": [
    "# Deleting items\n",
    "s = {1,2,3,4,5}\n",
    "print(s)\n",
    "# del s\n",
    "\n",
    "# discard\n",
    "s.discard(2)\n",
    "# print(s)\n",
    "\n",
    "# remove\n",
    "s.remove(4)\n",
    "# discard don't throw error if it does not get the item that given as argument \n",
    "# but the remove will throw an error \n",
    "\n",
    "# pop\n",
    "s.pop()\n",
    "print(s)\n",
    "\n",
    "# clear\n",
    "s.clear()\n",
    "print(s)"
   ]
  },
  {
   "cell_type": "markdown",
   "metadata": {},
   "source": [
    "sets operations"
   ]
  },
  {
   "cell_type": "code",
   "execution_count": 139,
   "metadata": {},
   "outputs": [
    {
     "data": {
      "text/plain": [
       "{1, 2, 3, 4, 5, 6, 7, 8}"
      ]
     },
     "execution_count": 139,
     "metadata": {},
     "output_type": "execute_result"
    }
   ],
   "source": [
    "s1 = {1,2,3,4,5}\n",
    "s2 = {4,5,6,7,8}\n",
    "\n",
    "# union(|)\n",
    "s1 | s2\n"
   ]
  },
  {
   "cell_type": "code",
   "execution_count": 140,
   "metadata": {},
   "outputs": [
    {
     "data": {
      "text/plain": [
       "{4, 5}"
      ]
     },
     "execution_count": 140,
     "metadata": {},
     "output_type": "execute_result"
    }
   ],
   "source": [
    "# Intersection\n",
    "s1 & s2"
   ]
  },
  {
   "cell_type": "code",
   "execution_count": 141,
   "metadata": {},
   "outputs": [
    {
     "data": {
      "text/plain": [
       "{6, 7, 8}"
      ]
     },
     "execution_count": 141,
     "metadata": {},
     "output_type": "execute_result"
    }
   ],
   "source": [
    "# Difference(-)\n",
    "s1 - s2\n",
    "s2 - s1"
   ]
  },
  {
   "cell_type": "code",
   "execution_count": 142,
   "metadata": {},
   "outputs": [
    {
     "data": {
      "text/plain": [
       "{1, 2, 3, 6, 7, 8}"
      ]
     },
     "execution_count": 142,
     "metadata": {},
     "output_type": "execute_result"
    }
   ],
   "source": [
    "# Symmetric difference(^)\n",
    "s1 ^ s2"
   ]
  },
  {
   "cell_type": "code",
   "execution_count": 143,
   "metadata": {},
   "outputs": [
    {
     "data": {
      "text/plain": [
       "False"
      ]
     },
     "execution_count": 143,
     "metadata": {},
     "output_type": "execute_result"
    }
   ],
   "source": [
    "# Membership differnce(^)\n",
    "1 not in s1"
   ]
  },
  {
   "cell_type": "code",
   "execution_count": 144,
   "metadata": {},
   "outputs": [
    {
     "name": "stdout",
     "output_type": "stream",
     "text": [
      "4\n",
      "5\n",
      "6\n",
      "7\n",
      "8\n"
     ]
    }
   ],
   "source": [
    "# Iteration \n",
    "for i in s2:\n",
    "    print(i)"
   ]
  },
  {
   "cell_type": "markdown",
   "metadata": {},
   "source": [
    "Set function\n"
   ]
  },
  {
   "cell_type": "code",
   "execution_count": 145,
   "metadata": {},
   "outputs": [],
   "source": [
    "# len , sum , min , max , sorted\n"
   ]
  },
  {
   "cell_type": "code",
   "execution_count": 146,
   "metadata": {},
   "outputs": [
    {
     "name": "stdout",
     "output_type": "stream",
     "text": [
      "{1, 2, 3, 4, 5, 6, 7, 8}\n",
      "{1, 2, 3, 4, 5}\n"
     ]
    }
   ],
   "source": [
    "# union / update\n",
    "s1 = {1,2,3,4,5}\n",
    "s2 = {4,5,6,7,8}\n",
    "s1.union(s2)\n",
    "s2.update(s1)\n",
    "print(s2)\n",
    "print(s1)"
   ]
  },
  {
   "cell_type": "code",
   "execution_count": 147,
   "metadata": {},
   "outputs": [
    {
     "name": "stdout",
     "output_type": "stream",
     "text": [
      "{4, 5}\n"
     ]
    }
   ],
   "source": [
    "# intersection / intersection_update\n",
    "s1 = {1,2,3,4,5}\n",
    "s2 = {4,5,6,7,8}\n",
    "s1.intersection(s2)\n",
    "s1.intersection_update(s2)\n",
    "print(s1)"
   ]
  },
  {
   "cell_type": "code",
   "execution_count": 148,
   "metadata": {},
   "outputs": [
    {
     "name": "stdout",
     "output_type": "stream",
     "text": [
      "{1, 2, 3}\n"
     ]
    }
   ],
   "source": [
    "# differnce / difference_update\n",
    "s1 = {1,2,3,4,5}\n",
    "s2 = {4,5,6,7,8}\n",
    "s1.difference(s2)\n",
    "s1.difference_update(s2)\n",
    "print(s1)"
   ]
  },
  {
   "cell_type": "code",
   "execution_count": 149,
   "metadata": {},
   "outputs": [],
   "source": [
    "# symmetric_difference / symmertic_differnce_update\n",
    "s1 = {1,2,3,4,5}\n",
    "s2 = {4,5,6,7,8}\n",
    "s1.symmetric_difference(s2)\n",
    "s2.symmetric_difference_update(s2)"
   ]
  },
  {
   "cell_type": "code",
   "execution_count": 150,
   "metadata": {},
   "outputs": [
    {
     "data": {
      "text/plain": [
       "True"
      ]
     },
     "execution_count": 150,
     "metadata": {},
     "output_type": "execute_result"
    }
   ],
   "source": [
    "# isdisjoint / issubset / issuperset\n",
    "s1 = {1,2,3,4,5}\n",
    "s3 = {1,2,3,4,5}\n",
    "s2 = {4,5,6,7,8}\n",
    "# s1.isdisjoint(s2)\n",
    "# s2.issubset(s1)\n",
    "s1.issuperset(s3)"
   ]
  },
  {
   "cell_type": "code",
   "execution_count": 151,
   "metadata": {},
   "outputs": [
    {
     "name": "stdout",
     "output_type": "stream",
     "text": [
      "{1, 2, 3, 4, 5}\n"
     ]
    }
   ],
   "source": [
    "# copy \n",
    "s1 = {1,2,3,4,5}\n",
    "s = s.copy()\n",
    "print(s1)"
   ]
  },
  {
   "cell_type": "markdown",
   "metadata": {},
   "source": [
    "# Frozenset\n",
    "Frozen set is just an immuatable version of a Python set object."
   ]
  },
  {
   "cell_type": "code",
   "execution_count": 152,
   "metadata": {},
   "outputs": [
    {
     "name": "stdout",
     "output_type": "stream",
     "text": [
      "frozenset({1, 2, 3})\n"
     ]
    }
   ],
   "source": [
    "# create frozenset\n",
    "fs = frozenset([1,2,3])\n",
    "print(fs)"
   ]
  },
  {
   "cell_type": "code",
   "execution_count": 153,
   "metadata": {},
   "outputs": [],
   "source": [
    "# what works and what does not \n",
    "# works -> all read funcitons\n",
    "# does't work -> write operations\n"
   ]
  },
  {
   "cell_type": "code",
   "execution_count": 154,
   "metadata": {},
   "outputs": [
    {
     "data": {
      "text/plain": [
       "frozenset({1, 2, frozenset({3, 4})})"
      ]
     },
     "execution_count": 154,
     "metadata": {},
     "output_type": "execute_result"
    }
   ],
   "source": [
    "# when to use\n",
    "# 2D sets\n",
    "# frozen set are immutable so 2D frozen set are allowed\n",
    "fs = frozenset([1,2,frozenset([3,4])])\n",
    "fs"
   ]
  },
  {
   "cell_type": "markdown",
   "metadata": {},
   "source": [
    "Set comprehension"
   ]
  },
  {
   "cell_type": "code",
   "execution_count": 155,
   "metadata": {},
   "outputs": [
    {
     "data": {
      "text/plain": [
       "{4, 16, 36, 64, 100}"
      ]
     },
     "execution_count": 155,
     "metadata": {},
     "output_type": "execute_result"
    }
   ],
   "source": [
    "{i**2 for i in range(1,11) if i%2==0}"
   ]
  },
  {
   "cell_type": "code",
   "execution_count": 156,
   "metadata": {},
   "outputs": [],
   "source": [
    "# {{(i*j for i in range(1,4))} for j in range(1,4)}"
   ]
  },
  {
   "cell_type": "markdown",
   "metadata": {},
   "source": [
    "# Dictionary \n",
    "<br>\n",
    "Dicitionary in Python is a collection of keys values , used to store data value like a map, which , unlike other data types which hold only a single value as an element.<br>\n",
    "In some languages it is known as map ir assosiative arrays.<br>\n",
    "\n",
    "dict = {'name':'ayush', 'age': 23 ,'gender':'male'}\n",
    "\n",
    "Characterstics:\n",
    "+ mutable\n",
    "+ Indexing has no meaning \n",
    "+ Keys can't be duplicated\n",
    "+ keys can't be mutable item\n"
   ]
  },
  {
   "cell_type": "code",
   "execution_count": 157,
   "metadata": {},
   "outputs": [
    {
     "name": "stdout",
     "output_type": "stream",
     "text": [
      "<class 'dict'>\n",
      "{'name': 'ayush', 'college': 'arya', 'sem': 4, 'subject': {'dsa': 50, 'maths': 67, 'english': 34}}\n"
     ]
    },
    {
     "data": {
      "text/plain": [
       "{'name': 'ayush', (1, 2, 3): 3}"
      ]
     },
     "execution_count": 157,
     "metadata": {},
     "output_type": "execute_result"
    }
   ],
   "source": [
    "# creating a dictionary\n",
    "\n",
    "# empyty dictonary\n",
    "d = {}\n",
    "print(type(d))\n",
    "\n",
    "# 1D dictionary\n",
    "{'name':'ayush','gender':'make'}\n",
    "\n",
    "# with mixed keys\n",
    "{(1,2,3):1,'hello':'world'}\n",
    "\n",
    "# 2D dictionary\n",
    "s = {\n",
    "    'name':'ayush',\n",
    "    'college':'arya',\n",
    "    'sem':4,\n",
    "    'subject':{\n",
    "        'dsa':50,\n",
    "        'maths':67,\n",
    "        'english': 34\n",
    "    }\n",
    "}\n",
    "\n",
    "print(s)\n",
    "\n",
    "# using sequence and dict function\n",
    "d = dict([ (1,1),('name','ayush'),('age',19)] )\n",
    "d\n",
    "\n",
    "# duplicate keys \n",
    "d1 = {'name':'ayush','name':'santosh'}\n",
    "d1\n",
    "\n",
    "# mutable items as keys \n",
    "# d3 = {'name':'ayush' , [1,2,4]:3} \n",
    "d3 = {'name':'ayush',(1,2,3):3}\n",
    "d3\n"
   ]
  },
  {
   "cell_type": "markdown",
   "metadata": {},
   "source": [
    "Accessing items\n"
   ]
  },
  {
   "cell_type": "code",
   "execution_count": 158,
   "metadata": {},
   "outputs": [
    {
     "data": {
      "text/plain": [
       "67"
      ]
     },
     "execution_count": 158,
     "metadata": {},
     "output_type": "execute_result"
    }
   ],
   "source": [
    "my_dict = {'name':'ayush','age':18}\n",
    "\n",
    "# []\n",
    "my_dict['age']\n",
    "\n",
    "# get\n",
    "my_dict.get('age')\n",
    "\n",
    "# accessing in 2d dict\n",
    "s['subject']['maths']"
   ]
  },
  {
   "cell_type": "markdown",
   "metadata": {},
   "source": [
    "Adding new Key-value pair "
   ]
  },
  {
   "cell_type": "code",
   "execution_count": 164,
   "metadata": {},
   "outputs": [],
   "source": [
    "my_dict['gender'] = 'male'\n",
    "my_dict['weight'] = 84\n",
    "my_dict\n",
    "\n",
    "s['subject']['ds'] = 98"
   ]
  },
  {
   "cell_type": "markdown",
   "metadata": {},
   "source": [
    "Remove key value pair\n"
   ]
  },
  {
   "cell_type": "code",
   "execution_count": 160,
   "metadata": {},
   "outputs": [
    {
     "data": {
      "text/plain": [
       "3"
      ]
     },
     "execution_count": 160,
     "metadata": {},
     "output_type": "execute_result"
    }
   ],
   "source": [
    "# pop \n",
    "d1 = {'name': 'ayush', 'age': 18,3:3, 'gender': 'male', 'weight': 84}\n",
    "\n",
    "d1.pop(3)"
   ]
  },
  {
   "cell_type": "code",
   "execution_count": 161,
   "metadata": {},
   "outputs": [],
   "source": [
    "# pop item \n",
    "# d1.popitem()\n",
    "# d1.popitem()\n",
    "# popitem deletes the last key value pair of the dictionary "
   ]
  },
  {
   "cell_type": "code",
   "execution_count": 162,
   "metadata": {},
   "outputs": [
    {
     "data": {
      "text/plain": [
       "{'age': 18, 3: 3, 'gender': 'male', 'weight': 84}"
      ]
     },
     "execution_count": 162,
     "metadata": {},
     "output_type": "execute_result"
    }
   ],
   "source": [
    "# del\n",
    "# del d1 # deletes the entire dictionary\n",
    "d1 = {'name': 'ayush', 'age': 18,3:3, 'gender': 'male', 'weight': 84}\n",
    "del d1['name']\n",
    "d1"
   ]
  },
  {
   "cell_type": "code",
   "execution_count": 163,
   "metadata": {},
   "outputs": [
    {
     "data": {
      "text/plain": [
       "{}"
      ]
     },
     "execution_count": 163,
     "metadata": {},
     "output_type": "execute_result"
    }
   ],
   "source": [
    "# clear\n",
    "ddd = {'name': 'ayush', 'age': 18,3:3, 'gender': 'male', 'weight': 84}\n",
    "ddd.clear()\n",
    "ddd"
   ]
  },
  {
   "cell_type": "code",
   "execution_count": 165,
   "metadata": {},
   "outputs": [],
   "source": [
    "del s['subject']['maths']"
   ]
  },
  {
   "cell_type": "markdown",
   "metadata": {},
   "source": [
    "Editing key value pair "
   ]
  },
  {
   "cell_type": "code",
   "execution_count": 169,
   "metadata": {},
   "outputs": [
    {
     "data": {
      "text/plain": [
       "{'name': 'ayush',\n",
       " 'college': 'arya',\n",
       " 'sem': 5,\n",
       " 'subject': {'dsa': 85, 'english': 34, 'ds': 98}}"
      ]
     },
     "execution_count": 169,
     "metadata": {},
     "output_type": "execute_result"
    }
   ],
   "source": [
    "s['sem'] = 5\n",
    "s['subject']['dsa'] = 85\n",
    "s\n"
   ]
  },
  {
   "cell_type": "markdown",
   "metadata": {},
   "source": [
    "Dictionary Operation\n",
    "+ Membership\n",
    "+ Iteration\n"
   ]
  },
  {
   "cell_type": "code",
   "execution_count": 4,
   "metadata": {},
   "outputs": [
    {
     "name": "stdout",
     "output_type": "stream",
     "text": [
      "{'name': 'ayush', 'college': 'arya', 'sem': 4, 'subject': {'dsa': 50, 'maths': 67, 'english': 34}}\n"
     ]
    },
    {
     "data": {
      "text/plain": [
       "True"
      ]
     },
     "execution_count": 4,
     "metadata": {},
     "output_type": "execute_result"
    }
   ],
   "source": [
    "s = {\n",
    "    'name':'ayush',\n",
    "    'college':'arya',\n",
    "    'sem':4,\n",
    "    'subject':{\n",
    "        'dsa':50,\n",
    "        'maths':67,\n",
    "        'english': 34\n",
    "    }\n",
    "}\n",
    "\n",
    "print(s)\n",
    "\n",
    "'name' in s # membership operation works on the keys of dictionary.\n"
   ]
  },
  {
   "cell_type": "code",
   "execution_count": 2,
   "metadata": {},
   "outputs": [
    {
     "name": "stdout",
     "output_type": "stream",
     "text": [
      "name ayush\n",
      "age 19\n",
      "gender male\n"
     ]
    }
   ],
   "source": [
    "d = {\n",
    "    'name':'ayush',\n",
    "    'age':19,\n",
    "    'gender':'male'\n",
    "}\n",
    "\n",
    "for i in d:\n",
    "    print(i,d[i])"
   ]
  },
  {
   "cell_type": "markdown",
   "metadata": {},
   "source": [
    "Dictionary Functions"
   ]
  },
  {
   "cell_type": "code",
   "execution_count": 6,
   "metadata": {},
   "outputs": [
    {
     "data": {
      "text/plain": [
       "['age', 'gender', 'name']"
      ]
     },
     "execution_count": 6,
     "metadata": {},
     "output_type": "execute_result"
    }
   ],
   "source": [
    "# len , sorted, min ,max\n",
    "len(d)\n",
    "sorted(d)\n"
   ]
  },
  {
   "cell_type": "code",
   "execution_count": 9,
   "metadata": {},
   "outputs": [
    {
     "name": "stdout",
     "output_type": "stream",
     "text": [
      "{'name': 'ayush', 'age': 19, 'gender': 'male'}\n",
      "dict_items([('name', 'ayush'), ('age', 19), ('gender', 'male')])\n",
      "dict_keys(['name', 'age', 'gender'])\n",
      "dict_values(['ayush', 19, 'male'])\n"
     ]
    }
   ],
   "source": [
    "# items / keys / values \n",
    "print(d)\n",
    "print(d.items())\n",
    "print(d.keys())\n",
    "print(d.values())"
   ]
  },
  {
   "cell_type": "code",
   "execution_count": 10,
   "metadata": {},
   "outputs": [
    {
     "data": {
      "text/plain": [
       "{1: 2, 3: 4, 4: 5, 6: 8}"
      ]
     },
     "execution_count": 10,
     "metadata": {},
     "output_type": "execute_result"
    }
   ],
   "source": [
    "# update\n",
    "d1 = {1:2,3:4,4:5}\n",
    "d3  = {4:5,6:8}\n",
    "d1.update(d3)\n",
    "d1"
   ]
  },
  {
   "cell_type": "markdown",
   "metadata": {},
   "source": [
    "# Dictionary Comprehension"
   ]
  },
  {
   "cell_type": "code",
   "execution_count": 11,
   "metadata": {},
   "outputs": [
    {
     "data": {
      "text/plain": [
       "{1: 1, 2: 4, 3: 9, 4: 16, 5: 25, 6: 36, 7: 49, 8: 64, 9: 81, 10: 100}"
      ]
     },
     "execution_count": 11,
     "metadata": {},
     "output_type": "execute_result"
    }
   ],
   "source": [
    "# print 1st 10 numbers and their squares\n",
    "{i:i**2 for i in range(1,11)}"
   ]
  },
  {
   "cell_type": "code",
   "execution_count": 17,
   "metadata": {},
   "outputs": [
    {
     "data": {
      "text/plain": [
       "{'delhi': 621.371, 'mumbai': 1242.742, 'banglore': 1864.113}"
      ]
     },
     "execution_count": 17,
     "metadata": {},
     "output_type": "execute_result"
    }
   ],
   "source": [
    "# using existing dict\n",
    "distances = {'delhi': 1000 ,'mumbai':2000, 'banglore':3000}\n",
    "{key: value*0.621371 for (key,value) in distances.items()}"
   ]
  },
  {
   "cell_type": "code",
   "execution_count": 21,
   "metadata": {},
   "outputs": [
    {
     "data": {
      "text/plain": [
       "{'sunday': 30.5,\n",
       " 'monday': 32.6,\n",
       " 'tuesday': 33.4,\n",
       " 'wednesday': 29.8,\n",
       " 'thursday': 30.2,\n",
       " 'friday': 29.9}"
      ]
     },
     "execution_count": 21,
     "metadata": {},
     "output_type": "execute_result"
    }
   ],
   "source": [
    "# using zip\n",
    "\n",
    "days = ['sunday','monday','tuesday','wednesday','thursday','friday','saturday']\n",
    "temp = [30.5, 32.6,33.4,29.8,30.2,29.9]\n",
    "# dict(zip(days,temp))\n",
    "{key:value for (key ,value) in zip(days,temp)}"
   ]
  },
  {
   "cell_type": "code",
   "execution_count": 24,
   "metadata": {},
   "outputs": [
    {
     "data": {
      "text/plain": [
       "{'phone': 10, 'charger': 32}"
      ]
     },
     "execution_count": 24,
     "metadata": {},
     "output_type": "execute_result"
    }
   ],
   "source": [
    "# using if condition\n",
    "products = {'phone':10,'laptop':0,'charger':32,'tablet':0}\n",
    "{key:value for (key,value)in products.items() if value>0}"
   ]
  },
  {
   "cell_type": "code",
   "execution_count": 26,
   "metadata": {},
   "outputs": [
    {
     "data": {
      "text/plain": [
       "{2: {1: 2, 2: 4, 3: 6, 4: 8, 5: 10, 6: 12, 7: 14, 8: 16, 9: 18, 10: 20},\n",
       " 3: {1: 3, 2: 6, 3: 9, 4: 12, 5: 15, 6: 18, 7: 21, 8: 24, 9: 27, 10: 30},\n",
       " 4: {1: 4, 2: 8, 3: 12, 4: 16, 5: 20, 6: 24, 7: 28, 8: 32, 9: 36, 10: 40}}"
      ]
     },
     "execution_count": 26,
     "metadata": {},
     "output_type": "execute_result"
    }
   ],
   "source": [
    "# Nested Comprehension\n",
    "# print tables of number from 2 to 4\n",
    "{i:{j:i*j for j in range(1,11)}for i in range(2,5)}"
   ]
  },
  {
   "cell_type": "code",
   "execution_count": 27,
   "metadata": {},
   "outputs": [
    {
     "data": {
      "text/plain": [
       "{1: {1: 1, 2: 2, 3: 3, 4: 4, 5: 5, 6: 6, 7: 7, 8: 8, 9: 9, 10: 10},\n",
       " 2: {1: 2, 2: 4, 3: 6, 4: 8, 5: 10, 6: 12, 7: 14, 8: 16, 9: 18, 10: 20},\n",
       " 3: {1: 3, 2: 6, 3: 9, 4: 12, 5: 15, 6: 18, 7: 21, 8: 24, 9: 27, 10: 30},\n",
       " 4: {1: 4, 2: 8, 3: 12, 4: 16, 5: 20, 6: 24, 7: 28, 8: 32, 9: 36, 10: 40},\n",
       " 5: {1: 5, 2: 10, 3: 15, 4: 20, 5: 25, 6: 30, 7: 35, 8: 40, 9: 45, 10: 50},\n",
       " 6: {1: 6, 2: 12, 3: 18, 4: 24, 5: 30, 6: 36, 7: 42, 8: 48, 9: 54, 10: 60}}"
      ]
     },
     "execution_count": 27,
     "metadata": {},
     "output_type": "execute_result"
    }
   ],
   "source": [
    "n = int(input('enter-->'))\n",
    "{i:{j:i*j for j in range(1,11)}for i in range(1,n)}"
   ]
  },
  {
   "cell_type": "code",
   "execution_count": null,
   "metadata": {},
   "outputs": [],
   "source": []
  }
 ],
 "metadata": {
  "kernelspec": {
   "display_name": "Python 3",
   "language": "python",
   "name": "python3"
  },
  "language_info": {
   "codemirror_mode": {
    "name": "ipython",
    "version": 3
   },
   "file_extension": ".py",
   "mimetype": "text/x-python",
   "name": "python",
   "nbconvert_exporter": "python",
   "pygments_lexer": "ipython3",
   "version": "3.8.10"
  }
 },
 "nbformat": 4,
 "nbformat_minor": 2
}
