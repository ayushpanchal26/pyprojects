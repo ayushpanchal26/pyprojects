{
 "cells": [
  {
   "cell_type": "markdown",
   "metadata": {},
   "source": [
    "### Class Realationships \n",
    "+ Aggregation\n",
    "+ Inheritance"
   ]
  },
  {
   "cell_type": "markdown",
   "metadata": {},
   "source": [
    "Aggregation(Has-A Relationship)"
   ]
  },
  {
   "cell_type": "code",
   "execution_count": 8,
   "metadata": {},
   "outputs": [
    {
     "name": "stdout",
     "output_type": "stream",
     "text": [
      "kherwara 313803 rajasthan\n",
      "None\n",
      "kuwait 111111 UAE\n"
     ]
    }
   ],
   "source": [
    "class Customer:\n",
    "\n",
    "    def __init__(self,name,gender,address):\n",
    "        self.name = name\n",
    "        self.gender = gender\n",
    "        self.address = address\n",
    " \n",
    "    def print_address(self):\n",
    "        return print(self.address.get_city(),self.address.pin,self.address.state)\n",
    "    \n",
    "    def edit_profile(self,new_name,new_city,new_pin,new_state):\n",
    "        self.name = new_name\n",
    "        self.address.edit_address(new_city,new_pin,new_state)\n",
    "\n",
    "class Address:\n",
    "    def __init__(self,city,pin,state):\n",
    "        self.__city =city\n",
    "        self.pin = pin\n",
    "        self.state = state\n",
    "\n",
    "    def get_city(self):\n",
    "       return self.__city\n",
    "    \n",
    "    def edit_address(self,new_city,new_pin,new_state):\n",
    "        self.__city = new_city\n",
    "        self.pin  = new_pin\n",
    "        self.state = new_state\n",
    "\n",
    "add1 = Address('kherwara',313803,'rajasthan')\n",
    "cust  = Customer('ayush','male',add1)\n",
    "\n",
    "print(cust.print_address())\n",
    "cust.edit_profile('ravindra','kuwait',111111,'UAE')\n",
    "cust.print_address()"
   ]
  },
  {
   "cell_type": "markdown",
   "metadata": {},
   "source": [
    "### Inheritance  \n",
    "+ What is inheritance\n",
    "+ Example\n",
    "+ What gets inherited?\n",
    "\n"
   ]
  },
  {
   "cell_type": "markdown",
   "metadata": {},
   "source": [
    "inheritance biggest profit = code reusability"
   ]
  },
  {
   "cell_type": "code",
   "execution_count": 9,
   "metadata": {},
   "outputs": [
    {
     "name": "stdout",
     "output_type": "stream",
     "text": [
      "ayush\n",
      "login\n",
      "enroll into the course\n"
     ]
    }
   ],
   "source": [
    "class User:\n",
    "    def __init__(self):\n",
    "          self.name = 'ayush'\n",
    "    \n",
    "    def login(self):\n",
    "        print('login')\n",
    "\n",
    "class Student(User):\n",
    "     \n",
    "    # def __init__(self):\n",
    "    #     self.rollno = 100\n",
    "\n",
    "    def enorll(self):\n",
    "        print('enroll into the course')\n",
    "\n",
    "u = User()\n",
    "s = Student()\n",
    "\n",
    "print(s.name)\n",
    "s.login()\n",
    "s.enorll()"
   ]
  },
  {
   "cell_type": "markdown",
   "metadata": {},
   "source": [
    "### what gets inherited?\n",
    "+ Constructor \n",
    "+ Non private members\n",
    "+ Non private methods"
   ]
  },
  {
   "cell_type": "code",
   "execution_count": 10,
   "metadata": {},
   "outputs": [
    {
     "name": "stdout",
     "output_type": "stream",
     "text": [
      "Inside phone constructor\n",
      "buying a phone\n"
     ]
    }
   ],
   "source": [
    "# constructor examples \n",
    "class Phone:\n",
    "    def __init__(self,price,brand,camera):\n",
    "        print('Inside phone constructor')\n",
    "        self.price = price\n",
    "        self.brand = brand\n",
    "        self.camera = camera\n",
    "\n",
    "    def buy(self):\n",
    "        print('buying a phone')\n",
    "\n",
    "class Smartphone(Phone):\n",
    "    pass\n",
    "\n",
    "s = Smartphone(20000,'apple',13)\n",
    "s.buy()"
   ]
  },
  {
   "cell_type": "code",
   "execution_count": 11,
   "metadata": {},
   "outputs": [
    {
     "name": "stdout",
     "output_type": "stream",
     "text": [
      "inside smartphone construtor\n"
     ]
    }
   ],
   "source": [
    "class Phone:\n",
    "    def __init__(self, price , brand , camera):\n",
    "        print('inside phone constructor')\n",
    "        self.price = price\n",
    "        self.brand = brand\n",
    "        self.camera = camera\n",
    "\n",
    "    \n",
    "class Smaertphone(Phone):\n",
    "    def __init__(self, os ,ram):\n",
    "        print('inside smartphone construtor')\n",
    "        self.os = os\n",
    "        self.ram = ram\n",
    "\n",
    "s = Smaertphone('android',2)\n"
   ]
  },
  {
   "cell_type": "markdown",
   "metadata": {},
   "source": [
    "when we inherit a class if the child class has constructor than the parent constructor will never get called"
   ]
  },
  {
   "cell_type": "code",
   "execution_count": 12,
   "metadata": {},
   "outputs": [
    {
     "name": "stdout",
     "output_type": "stream",
     "text": [
      "inside phone constructor\n",
      "apple\n"
     ]
    }
   ],
   "source": [
    "# child can't access private members of the class\n",
    "class Phone:\n",
    "    def __init__(self,price , brand , camera):\n",
    "        print('inside phone constructor')\n",
    "        self.__price = price\n",
    "        self.brand = brand\n",
    "        self.camera = camera\n",
    "\n",
    "    def __show(self):\n",
    "        print(self.__price)\n",
    "\n",
    "class Smartphone(Phone):\n",
    "\n",
    "        def check(self):\n",
    "            print(self.__price)\n",
    "\n",
    "s= Smartphone(90000,'apple',13)\n",
    "print(s.brand)\n",
    "# s.show()"
   ]
  },
  {
   "cell_type": "code",
   "execution_count": 13,
   "metadata": {},
   "outputs": [
    {
     "name": "stdout",
     "output_type": "stream",
     "text": [
      "100\n",
      "This is in child class\n"
     ]
    }
   ],
   "source": [
    "class Parent:\n",
    "    def __init__(self ,num):\n",
    "        self.__num = num\n",
    "\n",
    "    def get_num(self):\n",
    "        return self.__num\n",
    "\n",
    "\n",
    "class Child(Parent):\n",
    "\n",
    "    def show(self):\n",
    "        print('This is in child class')\n",
    "\n",
    "son = Child(100)\n",
    "print(son.get_num())\n",
    "son.show()"
   ]
  },
  {
   "cell_type": "code",
   "execution_count": 14,
   "metadata": {},
   "outputs": [
    {
     "ename": "AttributeError",
     "evalue": "'Child' object has no attribute '__get_num'",
     "output_type": "error",
     "traceback": [
      "\u001b[1;31m---------------------------------------------------------------------------\u001b[0m",
      "\u001b[1;31mAttributeError\u001b[0m                            Traceback (most recent call last)",
      "Cell \u001b[1;32mIn[14], line 17\u001b[0m\n\u001b[0;32m     14\u001b[0m         \u001b[38;5;28;01mreturn\u001b[39;00m \u001b[38;5;28mself\u001b[39m\u001b[38;5;241m.\u001b[39m__val\n\u001b[0;32m     16\u001b[0m son \u001b[38;5;241m=\u001b[39m Child(\u001b[38;5;241m100\u001b[39m,\u001b[38;5;241m10\u001b[39m)\n\u001b[1;32m---> 17\u001b[0m \u001b[38;5;28mprint\u001b[39m(\u001b[38;5;124mf\u001b[39m\u001b[38;5;124m'\u001b[39m\u001b[38;5;124mparent num is \u001b[39m\u001b[38;5;132;01m{\u001b[39;00mson\u001b[38;5;241m.\u001b[39m__get_num()\u001b[38;5;132;01m}\u001b[39;00m\u001b[38;5;124m'\u001b[39m)\n\u001b[0;32m     18\u001b[0m \u001b[38;5;28mprint\u001b[39m(\u001b[38;5;124mf\u001b[39m\u001b[38;5;124m'\u001b[39m\u001b[38;5;124mchild value is \u001b[39m\u001b[38;5;132;01m{\u001b[39;00mson\u001b[38;5;241m.\u001b[39mget_val()\u001b[38;5;132;01m}\u001b[39;00m\u001b[38;5;124m'\u001b[39m)\n",
      "\u001b[1;31mAttributeError\u001b[0m: 'Child' object has no attribute '__get_num'"
     ]
    }
   ],
   "source": [
    "class Parent:\n",
    "    def __init__(self,num):\n",
    "        self.__num = num\n",
    "\n",
    "    def get_num(self):\n",
    "        return self.__num\n",
    "\n",
    "class Child(Parent):\n",
    "\n",
    "    def __init__(self,val,num):\n",
    "        self.__val = val\n",
    "\n",
    "    def get_val(self):\n",
    "        return self.__val\n",
    "\n",
    "son = Child(100,10)\n",
    "print(f'parent num is {son.__get_num()}')\n",
    "print(f'child value is {son.get_val()}')"
   ]
  },
  {
   "cell_type": "code",
   "execution_count": null,
   "metadata": {},
   "outputs": [
    {
     "name": "stdout",
     "output_type": "stream",
     "text": [
      "class A 100\n",
      "class A 100\n"
     ]
    }
   ],
   "source": [
    "class A:\n",
    "    def __init__(self):\n",
    "        self.var1 = 100\n",
    "\n",
    "    def display(self, var1):\n",
    "        print('class A',self.var1)\n",
    "\n",
    "class B(A):\n",
    "\n",
    "    def display2(self, var1):\n",
    "        print('class A',self.var1)\n",
    "\n",
    "obj = B()\n",
    "obj.display(200)\n",
    "# here the var1 which is given is not recived by the var1\n",
    "# of the parent class as the var1 is already defined"
   ]
  },
  {
   "cell_type": "code",
   "execution_count": null,
   "metadata": {},
   "outputs": [
    {
     "name": "stdout",
     "output_type": "stream",
     "text": [
      "inside phone constructor\n",
      "buying a smartphone\n"
     ]
    }
   ],
   "source": [
    "# Method overriding\n",
    "class Phone:\n",
    "    def __init__(self,price , brand , camera):\n",
    "        print('inside phone constructor')\n",
    "        self.__price = price\n",
    "        self.brand = brand\n",
    "        self.camera = camera\n",
    "\n",
    "    def buy(self):\n",
    "        print(\"buying a smartphone\")\n",
    "\n",
    "class SmartPhone(Phone):\n",
    "    def buy(self):\n",
    "        print('buying a smartphone')\n",
    "\n",
    "s = SmartPhone(20000,'apple',13)\n",
    "s.buy()"
   ]
  },
  {
   "cell_type": "markdown",
   "metadata": {},
   "source": [
    "### Super keyword\n",
    "\n",
    "\n"
   ]
  },
  {
   "cell_type": "code",
   "execution_count": 4,
   "metadata": {},
   "outputs": [
    {
     "name": "stdout",
     "output_type": "stream",
     "text": [
      "inside phone constructor \n",
      "buying a smarphone\n",
      "buying a phone\n"
     ]
    }
   ],
   "source": [
    "class Phone:\n",
    "    def __init__(self,price ,brand,camera):\n",
    "        print('inside phone constructor ')\n",
    "        self.__price = price\n",
    "        self.brand = brand\n",
    "        self.camera = camera\n",
    "\n",
    "    def buy(self):\n",
    "        print('buying a phone')\n",
    "\n",
    "class Smartphone(Phone):\n",
    "    def buy(self):\n",
    "        print('buying a smarphone')\n",
    "        super().buy()\n",
    "\n",
    "s  = Smartphone(2000,'nokia',13)\n",
    "\n",
    "s.buy()    "
   ]
  },
  {
   "cell_type": "markdown",
   "metadata": {},
   "source": [
    "questions which are most asked in oops are static ,self and super \n"
   ]
  },
  {
   "cell_type": "code",
   "execution_count": 7,
   "metadata": {},
   "outputs": [
    {
     "name": "stdout",
     "output_type": "stream",
     "text": [
      "Inside smartphone constructor\n",
      "inside phone constructor \n",
      "inside smartphone constructor\n",
      "android\n",
      "samsung\n"
     ]
    }
   ],
   "source": [
    "class Phone:\n",
    "    def __init__(self,price ,brand,camera):\n",
    "        print('inside phone constructor ')\n",
    "        self.__price = price\n",
    "        self.brand = brand\n",
    "        self.camera = camera\n",
    "\n",
    "class Smartphone(Phone):\n",
    "    def __init__(self,price , brand , camera,os,ram):\n",
    "        print('Inside smartphone constructor')\n",
    "        super().__init__(price,brand,camera)\n",
    "        self.os = os\n",
    "        self.ram = ram\n",
    "        print('inside smartphone constructor')\n",
    "\n",
    "s = Smartphone(10000,'samsung',12,'android', 2)\n",
    "print(s.os)\n",
    "print(s.brand)"
   ]
  },
  {
   "cell_type": "code",
   "execution_count": null,
   "metadata": {},
   "outputs": [],
   "source": [
    "# calling super outside the class -- not work \n",
    "class Phone:\n",
    "    def __init__(self,price ,brand,camera):\n",
    "        print('inside phone constructor ')\n",
    "        self.__price = price\n",
    "        self.brand = brand\n",
    "        self.camera = camera\n",
    "\n",
    "    def buy(self):\n",
    "        print('buying a phone')\n",
    "\n",
    "class Smartphone(Phone):\n",
    "    def buy(self):\n",
    "        print('buying a smarphone')\n",
    "       \n",
    "\n",
    "s  = Smartphone(2000,'nokia',13)\n",
    "\n",
    "s.super().buy()    "
   ]
  },
  {
   "cell_type": "code",
   "execution_count": 8,
   "metadata": {},
   "outputs": [
    {
     "name": "stdout",
     "output_type": "stream",
     "text": [
      "inside phone constructor \n",
      "buying a smarphone\n"
     ]
    },
    {
     "ename": "AttributeError",
     "evalue": "'super' object has no attribute 'brand'",
     "output_type": "error",
     "traceback": [
      "\u001b[1;31m---------------------------------------------------------------------------\u001b[0m",
      "\u001b[1;31mAttributeError\u001b[0m                            Traceback (most recent call last)",
      "Cell \u001b[1;32mIn[8], line 20\u001b[0m\n\u001b[0;32m     16\u001b[0m         \u001b[38;5;28mprint\u001b[39m(\u001b[38;5;28msuper\u001b[39m()\u001b[38;5;241m.\u001b[39mbrand)\n\u001b[0;32m     18\u001b[0m s  \u001b[38;5;241m=\u001b[39m Smartphone(\u001b[38;5;241m2000\u001b[39m,\u001b[38;5;124m'\u001b[39m\u001b[38;5;124mnokia\u001b[39m\u001b[38;5;124m'\u001b[39m,\u001b[38;5;241m13\u001b[39m)\n\u001b[1;32m---> 20\u001b[0m \u001b[43ms\u001b[49m\u001b[38;5;241;43m.\u001b[39;49m\u001b[43mbuy\u001b[49m\u001b[43m(\u001b[49m\u001b[43m)\u001b[49m    \n",
      "Cell \u001b[1;32mIn[8], line 16\u001b[0m, in \u001b[0;36mSmartphone.buy\u001b[1;34m(self)\u001b[0m\n\u001b[0;32m     14\u001b[0m \u001b[38;5;28;01mdef\u001b[39;00m \u001b[38;5;21mbuy\u001b[39m(\u001b[38;5;28mself\u001b[39m):\n\u001b[0;32m     15\u001b[0m     \u001b[38;5;28mprint\u001b[39m(\u001b[38;5;124m'\u001b[39m\u001b[38;5;124mbuying a smarphone\u001b[39m\u001b[38;5;124m'\u001b[39m)\n\u001b[1;32m---> 16\u001b[0m     \u001b[38;5;28mprint\u001b[39m(\u001b[38;5;28;43msuper\u001b[39;49m\u001b[43m(\u001b[49m\u001b[43m)\u001b[49m\u001b[38;5;241;43m.\u001b[39;49m\u001b[43mbrand\u001b[49m)\n",
      "\u001b[1;31mAttributeError\u001b[0m: 'super' object has no attribute 'brand'"
     ]
    }
   ],
   "source": [
    "# can super access parent ka data?\n",
    "# calling super outside the class -- not work \n",
    "class Phone:\n",
    "    def __init__(self,price ,brand,camera):\n",
    "        print('inside phone constructor ')\n",
    "        self.__price = price\n",
    "        self.brand = brand\n",
    "        self.camera = camera\n",
    "\n",
    "    def buy(self):\n",
    "        print('buying a phone')\n",
    "\n",
    "class Smartphone(Phone):\n",
    "    def buy(self):\n",
    "        print('buying a smarphone')\n",
    "        print(super().brand)\n",
    "\n",
    "s  = Smartphone(2000,'nokia',13)\n",
    "\n",
    "s.buy()    "
   ]
  },
  {
   "cell_type": "code",
   "execution_count": null,
   "metadata": {},
   "outputs": [],
   "source": [
    "# super cannot access variable .\n",
    "# super cannot be used outside the class.\n",
    "# 'super' object has no attribute."
   ]
  },
  {
   "cell_type": "markdown",
   "metadata": {},
   "source": [
    "### Inheritance summary \n",
    "+ A class can inherit from another class.\n",
    "+ Inheritance improves code reuse\n",
    "+ Constructor, attributes ,methods get inherited to the child class.\n",
    "+ The parent has no access to the child class.\n",
    "+ Private properties of parent are not accessible directly in child class.\n",
    "+ Child class can override the attributes or methods. This is called method overriding.\n",
    "+ super() is an inbuilt function which is used to invoke the parent class methods and constructor."
   ]
  },
  {
   "cell_type": "code",
   "execution_count": 10,
   "metadata": {},
   "outputs": [
    {
     "name": "stdout",
     "output_type": "stream",
     "text": [
      "100\n",
      "200\n"
     ]
    }
   ],
   "source": [
    "class Parent:\n",
    "    def __init__(self):\n",
    "        self.num = 100\n",
    "\n",
    "class Child(Parent):\n",
    "\n",
    "    def __init__(self):\n",
    "        super().__init__()\n",
    "        self.var= 200\n",
    "\n",
    "    def show(self):\n",
    "        print(self.num)\n",
    "        print(self.var)\n",
    "\n",
    "son =  Child()  # self is son\n",
    "son.show()  \n"
   ]
  },
  {
   "cell_type": "code",
   "execution_count": 13,
   "metadata": {},
   "outputs": [
    {
     "name": "stdout",
     "output_type": "stream",
     "text": [
      "child 10\n"
     ]
    }
   ],
   "source": [
    "class Parent:\n",
    "    def __init__(self):\n",
    "        self.__num = 100\n",
    "\n",
    "    def show(self):\n",
    "        print(f'Parent {self.__num}')\n",
    "\n",
    "class Child(Parent):\n",
    "    def __init__(self):\n",
    "        super().__init__()\n",
    "        self.__var = 10\n",
    "\n",
    "\n",
    "    def show(self):\n",
    "        print(f'child {self.__var}')\n",
    "\n",
    "obj = Child()\n",
    "obj.show()"
   ]
  },
  {
   "cell_type": "markdown",
   "metadata": {},
   "source": [
    "### Types of Inheritance\n",
    "+ Single Inheritance\n",
    "+ Multilevel Inheritance \n",
    "+ Hierachical Inheritance\n",
    "+ Multiple Inheritance (diamond inheritance)\n",
    "+ Hybrid inheritance\n"
   ]
  },
  {
   "cell_type": "code",
   "execution_count": 15,
   "metadata": {},
   "outputs": [
    {
     "name": "stdout",
     "output_type": "stream",
     "text": [
      "Buying a phone\n"
     ]
    }
   ],
   "source": [
    "# Single inheritance\n",
    "class Phone:\n",
    "    def __init__(self, price , brand , camera):\n",
    "        self.__price = price\n",
    "        self.brand = brand\n",
    "        self.camera = camera\n",
    "\n",
    "    \n",
    "    def buy(self):\n",
    "        print('Buying a phone')\n",
    "\n",
    "class Smartphone(Phone):\n",
    "    pass\n",
    "\n",
    "Smartphone(1000,'apple','13px').buy()\n"
   ]
  },
  {
   "cell_type": "code",
   "execution_count": 18,
   "metadata": {},
   "outputs": [
    {
     "name": "stdout",
     "output_type": "stream",
     "text": [
      "Inside phone constructor\n",
      "Product customer review\n",
      "Buying a phone\n"
     ]
    }
   ],
   "source": [
    "# Multilevel inheritance\n",
    "class Product:\n",
    "\n",
    "    def review(self):\n",
    "        print('Product customer review')\n",
    "\n",
    "class Phone(Product):\n",
    "\n",
    "    def __init__(self,price,brand,camera):\n",
    "        print('Inside phone constructor')\n",
    "        self.__price = price\n",
    "        self.brand = brand\n",
    "        self.camera = camera\n",
    "\n",
    "    def buy(self):\n",
    "        print('Buying a phone')\n",
    "\n",
    "class Smartphone(Phone):\n",
    "    pass\n",
    "\n",
    "s = Smartphone(2000,'apple',12)\n",
    "\n",
    "s.review()\n",
    "s.buy()"
   ]
  },
  {
   "cell_type": "code",
   "execution_count": 21,
   "metadata": {},
   "outputs": [
    {
     "name": "stdout",
     "output_type": "stream",
     "text": [
      "inside phone constructor\n",
      "buying a phone\n",
      "inside phone constructor\n",
      "buying a phone\n"
     ]
    }
   ],
   "source": [
    "# Hirarchical\n",
    "class Phone:\n",
    "    def __init__(self,price , brand , camera):\n",
    "        print('inside phone constructor')\n",
    "        self.__price = price\n",
    "        self.brand  = brand\n",
    "        self.camera  = camera\n",
    "\n",
    "    def buy(self):\n",
    "        print('buying a phone')\n",
    "\n",
    "class Smartphone(Phone):\n",
    "    pass\n",
    "\n",
    "class FeaturePhone(Phone):\n",
    "    pass\n",
    "\n",
    "Smartphone(1000,'apple','12px').buy()\n",
    "FeaturePhone(10,'lava','1px').buy()\n"
   ]
  },
  {
   "cell_type": "code",
   "execution_count": 23,
   "metadata": {},
   "outputs": [
    {
     "name": "stdout",
     "output_type": "stream",
     "text": [
      "inside phone construcor\n",
      "buying a phone\n",
      "customer review\n"
     ]
    }
   ],
   "source": [
    "# Multiple\n",
    "class Phone:\n",
    "    def __init__(self,price ,brand , camera):\n",
    "        print('inside phone construcor')\n",
    "\n",
    "    def buy(self):\n",
    "        print('buying a phone')\n",
    "\n",
    "class Product:\n",
    "    def review(self):\n",
    "        print('customer review')\n",
    "\n",
    "class Smartphone(Phone,Product):\n",
    "    pass\n",
    "\n",
    "\n",
    "s = Smartphone(2000,'apple',12)\n",
    "\n",
    "s.buy()\n",
    "s.review()"
   ]
  },
  {
   "cell_type": "code",
   "execution_count": 29,
   "metadata": {},
   "outputs": [
    {
     "name": "stdout",
     "output_type": "stream",
     "text": [
      "inside a phone constructor\n",
      "product buy metod\n"
     ]
    }
   ],
   "source": [
    "# Diamond problem\n",
    "\n",
    "class Phone:\n",
    "    def __init__(self,price,brand , camera):\n",
    "        print('inside a phone constructor')\n",
    "        self.__price = price\n",
    "        self.brand = brand\n",
    "        self.camera = camera\n",
    "\n",
    "    def buy(self):\n",
    "        print('buying a phone')\n",
    "\n",
    "class Product:\n",
    "    def buy(self):\n",
    "           print('product buy metod')\n",
    "\n",
    "\n",
    "# Method resolution or order -- First come first go\n",
    "\n",
    "class SmartPhone(Product,Phone):\n",
    "    pass\n",
    "\n",
    "s = SmartPhone(2000,'apple',23)\n",
    "\n",
    "s.buy()"
   ]
  },
  {
   "cell_type": "code",
   "execution_count": 30,
   "metadata": {},
   "outputs": [
    {
     "name": "stdout",
     "output_type": "stream",
     "text": [
      "70\n"
     ]
    }
   ],
   "source": [
    "# example\n",
    "class A:\n",
    "    def m1(self):\n",
    "        return 20\n",
    "    \n",
    "class B(A):\n",
    "    def m1(self):\n",
    "        return 30\n",
    "    def m2(self):\n",
    "        return 40\n",
    "    \n",
    "class C(B):\n",
    "    def m2(self):\n",
    "        return 20\n",
    "\n",
    "obj1 = A()\n",
    "obj2 = B()\n",
    "obj3 = C()\n",
    "print(obj1.m1()+ obj3.m1()+ obj3.m2())"
   ]
  },
  {
   "cell_type": "code",
   "execution_count": null,
   "metadata": {},
   "outputs": [
    {
     "ename": "",
     "evalue": "",
     "output_type": "error",
     "traceback": [
      "\u001b[1;31mThe Kernel crashed while executing code in the current cell or a previous cell. \n",
      "\u001b[1;31mPlease review the code in the cell(s) to identify a possible cause of the failure. \n",
      "\u001b[1;31mClick <a href='https://aka.ms/vscodeJupyterKernelCrash'>here</a> for more info. \n",
      "\u001b[1;31mView Jupyter <a href='command:jupyter.viewOutput'>log</a> for further details."
     ]
    }
   ],
   "source": [
    "class A:\n",
    "    def m1(self):\n",
    "        return 20\n",
    "\n",
    "class B:\n",
    "    def m1(self):\n",
    "        val = super().m1()+30\n",
    "        return val\n",
    "\n",
    "class C(B):\n",
    "    def m1(self):  # here m1 creates infinte loop\n",
    "        val = self.m1()+20\n",
    "        return val\n",
    "\n",
    "obj = C()\n",
    "print(obj.m1())"
   ]
  },
  {
   "cell_type": "markdown",
   "metadata": {},
   "source": [
    "# Polymorphism \n",
    "+ Method Overriding\n",
    "+ Method Overloading\n",
    "+ Operator Overloading"
   ]
  },
  {
   "cell_type": "code",
   "execution_count": null,
   "metadata": {},
   "outputs": [],
   "source": [
    "# In python the method overloading is not possible."
   ]
  }
 ],
 "metadata": {
  "kernelspec": {
   "display_name": "Python 3",
   "language": "python",
   "name": "python3"
  },
  "language_info": {
   "codemirror_mode": {
    "name": "ipython",
    "version": 3
   },
   "file_extension": ".py",
   "mimetype": "text/x-python",
   "name": "python",
   "nbconvert_exporter": "python",
   "pygments_lexer": "ipython3",
   "version": "3.8.10"
  }
 },
 "nbformat": 4,
 "nbformat_minor": 2
}
