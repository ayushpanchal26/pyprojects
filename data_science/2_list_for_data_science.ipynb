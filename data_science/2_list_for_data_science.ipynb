{
 "cells": [
  {
   "cell_type": "markdown",
   "metadata": {},
   "source": [
    "# 1.list\n",
    "+ what are list?\n",
    "+ Lists vs Arrays\n",
    "+ Characterstics of a list\n",
    "+ How to create a list \n",
    "+ Access items from a list\n",
    "+ Editing item in a list\n",
    "+ Deleting item from a list\n",
    "+ Operation on lists\n",
    "+ Function on lists"
   ]
  },
  {
   "cell_type": "markdown",
   "metadata": {},
   "source": [
    "# what are lists\n",
    "+ list is an data type where you can store multiple items under 1 name. More technically, lists act like dynamic arrays which mean ca add more items on the fly."
   ]
  },
  {
   "cell_type": "markdown",
   "metadata": {},
   "source": [
    "# Array vs Lists\n",
    "+ fixed vs Dynamic size\n",
    "+ Concenience -> Hetrogenous \n",
    "+ Speed of execution\n",
    "+ Memory"
   ]
  },
  {
   "cell_type": "code",
   "execution_count": 3,
   "metadata": {},
   "outputs": [
    {
     "name": "stdout",
     "output_type": "stream",
     "text": [
      "2316620030336\n",
      "140706124994320\n",
      "140706124994352\n",
      "140706124994384\n",
      "140706124994320\n",
      "140706124994352\n",
      "140706124994384\n"
     ]
    }
   ],
   "source": [
    "L = [1,2,3]\n",
    "print(id(L))\n",
    "print(id(L[0]))\n",
    "print(id(L[1]))\n",
    "print(id(L[2]))\n",
    "print(id(1))\n",
    "print(id(2))\n",
    "print(id(3))\n",
    "# id function shows the memory location "
   ]
  },
  {
   "cell_type": "markdown",
   "metadata": {},
   "source": [
    "Python List is dynamic data type so we can store multiple items in it "
   ]
  },
  {
   "cell_type": "markdown",
   "metadata": {},
   "source": [
    " Characterstics of a list\n",
    "+ Ordered \n",
    "+ Changable / Mutable \n",
    "+ Hetrogenous\n",
    "+ Can have duplicates\n",
    "+ are dynamic\n",
    "+ can be nested \n",
    "+ item can be accessed \n",
    "+ can contain any kind of objects in python\n",
    "\n"
   ]
  },
  {
   "cell_type": "code",
   "execution_count": 6,
   "metadata": {},
   "outputs": [
    {
     "name": "stdout",
     "output_type": "stream",
     "text": [
      "[]\n",
      "[1, 2, 3, 4, 5]\n",
      "[1, 2, 3, [4, 5]]\n",
      "[[[1, 2], [3, 4]], [[5, 6], [7, 8]]]\n",
      "[1, True, 5.6, 'hello', (5+6j)]\n",
      "['h', 'e', 'l', 'l', 'o']\n"
     ]
    }
   ],
   "source": [
    "# Creating a list\n",
    "\n",
    "# empty list \n",
    "print([])\n",
    "\n",
    "# 1D list\n",
    "print([1,2,3,4,5,]) #If all the values in a Python list are numbers, the list is homogeneous because it contains elements\n",
    "                    # of the same data type (numeric values). \n",
    "\n",
    "# 2D list\n",
    "print([1,2,3,[4,5]]) # it is heterogenous because all elements are not of the same data type.\n",
    "\n",
    "# 3D list\n",
    "print([[[1,2],[3,4]],[[5,6],[7,8]]]) # it is homegenous cause all elements inside the outer list are 2D list.\n",
    "\n",
    "# Heterogeneous list\n",
    "print([1,True,5.6,'hello',5+6j])\n",
    "\n",
    "# using type conversion\n",
    "print(list('hello'))"
   ]
  },
  {
   "cell_type": "markdown",
   "metadata": {},
   "source": [
    "Accessing items from a list"
   ]
  },
  {
   "cell_type": "code",
   "execution_count": 36,
   "metadata": {},
   "outputs": [
    {
     "name": "stdout",
     "output_type": "stream",
     "text": [
      "7\n",
      "2\n",
      "[3, 4, 5, 6]\n",
      "[1, 3, 5]\n",
      "[1, 3, 5]\n"
     ]
    }
   ],
   "source": [
    "# Indexing \n",
    "L = [1,2,3,[4,5]]\n",
    "l3D= [[[1,2],[3,4]],[[5,6],[7,8]]] # 3D\n",
    "# postive\n",
    "# print(L[3][0])\n",
    "print(l3D[1][1][0])\n",
    "# negative\n",
    "# print(L[-1][-2])\n",
    "print(l3D[-2][-2][-1])\n",
    "\n",
    "# slicing\n",
    "l = [1,2,3,4,5,6]\n",
    "print(l[-4:])\n",
    "print(l[0::2])\n",
    "print(l[-6:-1:2])"
   ]
  },
  {
   "cell_type": "code",
   "execution_count": 37,
   "metadata": {},
   "outputs": [
    {
     "name": "stdout",
     "output_type": "stream",
     "text": [
      "[1, 2, 3, 4, 5, True]\n"
     ]
    }
   ],
   "source": [
    "# append \n",
    "l = [1,2,3,4,5]\n",
    "l.append(True)\n",
    "print(l)"
   ]
  },
  {
   "cell_type": "code",
   "execution_count": 38,
   "metadata": {},
   "outputs": [
    {
     "name": "stdout",
     "output_type": "stream",
     "text": [
      "[1, 2, 3, 4, 5, 6, 7, 8]\n"
     ]
    }
   ],
   "source": [
    "# Extend\n",
    "l = [1,2,3,4,5]\n",
    "l.extend([6,7,8])\n",
    "print(l)"
   ]
  },
  {
   "cell_type": "code",
   "execution_count": 39,
   "metadata": {},
   "outputs": [
    {
     "name": "stdout",
     "output_type": "stream",
     "text": [
      "[1, 2, 3, 4, 5, 'D', 'e', 'l', 'h', 'i']\n"
     ]
    }
   ],
   "source": [
    "l = [1,2,3,4,5]\n",
    "l.extend('Delhi')\n",
    "print(l)"
   ]
  },
  {
   "cell_type": "code",
   "execution_count": 42,
   "metadata": {},
   "outputs": [
    {
     "name": "stdout",
     "output_type": "stream",
     "text": [
      "[1, True, 2, 3, 4, 5]\n"
     ]
    }
   ],
   "source": [
    "# Insert\n",
    "l = [1,2,3,4,5]\n",
    "l.insert(1,True)\n",
    "        #index , element\n",
    "print(l)"
   ]
  },
  {
   "cell_type": "markdown",
   "metadata": {},
   "source": [
    "Editing items in a list"
   ]
  },
  {
   "cell_type": "code",
   "execution_count": 45,
   "metadata": {},
   "outputs": [
    {
     "name": "stdout",
     "output_type": "stream",
     "text": [
      "[1, 2, 3, 4, 500]\n"
     ]
    }
   ],
   "source": [
    "l = [1,2,3,4,5]\n",
    "# editing with indexing\n",
    "l[-1] = 500\n",
    "\n",
    "# editing with slicing\n",
    "l[1:4]\n",
    "\n",
    "print(l)\n"
   ]
  },
  {
   "cell_type": "markdown",
   "metadata": {},
   "source": [
    "Deleting items from a list"
   ]
  },
  {
   "cell_type": "code",
   "execution_count": 48,
   "metadata": {},
   "outputs": [
    {
     "name": "stdout",
     "output_type": "stream",
     "text": [
      "[1, 2, 3, 4, 5]\n",
      "[1, 2, 3, 4]\n"
     ]
    }
   ],
   "source": [
    "# del \n",
    "l = [1,2,3,4,5]\n",
    "print(l)\n",
    "del l[-1]\n",
    "# del(l) # to deleter a entire list\n",
    "print(l)"
   ]
  },
  {
   "cell_type": "code",
   "execution_count": 56,
   "metadata": {},
   "outputs": [
    {
     "name": "stdout",
     "output_type": "stream",
     "text": [
      "[1, 2, 3, 4, 5]\n"
     ]
    }
   ],
   "source": [
    "# remove\n",
    "l = [1,2,3,4,5,'True']\n",
    "l.remove('True')\n",
    "print(l)"
   ]
  },
  {
   "cell_type": "code",
   "execution_count": 60,
   "metadata": {},
   "outputs": [
    {
     "name": "stdout",
     "output_type": "stream",
     "text": [
      "5\n",
      "1\n"
     ]
    }
   ],
   "source": [
    "# pop \n",
    "l = [1,2,3,4,5]\n",
    "print(l.pop())\n",
    "print(l.pop(0))\n",
    "# if we provide the index than it will delete the given index \n",
    "# if it index is not given than it wil delete the last item"
   ]
  },
  {
   "cell_type": "code",
   "execution_count": 61,
   "metadata": {},
   "outputs": [
    {
     "name": "stdout",
     "output_type": "stream",
     "text": [
      "[]\n"
     ]
    }
   ],
   "source": [
    "# clear\n",
    "l = [1,2,3,4,5]\n",
    "l.clear()\n",
    "print(l)"
   ]
  },
  {
   "cell_type": "markdown",
   "metadata": {},
   "source": [
    "# operations on list\n",
    "+ Arithmetic\n",
    "+ Memnership\n",
    "+ Loop"
   ]
  },
  {
   "cell_type": "code",
   "execution_count": 62,
   "metadata": {},
   "outputs": [
    {
     "name": "stdout",
     "output_type": "stream",
     "text": [
      "[1, 2, 3, 4, 5, 6, 7, 8]\n"
     ]
    }
   ],
   "source": [
    "# Arithmetic (+ , *)\n",
    "l1 = [1,2,3,4]\n",
    "l2 = [5,6,7,8]\n",
    "\n",
    "# concatenation\n",
    "print(l1+l2)"
   ]
  },
  {
   "cell_type": "code",
   "execution_count": 64,
   "metadata": {},
   "outputs": [
    {
     "name": "stdout",
     "output_type": "stream",
     "text": [
      "3\n"
     ]
    }
   ],
   "source": [
    "print(l1*3)"
   ]
  },
  {
   "cell_type": "code",
   "execution_count": 71,
   "metadata": {},
   "outputs": [
    {
     "name": "stdout",
     "output_type": "stream",
     "text": [
      "True\n",
      "True\n",
      "False\n"
     ]
    }
   ],
   "source": [
    "# Membership operator \n",
    "l1 = [1,2,3,4]\n",
    "l2 = [1,2,3,4,5,[5,6]]\n",
    "\n",
    "print(5 in l2)\n",
    "print(5 not in l1)\n",
    "print(6 in l2 )"
   ]
  },
  {
   "cell_type": "code",
   "execution_count": 87,
   "metadata": {},
   "outputs": [
    {
     "name": "stdout",
     "output_type": "stream",
     "text": [
      "1\n",
      "2\n",
      "3\n",
      "4\n",
      "5\n",
      "[5, 6]\n",
      "[[1, 2], [3, 4]]\n",
      "[[5, 6], [7, 8]]\n",
      "[[1, 2], [3, 4]]\n",
      "[[5, 6], [7, 8]]\n"
     ]
    }
   ],
   "source": [
    "# loops \n",
    "l1 = [1,2,3,4]\n",
    "l2 = [1,2,3,4,5,[5,6]]\n",
    "l3= [[[1,2],[3,4]],[[5,6],[7,8]]]\n",
    "for i in l2:\n",
    "    print(i)\n",
    "# for i in l3:\n",
    "#     print(i)\n",
    "\n",
    "# for i in l3:\n",
    "#     for j in l3:\n",
    "#         print(j)\n",
    "    "
   ]
  },
  {
   "cell_type": "markdown",
   "metadata": {},
   "source": [
    "list function\n"
   ]
  },
  {
   "cell_type": "code",
   "execution_count": 95,
   "metadata": {},
   "outputs": [
    {
     "name": "stdout",
     "output_type": "stream",
     "text": [
      "8\n",
      "0\n",
      "8\n",
      "[8, 7, 4, 2, 2, 2, 1, 0]\n"
     ]
    }
   ],
   "source": [
    "l = [1,2,7,4,8,0,2,2]\n",
    "# these are universal function\n",
    "# len\n",
    "print(len(l))\n",
    "\n",
    "# min\n",
    "print(min(l))\n",
    "\n",
    "# max\n",
    "print(max(l))\n",
    "\n",
    "# sorted\n",
    "print(sorted(l,reverse=True))\n"
   ]
  },
  {
   "cell_type": "code",
   "execution_count": 94,
   "metadata": {},
   "outputs": [
    {
     "name": "stdout",
     "output_type": "stream",
     "text": [
      "3\n"
     ]
    }
   ],
   "source": [
    "# count\n",
    "print(l.count(2))"
   ]
  },
  {
   "cell_type": "code",
   "execution_count": 97,
   "metadata": {},
   "outputs": [
    {
     "data": {
      "text/plain": [
       "5"
      ]
     },
     "execution_count": 97,
     "metadata": {},
     "output_type": "execute_result"
    }
   ],
   "source": [
    "# index\n",
    "l = [1,2,4,5,6,345,456,78]\n",
    "l.index(345)"
   ]
  },
  {
   "cell_type": "code",
   "execution_count": 104,
   "metadata": {},
   "outputs": [
    {
     "name": "stdout",
     "output_type": "stream",
     "text": [
      "[3, 4, 5, 6, 5, 4, 2, 1]\n"
     ]
    }
   ],
   "source": [
    "# reverse - permanent operation\n",
    "l = [1,2,4,5,6,5,4,3]\n",
    "l.reverse()\n",
    "print(l)"
   ]
  },
  {
   "cell_type": "code",
   "execution_count": 105,
   "metadata": {},
   "outputs": [
    {
     "name": "stdout",
     "output_type": "stream",
     "text": [
      "[0, 2, 3, 5, 6, 7, 8]\n"
     ]
    }
   ],
   "source": [
    "# sort (vs sorted)\n",
    "# sort - permanent operation\n",
    "l = [2,5,7,8,0,3,6]\n",
    "l.sort()\n",
    "print(l)"
   ]
  },
  {
   "cell_type": "code",
   "execution_count": 108,
   "metadata": {},
   "outputs": [
    {
     "name": "stdout",
     "output_type": "stream",
     "text": [
      "2316623776704\n",
      "2316624785728\n",
      "[2, 1, 5, 4]\n",
      "[2, 1, 5, 4]\n"
     ]
    }
   ],
   "source": [
    "# copy\n",
    "l = [2,1,5,4]\n",
    "print(id(l))\n",
    "\n",
    "l1  = l.copy()\n",
    "print(id(l1))\n"
   ]
  },
  {
   "cell_type": "markdown",
   "metadata": {},
   "source": [
    "# List Comprehension\n",
    "List Comprehension provides a concise way of creating lists."
   ]
  },
  {
   "cell_type": "markdown",
   "metadata": {},
   "source": [
    "Advantages of List Comprehensoin\n",
    " + More time-efficient and space-efficient than loop\n",
    " + Require fewer lines of code\n",
    " + Transforms iterative statment into a formula"
   ]
  },
  {
   "cell_type": "code",
   "execution_count": 109,
   "metadata": {},
   "outputs": [
    {
     "name": "stdout",
     "output_type": "stream",
     "text": [
      "[1, 2, 3, 4, 5, 6, 7, 8, 9, 10]\n"
     ]
    }
   ],
   "source": [
    "# add 1 to 10 numbers to a list\n",
    "# normal\n",
    "l = []\n",
    "for i in range(1,11):\n",
    "    l.append(i)\n",
    "\n",
    "print(l)"
   ]
  },
  {
   "cell_type": "code",
   "execution_count": 111,
   "metadata": {},
   "outputs": [
    {
     "name": "stdout",
     "output_type": "stream",
     "text": [
      "[1, 2, 3, 4, 5, 6, 7, 8, 9, 10]\n"
     ]
    }
   ],
   "source": [
    "# List Comprehension\n",
    "l = [i for i in range(1,11)]\n",
    "print(l)"
   ]
  },
  {
   "cell_type": "code",
   "execution_count": 115,
   "metadata": {},
   "outputs": [
    {
     "name": "stdout",
     "output_type": "stream",
     "text": [
      "[-6, -9, -12]\n"
     ]
    }
   ],
   "source": [
    "# scalar multiplication on a vector\n",
    "v  = [2,3,4]\n",
    "s = -3\n",
    "\n",
    "l = [s*i for i in v]\n",
    "print(l)"
   ]
  },
  {
   "cell_type": "code",
   "execution_count": 117,
   "metadata": {},
   "outputs": [
    {
     "name": "stdout",
     "output_type": "stream",
     "text": [
      "[1, 4, 9, 16, 25, 36, 49, 64, 81, 100]\n"
     ]
    }
   ],
   "source": [
    "l = [i**2 for i in range(1,11)]\n",
    "print(l)"
   ]
  },
  {
   "cell_type": "code",
   "execution_count": 118,
   "metadata": {},
   "outputs": [
    {
     "name": "stdout",
     "output_type": "stream",
     "text": [
      "[5, 10, 15, 20, 25, 30, 35, 40, 45]\n"
     ]
    }
   ],
   "source": [
    "l = [i for i in range(1,50) if i%5 == 0]\n",
    "print(l)"
   ]
  },
  {
   "cell_type": "code",
   "execution_count": 124,
   "metadata": {},
   "outputs": [
    {
     "name": "stdout",
     "output_type": "stream",
     "text": [
      "['python', 'php']\n"
     ]
    }
   ],
   "source": [
    "# find all the languages which starts with letter 'p'\n",
    "language  = ['java','python','php','c',\n",
    "             'javascript']\n",
    "l = [i for i in language if i.startswith('p')]\n",
    "print(l)"
   ]
  },
  {
   "cell_type": "code",
   "execution_count": 131,
   "metadata": {},
   "outputs": [
    {
     "name": "stdout",
     "output_type": "stream",
     "text": [
      "['apple', 'appricote']\n"
     ]
    }
   ],
   "source": [
    "# nested if with LC\n",
    "basket = ['apple','appricote','guava','cherry','banana']\n",
    "my_fruits = ['apple','kiwi','appricote','grapes','banana']\n",
    "# add new list from my_fruits and items if the fruits exists in basket and also starts with 'a'.\n",
    "l = [fruit for fruit in my_fruits if fruit in basket if fruit.startswith('a')]\n",
    "print(l)"
   ]
  },
  {
   "cell_type": "code",
   "execution_count": 132,
   "metadata": {},
   "outputs": [
    {
     "data": {
      "text/plain": [
       "[[1, 2, 3], [2, 4, 6], [3, 6, 9]]"
      ]
     },
     "execution_count": 132,
     "metadata": {},
     "output_type": "execute_result"
    }
   ],
   "source": [
    "# print a  (3,3) matrix using lc\n",
    "[[i*j for i in range(1,4)] for j in range(1,4)]"
   ]
  },
  {
   "cell_type": "code",
   "execution_count": 134,
   "metadata": {},
   "outputs": [
    {
     "data": {
      "text/plain": [
       "[5, 6, 7, 8, 10, 12, 14, 16, 15, 18, 21, 24, 20, 24, 28, 32]"
      ]
     },
     "execution_count": 134,
     "metadata": {},
     "output_type": "execute_result"
    }
   ],
   "source": [
    "# cartesion product \n",
    "l1 = [1,2,3,4]\n",
    "l2 = [5,6,7,8]\n",
    "[i*j for i in l1 for j in l2]"
   ]
  },
  {
   "cell_type": "code",
   "execution_count": 135,
   "metadata": {},
   "outputs": [
    {
     "data": {
      "text/plain": [
       "[2, 4, 6, 8, 10, 12, 14, 16, 18]"
      ]
     },
     "execution_count": 135,
     "metadata": {},
     "output_type": "execute_result"
    }
   ],
   "source": [
    "[i for i in range(1,20) if i%2 == 0]"
   ]
  },
  {
   "cell_type": "code",
   "execution_count": 136,
   "metadata": {},
   "outputs": [
    {
     "data": {
      "text/plain": [
       "['AYUSH', 'RAVINDRA', 'SANTOSH', 'NENCY']"
      ]
     },
     "execution_count": 136,
     "metadata": {},
     "output_type": "execute_result"
    }
   ],
   "source": [
    "l = ['ayush','ravindra','santosh','nency']\n",
    "[i.upper() for i in l ]"
   ]
  },
  {
   "cell_type": "code",
   "execution_count": 140,
   "metadata": {},
   "outputs": [
    {
     "data": {
      "text/plain": [
       "[3, 5]"
      ]
     },
     "execution_count": 140,
     "metadata": {},
     "output_type": "execute_result"
    }
   ],
   "source": [
    "l1 = [1,2,3,6,6,6,5]\n",
    "l2 = [5,4,5,3]\n",
    "[i for i in l1 if i in l2]"
   ]
  },
  {
   "cell_type": "code",
   "execution_count": 147,
   "metadata": {},
   "outputs": [],
   "source": [
    "\n",
    "# [num for num in range(2,101) if all(num % i != 0 for i in range(2,int(num**0.5) +1) and num != 1)]"
   ]
  },
  {
   "cell_type": "markdown",
   "metadata": {},
   "source": [
    "## 2 ways to traverse a list \n",
    "+ itemwise\n",
    "+ indexwise\n"
   ]
  },
  {
   "cell_type": "code",
   "execution_count": 148,
   "metadata": {},
   "outputs": [
    {
     "name": "stdout",
     "output_type": "stream",
     "text": [
      "1\n",
      "2\n",
      "4\n",
      "5\n"
     ]
    }
   ],
   "source": [
    "# itemwise:\n",
    "l = [1,2,4,5]\n",
    "for i in l:\n",
    "    print(i)"
   ]
  },
  {
   "cell_type": "code",
   "execution_count": 150,
   "metadata": {},
   "outputs": [
    {
     "name": "stdout",
     "output_type": "stream",
     "text": [
      "2\n",
      "4\n",
      "5\n",
      "6\n"
     ]
    }
   ],
   "source": [
    "l = [2,4,5,6]\n",
    "for i in range(0,len(l)):\n",
    "    print(l[i])"
   ]
  },
  {
   "cell_type": "markdown",
   "metadata": {},
   "source": [
    "# Zip \n",
    "+ The zip() function returns a zip object , which is an itreator of tuples where the first item in each passed iterator is paired together and then second item in each passed iterator are paired together.\n",
    "<br>\n",
    "if the passed iterators have different lenghts, the iterator with the least items decides the length of the new iterator.\n"
   ]
  },
  {
   "cell_type": "code",
   "execution_count": 154,
   "metadata": {},
   "outputs": [
    {
     "data": {
      "text/plain": [
       "[0, 4, 0, 0]"
      ]
     },
     "execution_count": 154,
     "metadata": {},
     "output_type": "execute_result"
    }
   ],
   "source": [
    "# wap to add items of 2 lists indexwise\n",
    "l1 = [1,2,3,4]\n",
    "l2 = [-1,2,-3,-4]\n",
    "\n",
    "# list(zip(l1,l2))\n",
    "[i+j for i,j in zip(l1,l2)]"
   ]
  },
  {
   "cell_type": "code",
   "execution_count": 157,
   "metadata": {},
   "outputs": [
    {
     "name": "stdout",
     "output_type": "stream",
     "text": [
      "[1, 2, <built-in function print>, <class 'type'>, <bound method Kernel.raw_input of <ipykernel.ipkernel.IPythonKernel object at 0x0000021B61020A30>>]\n"
     ]
    }
   ],
   "source": [
    "l  =[1,2,print,type, input]\n",
    "print(l)\n"
   ]
  },
  {
   "cell_type": "markdown",
   "metadata": {},
   "source": [
    "# Disadvantages of python lists\n",
    "+ Slow \n",
    "+ Risky usage \n",
    "+ eats up more memory (cause list are immutable)"
   ]
  },
  {
   "cell_type": "code",
   "execution_count": null,
   "metadata": {},
   "outputs": [],
   "source": []
  }
 ],
 "metadata": {
  "kernelspec": {
   "display_name": "Python 3",
   "language": "python",
   "name": "python3"
  },
  "language_info": {
   "codemirror_mode": {
    "name": "ipython",
    "version": 3
   },
   "file_extension": ".py",
   "mimetype": "text/x-python",
   "name": "python",
   "nbconvert_exporter": "python",
   "pygments_lexer": "ipython3",
   "version": "3.8.10"
  }
 },
 "nbformat": 4,
 "nbformat_minor": 2
}
