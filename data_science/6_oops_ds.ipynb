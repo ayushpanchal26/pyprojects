{
 "cells": [
  {
   "cell_type": "markdown",
   "metadata": {},
   "source": [
    "### Q . Write OOP classes to handle the following scenario:\n",
    "+ A user can create and view 2D coordinates.\n",
    "+ A user can find out the distance between 2 coordinates.\n",
    "+ A user can find the distance of a coordinate from origin.\n",
    "+ A user can check if a point lies on a given line.\n",
    "+ A user can find the distance between a given 2D point and a given line."
   ]
  },
  {
   "cell_type": "code",
   "execution_count": 293,
   "metadata": {},
   "outputs": [],
   "source": [
    "class Point:\n",
    "\n",
    "    def __init__(self,x,y):\n",
    "        self.x_cod = x\n",
    "        self.y_cod = y\n",
    "\n",
    "    def __str__(self):\n",
    "        return f'<{self.x_cod} , {self.y_cod}>'\n",
    "    \n",
    "\n",
    "    def eculidean_distance(self,other):\n",
    "        return ((self.x_cod - other.x_cod)**2 + (self.y_cod - other.y_cod)**2)**0.5\n",
    "    \n",
    "\n",
    "    def distance_from_origin(self):\n",
    "        return self.eculidean_distance(Point(0,0))\n",
    "        # return (self.x_cod**2 + self.y_cod**2)**0.5\n",
    "\n",
    "\n",
    "class Line:\n",
    "    \n",
    "    def __init__(self,A,B,C):\n",
    "        self.A = A\n",
    "        self.B = B\n",
    "        self.C = C\n",
    "\n",
    "    def __str__(self):\n",
    "        return f'{self.A}X + {self.B}Y + {self.C}  = '\n",
    "    \n",
    "    def point_on_line(line, point):\n",
    "        if line.A*point.x_cod + line.B*point.y_cod + line.C== 0:\n",
    "            return \"lies on the line \"\n",
    "        else:\n",
    "            return \"does not lies on the line \"\n",
    "        \n",
    "    def shortest_distance(line,point):\n",
    "        return   abs(line.A*point.x_cod + line.B*point.y_cod + line.C)/(line.A**2 + line.B**2)\n",
    "             \n",
    "    "
   ]
  },
  {
   "cell_type": "code",
   "execution_count": 294,
   "metadata": {},
   "outputs": [
    {
     "name": "stdout",
     "output_type": "stream",
     "text": [
      "1X + 1Y + -2  = \n",
      "<1 , 1>\n"
     ]
    },
    {
     "data": {
      "text/plain": [
       "0.0"
      ]
     },
     "execution_count": 294,
     "metadata": {},
     "output_type": "execute_result"
    }
   ],
   "source": [
    "l1 = Line(1,1,-2)\n",
    "p1 = Point(1,1)\n",
    "print(l1)\n",
    "print(p1)\n",
    "l1.shortest_distance(p1)"
   ]
  },
  {
   "cell_type": "code",
   "execution_count": 295,
   "metadata": {},
   "outputs": [
    {
     "name": "stdout",
     "output_type": "stream",
     "text": [
      "1.4142135623730951\n"
     ]
    },
    {
     "data": {
      "text/plain": [
       "'does not lies on the line '"
      ]
     },
     "execution_count": 295,
     "metadata": {},
     "output_type": "execute_result"
    }
   ],
   "source": [
    "p1 = Point(0,0)\n",
    "p2 = Point(1,1)\n",
    "p1.eculidean_distance(p2)\n",
    "print(p2.distance_from_origin())\n",
    "\n",
    "l1.point_on_line(p1)\n"
   ]
  },
  {
   "cell_type": "markdown",
   "metadata": {},
   "source": [
    "### How objects access attributes"
   ]
  },
  {
   "cell_type": "code",
   "execution_count": 296,
   "metadata": {},
   "outputs": [],
   "source": [
    "class Person:\n",
    "\n",
    "    def __init__(self,name_input , country_input):\n",
    "        self.name  = name_input\n",
    "        self.country = country_input\n",
    "\n",
    "    def greet(self):\n",
    "        if self.country == 'india':\n",
    "            print('namaste',self.name)\n",
    "        else:\n",
    "            print('hello',self.name)\n",
    "            "
   ]
  },
  {
   "cell_type": "code",
   "execution_count": 297,
   "metadata": {},
   "outputs": [
    {
     "name": "stdout",
     "output_type": "stream",
     "text": [
      "namaste ayush\n"
     ]
    },
    {
     "data": {
      "text/plain": [
       "'india'"
      ]
     },
     "execution_count": 297,
     "metadata": {},
     "output_type": "execute_result"
    }
   ],
   "source": [
    "p= Person('ayush','india')\n",
    "p.greet()\n",
    "p.name\n",
    "p.country\n"
   ]
  },
  {
   "cell_type": "code",
   "execution_count": 298,
   "metadata": {},
   "outputs": [],
   "source": [
    "p.gender = 'male'"
   ]
  },
  {
   "cell_type": "code",
   "execution_count": 299,
   "metadata": {},
   "outputs": [
    {
     "data": {
      "text/plain": [
       "'male'"
      ]
     },
     "execution_count": 299,
     "metadata": {},
     "output_type": "execute_result"
    }
   ],
   "source": [
    "p.gender"
   ]
  },
  {
   "cell_type": "markdown",
   "metadata": {},
   "source": [
    "### Reference Variable \n",
    "+ Refernce varibales hold that objects\n",
    "+ We can create object without refernce variable as well.\n",
    "+ An object can have multiple reference variables.\n",
    "+ Assigning a new refernces variable to an existing object does not create a new object"
   ]
  },
  {
   "cell_type": "code",
   "execution_count": 300,
   "metadata": {},
   "outputs": [],
   "source": [
    "class Person:\n",
    "    \n",
    "    def __init__(self):\n",
    "        self.name = 'ayush'\n",
    "        self.gender = 'male'\n",
    "\n",
    "p = Person()\n",
    "q = p\n",
    "# here p is not the object p is refernce variable which has the address of object\n"
   ]
  },
  {
   "cell_type": "code",
   "execution_count": 301,
   "metadata": {},
   "outputs": [
    {
     "name": "stdout",
     "output_type": "stream",
     "text": [
      "2157354967968\n",
      "2157354967968\n"
     ]
    }
   ],
   "source": [
    "print(id(p))\n",
    "print(id(q))"
   ]
  },
  {
   "cell_type": "code",
   "execution_count": 302,
   "metadata": {},
   "outputs": [
    {
     "name": "stdout",
     "output_type": "stream",
     "text": [
      "ayush\n",
      "ayush\n",
      "santosh\n",
      "santosh\n"
     ]
    }
   ],
   "source": [
    "# change the attribute value with the help of 2nd object.\n",
    "print(p.name)\n",
    "print(q.name)\n",
    "q.name = 'santosh'\n",
    "print(q.name)\n",
    "print(p.name)"
   ]
  },
  {
   "cell_type": "markdown",
   "metadata": {},
   "source": [
    "### Pass By reference "
   ]
  },
  {
   "cell_type": "code",
   "execution_count": 303,
   "metadata": {},
   "outputs": [],
   "source": [
    "class Person:\n",
    "\n",
    "    def __init__(self,name , gender):\n",
    "        self.name = name\n",
    "        self.gender = gender\n",
    "\n",
    "# outside the class --> function\n",
    "def greet(person):\n",
    "    print(f'hi my name is {person.name} and i am a {person.gender}')\n",
    "    p1  = Person('santosh','female')\n",
    "    person.name = 'ravindra'\n",
    "    return p1\n",
    "    "
   ]
  },
  {
   "cell_type": "code",
   "execution_count": 304,
   "metadata": {},
   "outputs": [
    {
     "name": "stdout",
     "output_type": "stream",
     "text": [
      "hi my name is ayush and i am a male\n",
      "santosh\n",
      "female\n",
      "ravindra\n"
     ]
    }
   ],
   "source": [
    "p   = Person('ayush','male')\n",
    "x  =  greet(p)\n",
    "print(x.name)\n",
    "print(x.gender)\n",
    "print(p.name)"
   ]
  },
  {
   "cell_type": "markdown",
   "metadata": {},
   "source": [
    "All the objects in pthon are mutable(change can be done)"
   ]
  },
  {
   "cell_type": "markdown",
   "metadata": {},
   "source": [
    "### what is instance vaariable?\n",
    "instance variable is the variable whose value for different variable is different.<br>\n",
    "Instance variable is a special type of variable whose value depends on the object\n"
   ]
  },
  {
   "cell_type": "code",
   "execution_count": 305,
   "metadata": {},
   "outputs": [],
   "source": [
    "class Person:\n",
    "    def __init__(self,name,country):\n",
    "        self.name = name\n",
    "        self.country = country\n",
    "\n",
    "\n",
    "p1 = Person('ayush','india')\n",
    "p2 = Person('santosh','india')"
   ]
  },
  {
   "cell_type": "code",
   "execution_count": 306,
   "metadata": {},
   "outputs": [
    {
     "data": {
      "text/plain": [
       "'santosh'"
      ]
     },
     "execution_count": 306,
     "metadata": {},
     "output_type": "execute_result"
    }
   ],
   "source": [
    "p2.name"
   ]
  },
  {
   "cell_type": "markdown",
   "metadata": {},
   "source": [
    "# Encapsulation"
   ]
  },
  {
   "cell_type": "code",
   "execution_count": 307,
   "metadata": {},
   "outputs": [],
   "source": [
    "# class syntax -->\n",
    "class Atm:\n",
    "\n",
    "    def __init__(self):\n",
    "        print(id(self))\n",
    "        self.pin = ''\n",
    "        self.__balance = 0\n",
    "        print(\"am executed\")\n",
    "        # self.menu()\n",
    "    def get_balance(self):\n",
    "         return self.__balance\n",
    "\n",
    "    def set_balance(self,new_value):\n",
    "         if type(new_value) == int:\n",
    "              self.__balance = new_value\n",
    "         else:\n",
    "              print('Error wrong currency')\n",
    "    def menu(self):\n",
    "        user_input =  input(\"\"\"\n",
    "    Hi how can I help you?\n",
    "    1.Press 1 to create pin.\n",
    "    2.Press 2 to change pin.\n",
    "    3.Press 3 to check balance.\n",
    "    4.Press 4 to withdraw.\n",
    "    5.Anything else to exit.\n",
    "\"\"\")\n",
    "        \n",
    "        if user_input == '1':\n",
    "                # create  pin\n",
    "                self.create_pin()\n",
    "               \n",
    "        elif user_input == '2': \n",
    "                # change pin\n",
    "                self.change_pin()\n",
    "              \n",
    "        elif user_input == '3': \n",
    "                # check balance\n",
    "                self.check_balance()\n",
    "           \n",
    "        elif user_input == '4':\n",
    "                self.withdraw()\n",
    "            # withdraw\n",
    "             \n",
    "        else:\n",
    "                exit\n",
    "    \n",
    "    def create_pin(self):\n",
    "        user_pin = input('enter you pin')\n",
    "        self.pin = user_pin\n",
    "\n",
    "        user_balance = int(input('enter balance'))\n",
    "        self.__balance = user_balance\n",
    "        \n",
    "        print('pin created successfully')\n",
    "        self.menu()\n",
    "\n",
    "\n",
    "    def change_pin(self):\n",
    "        old_pin  = input('enter old pin')\n",
    "        \n",
    "        if old_pin == self.pin:\n",
    "            # let him change the pin\n",
    "            new_pin = input('enter new pin')\n",
    "            self.pin = new_pin\n",
    "        else:\n",
    "            print('you can\\'t use it')\n",
    "            self.menu()\n",
    "    \n",
    "\n",
    "    def check_balance(self):\n",
    "        user_pin  = input('enter your pin')\n",
    "        if user_pin == self.pin:\n",
    "              print(f'you balance is {self.__balance}')\n",
    "        else:\n",
    "              print('Pin is incorrect')\n",
    "        \n",
    "        \n",
    "    def withdraw(self):\n",
    "        user_pin = input('enter the pin')\n",
    "        if user_pin == self.pin:\n",
    "            amount = int(input('enter the amount'))\n",
    "            if amount <= self.__balance:\n",
    "                self.__balance = self.__balance - amount\n",
    "                print(f'withdrawl from you account of {amount} is done remaining balance is {self.__balance}')\n",
    "            else:\n",
    "                print('not available')\n",
    "        else:\n",
    "            print('not there')\n",
    "        self.menu()\n",
    "        \n",
    "\n",
    "    "
   ]
  },
  {
   "cell_type": "code",
   "execution_count": 308,
   "metadata": {},
   "outputs": [
    {
     "name": "stdout",
     "output_type": "stream",
     "text": [
      "2157355415296\n",
      "am executed\n",
      "pin created successfully\n"
     ]
    }
   ],
   "source": [
    "obj = Atm()\n",
    "obj.create_pin()"
   ]
  },
  {
   "cell_type": "code",
   "execution_count": 309,
   "metadata": {},
   "outputs": [
    {
     "data": {
      "text/plain": [
       "567567"
      ]
     },
     "execution_count": 309,
     "metadata": {},
     "output_type": "execute_result"
    }
   ],
   "source": [
    "# obj.create_pin()\n",
    "# obj.__balance = 'hehehe'\n",
    "# obj._Atm__balance = 'hehehehhehe'\n",
    "obj.get_balance()"
   ]
  },
  {
   "cell_type": "code",
   "execution_count": 310,
   "metadata": {},
   "outputs": [
    {
     "name": "stdout",
     "output_type": "stream",
     "text": [
      "Error wrong currency\n"
     ]
    }
   ],
   "source": [
    "obj.set_balance('hehehee')"
   ]
  },
  {
   "cell_type": "markdown",
   "metadata": {},
   "source": [
    "so when we make a private variable in python (__example) than it is converted in (_className__example) which makes it private."
   ]
  },
  {
   "cell_type": "code",
   "execution_count": 311,
   "metadata": {},
   "outputs": [],
   "source": [
    "# obj.withdraw()"
   ]
  },
  {
   "cell_type": "markdown",
   "metadata": {},
   "source": [
    "In python nothing is truely private.<br>\n",
    "Becuase python is programming language made for adults, made for gentleman."
   ]
  },
  {
   "cell_type": "markdown",
   "metadata": {},
   "source": [
    "# Collection of Objects"
   ]
  },
  {
   "cell_type": "code",
   "execution_count": 312,
   "metadata": {},
   "outputs": [
    {
     "name": "stdout",
     "output_type": "stream",
     "text": [
      "['ayush', 'santosh', 'ravindra']\n"
     ]
    }
   ],
   "source": [
    "class Person:\n",
    "\n",
    "    def __init__(self,name, gender):\n",
    "        self.name =  name\n",
    "        self.gender = gender\n",
    "\n",
    "p1 = Person('ayush','male')\n",
    "p2 = Person('santosh','female')\n",
    "p3 = Person('ravindra','male')\n",
    "\n",
    "l = [p1,p2,p3]\n",
    "# for i in l:\n",
    "#     print(i.name,i.gender)\n",
    "i = [i.name  for i in l ]\n",
    "print(i)\n",
    "\n",
    "d  = {'p1':p1,'p2':p2,'p3':p3}"
   ]
  },
  {
   "cell_type": "code",
   "execution_count": 313,
   "metadata": {},
   "outputs": [
    {
     "name": "stdout",
     "output_type": "stream",
     "text": [
      "ayush male\n",
      "santosh female\n",
      "ravindra male\n"
     ]
    },
    {
     "data": {
      "text/plain": [
       "{'p1': ('ayush', 'male'),\n",
       " 'p2': ('santosh', 'female'),\n",
       " 'p3': ('ravindra', 'male')}"
      ]
     },
     "execution_count": 313,
     "metadata": {},
     "output_type": "execute_result"
    }
   ],
   "source": [
    "# dict of objects\n",
    "for i in d:\n",
    "    print(d[i].name,d[i].gender)\n",
    "\n",
    "dd = {key:(value.name,value.gender) for (key,value) in d.items()}\n",
    "dd"
   ]
  },
  {
   "cell_type": "markdown",
   "metadata": {},
   "source": [
    "# Static keywords"
   ]
  },
  {
   "cell_type": "code",
   "execution_count": 314,
   "metadata": {},
   "outputs": [],
   "source": [
    "# need for static vars\n",
    "\n",
    "# static variable is of class and isntance variable is of object."
   ]
  },
  {
   "cell_type": "code",
   "execution_count": 350,
   "metadata": {},
   "outputs": [],
   "source": [
    "# class syntax -->\n",
    "class Atm:\n",
    "    \n",
    "    # static variable\n",
    "    __counter = 1\n",
    "\n",
    "    def __init__(self):\n",
    "        print(id(self))\n",
    "        self.pin = ''\n",
    "        self.__balance = 0\n",
    "        self.cid =         Atm.__counter\n",
    "        #isntance var    # class var\n",
    "\n",
    "        \n",
    "        Atm.__counter =  Atm.__counter + 1\n",
    "\n",
    "\n",
    "    # utility function -> which does'nt need object to work.\n",
    "    @staticmethod\n",
    "    def get_counter():\n",
    "         return Atm.__counter\n",
    "    \n",
    "\n",
    "        # self.menu()\n",
    "    def get_balance(self):\n",
    "         return self.__balance\n",
    "\n",
    "    def set_balance(self,new_value):\n",
    "         if type(new_value) == int:\n",
    "              self.__balance = new_value\n",
    "         else:\n",
    "              print('Error wrong currency')\n",
    "    def menu(self):\n",
    "        user_input =  input(\"\"\"\n",
    "    Hi how can I help you?\n",
    "    1.Press 1 to create pin.\n",
    "    2.Press 2 to change pin.\n",
    "    3.Press 3 to check balance.\n",
    "    4.Press 4 to withdraw.\n",
    "    5.Anything else to exit.\n",
    "\"\"\")\n",
    "        \n",
    "        if user_input == '1':\n",
    "                # create  pin\n",
    "                self.create_pin()\n",
    "               \n",
    "        elif user_input == '2': \n",
    "                # change pin\n",
    "                self.change_pin()\n",
    "              \n",
    "        elif user_input == '3': \n",
    "                # check balance\n",
    "                self.check_balance()\n",
    "           \n",
    "        elif user_input == '4':\n",
    "                self.withdraw()\n",
    "            # withdraw\n",
    "             \n",
    "        else:\n",
    "                exit\n",
    "    \n",
    "    def create_pin(self):\n",
    "        user_pin = input('enter you pin')\n",
    "        self.pin = user_pin\n",
    "\n",
    "        user_balance = int(input('enter balance'))\n",
    "        self.__balance = user_balance\n",
    "        \n",
    "        print('pin created successfully')\n",
    "        self.menu()\n",
    "\n",
    "\n",
    "    def change_pin(self):\n",
    "        old_pin  = input('enter old pin')\n",
    "        \n",
    "        if old_pin == self.pin:\n",
    "            # let him change the pin\n",
    "            new_pin = input('enter new pin')\n",
    "            self.pin = new_pin\n",
    "        else:\n",
    "            print('you can\\'t use it')\n",
    "            self.menu()\n",
    "    \n",
    "\n",
    "    def check_balance(self):\n",
    "        user_pin  = input('enter your pin')\n",
    "        if user_pin == self.pin:\n",
    "              print(f'you balance is {self.__balance}')\n",
    "        else:\n",
    "              print('Pin is incorrect')\n",
    "        \n",
    "        \n",
    "    def withdraw(self):\n",
    "        user_pin = input('enter the pin')\n",
    "        if user_pin == self.pin:\n",
    "            amount = int(input('enter the amount'))\n",
    "            if amount <= self.__balance:\n",
    "                self.__balance = self.__balance - amount\n",
    "                print(f'withdrawl from you account of {amount} is done remaining balance is {self.__balance}')\n",
    "            else:\n",
    "                print('not available')\n",
    "        else:\n",
    "            print('not there')\n",
    "        self.menu()\n",
    "        \n",
    "\n",
    "    "
   ]
  },
  {
   "cell_type": "code",
   "execution_count": 351,
   "metadata": {},
   "outputs": [
    {
     "name": "stdout",
     "output_type": "stream",
     "text": [
      "2157355190304\n"
     ]
    }
   ],
   "source": [
    "c1 = Atm()"
   ]
  },
  {
   "cell_type": "code",
   "execution_count": 352,
   "metadata": {},
   "outputs": [
    {
     "name": "stdout",
     "output_type": "stream",
     "text": [
      "2157355191648\n"
     ]
    }
   ],
   "source": [
    "c2 = Atm()"
   ]
  },
  {
   "cell_type": "code",
   "execution_count": 353,
   "metadata": {},
   "outputs": [
    {
     "name": "stdout",
     "output_type": "stream",
     "text": [
      "2157355190832\n"
     ]
    }
   ],
   "source": [
    "c3 = Atm()"
   ]
  },
  {
   "cell_type": "code",
   "execution_count": 354,
   "metadata": {},
   "outputs": [
    {
     "data": {
      "text/plain": [
       "2"
      ]
     },
     "execution_count": 354,
     "metadata": {},
     "output_type": "execute_result"
    }
   ],
   "source": [
    "c2.cid"
   ]
  },
  {
   "cell_type": "code",
   "execution_count": 355,
   "metadata": {},
   "outputs": [
    {
     "data": {
      "text/plain": [
       "4"
      ]
     },
     "execution_count": 355,
     "metadata": {},
     "output_type": "execute_result"
    }
   ],
   "source": [
    "Atm.get_counter()"
   ]
  },
  {
   "cell_type": "code",
   "execution_count": null,
   "metadata": {},
   "outputs": [],
   "source": [
    "# oops!"
   ]
  }
 ],
 "metadata": {
  "kernelspec": {
   "display_name": "Python 3",
   "language": "python",
   "name": "python3"
  },
  "language_info": {
   "codemirror_mode": {
    "name": "ipython",
    "version": 3
   },
   "file_extension": ".py",
   "mimetype": "text/x-python",
   "name": "python",
   "nbconvert_exporter": "python",
   "pygments_lexer": "ipython3",
   "version": "3.8.10"
  }
 },
 "nbformat": 4,
 "nbformat_minor": 2
}
