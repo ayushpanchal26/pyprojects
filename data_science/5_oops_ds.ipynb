{
 "cells": [
  {
   "cell_type": "markdown",
   "metadata": {},
   "source": [
    "# OOPS (object oriented programming)"
   ]
  },
  {
   "cell_type": "markdown",
   "metadata": {},
   "source": [
    "Class is blue print <br>\n",
    "object are the instance of class"
   ]
  },
  {
   "cell_type": "code",
   "execution_count": 137,
   "metadata": {},
   "outputs": [],
   "source": [
    "# oops give power to the programmer that he can use his own data types.\n",
    "# for class we use Pascal Case according to convention|"
   ]
  },
  {
   "cell_type": "markdown",
   "metadata": {},
   "source": [
    "constructor --> construtor is the method which is triggered automatically <br>\n",
    "for example :- ola app payment , cab book and feedback control is given to the user these are normal method but the construcor is used to write configuration related code.\n",
    "<br>\n",
    "for example :- connecting your app through internet that piece of code will be written in constructor<br>\n",
    "<br>\n",
    "all the control which is not given to the user is written in the constructor"
   ]
  },
  {
   "cell_type": "markdown",
   "metadata": {},
   "source": [
    "If GOD is the programmer earth is class and the humans are objects so death is the constructor."
   ]
  },
  {
   "cell_type": "code",
   "execution_count": 3,
   "metadata": {},
   "outputs": [],
   "source": [
    "# class syntax -->\n",
    "class Atm:\n",
    "    def __init__(self):\n",
    "        print(id(self))\n",
    "        self.pin = ''\n",
    "        self.balance = 0\n",
    "        print(\"am executed\")\n",
    "        # self.menu()\n",
    "\n",
    "    def menu(self):\n",
    "        user_input =  input(\"\"\"\n",
    "    Hi how can I help you?\n",
    "    1.Press 1 to create pin.\n",
    "    2.Press 2 to change pin.\n",
    "    3.Press 3 to check balance.\n",
    "    4.Press 4 to withdraw.\n",
    "    5.Anything else to exit.\n",
    "\"\"\")\n",
    "        \n",
    "        if user_input == '1':\n",
    "                # create  pin\n",
    "                self.create_pin()\n",
    "               \n",
    "        elif user_input == '2': \n",
    "                # change pin\n",
    "                self.change_pin()\n",
    "              \n",
    "        elif user_input == '3': \n",
    "                # check balance\n",
    "                self.check_balance()\n",
    "           \n",
    "        elif user_input == '4':\n",
    "                self.withdraw()\n",
    "            # withdraw\n",
    "             \n",
    "        else:\n",
    "                exit\n",
    "    \n",
    "    def create_pin(self):\n",
    "        user_pin = input('enter you pin')\n",
    "        self.pin = user_pin\n",
    "\n",
    "        user_balance = int(input('enter balance'))\n",
    "        self.balance = user_balance\n",
    "        \n",
    "        print('pin created successfully')\n",
    "        self.menu()\n",
    "\n",
    "\n",
    "    def change_pin(self):\n",
    "        old_pin  = input('enter old pin')\n",
    "        \n",
    "        if old_pin == self.pin:\n",
    "            # let him change the pin\n",
    "            new_pin = input('enter new pin')\n",
    "            self.pin = new_pin\n",
    "        else:\n",
    "            print('you can\\'t use it')\n",
    "            self.menu()\n",
    "    \n",
    "\n",
    "    def check_balance(self):\n",
    "        user_pin  = input('enter your pin')\n",
    "        if user_pin == self.pin:\n",
    "              print(f'you balance is {self.balance}')\n",
    "        else:\n",
    "              print('Pin is incorrect')\n",
    "        \n",
    "        \n",
    "    def withdraw(self):\n",
    "        user_pin = input('enter the pin')\n",
    "        if user_pin == self.pin:\n",
    "            amount = int(input('enter the amount'))\n",
    "            if amount <= self.balance:\n",
    "                self.balance = self.balance - amount\n",
    "                print(f'withdrawl from you account of {amount} is done remaining balance is {self.balance}')\n",
    "            else:\n",
    "                print('not available')\n",
    "        else:\n",
    "            print('not there')\n",
    "        self.menu()\n",
    "        "
   ]
  },
  {
   "cell_type": "code",
   "execution_count": 4,
   "metadata": {},
   "outputs": [
    {
     "name": "stdout",
     "output_type": "stream",
     "text": [
      "1947401674704\n",
      "am executed\n"
     ]
    }
   ],
   "source": [
    "obj = Atm()"
   ]
  },
  {
   "cell_type": "code",
   "execution_count": 5,
   "metadata": {},
   "outputs": [
    {
     "name": "stdout",
     "output_type": "stream",
     "text": [
      "<class '__main__.Atm'>\n",
      "1947401674704\n"
     ]
    }
   ],
   "source": [
    "print(type(obj))\n",
    "print(id(obj))"
   ]
  },
  {
   "cell_type": "markdown",
   "metadata": {},
   "source": [
    "All the functions which are made inside the class are called methods."
   ]
  },
  {
   "cell_type": "code",
   "execution_count": 1,
   "metadata": {},
   "outputs": [],
   "source": [
    "# example \n",
    "l = [1,2,3]\n",
    "len(l) # function --> bcos it is outside the list class\n",
    "l.append(4) # method --> bcos it is inside the list class"
   ]
  },
  {
   "cell_type": "markdown",
   "metadata": {},
   "source": [
    "### Magic method (dunder method)"
   ]
  },
  {
   "cell_type": "code",
   "execution_count": 2,
   "metadata": {},
   "outputs": [
    {
     "name": "stdout",
     "output_type": "stream",
     "text": [
      "hello\n"
     ]
    }
   ],
   "source": [
    "# constructor is a method but it is a speical method it has super power constructor doesn't required to get called it is called automatically/\n",
    "class  Temp:\n",
    "    def __init__(self):\n",
    "        print('hello')\n",
    "\n",
    "obj = Temp()"
   ]
  },
  {
   "cell_type": "markdown",
   "metadata": {},
   "source": [
    "Golder rule of oops is the data, method inside a class can only be accessed by object of the class."
   ]
  },
  {
   "cell_type": "markdown",
   "metadata": {},
   "source": [
    "so even method(function inside the class) cannot access the data or other methods of the class.<br>\n",
    "In short anything inside a class cannot communicate each other directly.\n"
   ]
  },
  {
   "cell_type": "markdown",
   "metadata": {},
   "source": [
    "so to access inside a class when one method or variable wants to call or communicate between each other by design self is referd as the object. so when we make a self as the object.<br>\n",
    "self(acc. to convention) is also and object and instance of the class."
   ]
  },
  {
   "cell_type": "markdown",
   "metadata": {},
   "source": [
    "### Creating own data type --Fraction Data type"
   ]
  },
  {
   "cell_type": "code",
   "execution_count": 75,
   "metadata": {},
   "outputs": [],
   "source": [
    "class Fraction:\n",
    "\n",
    "    # parameterized constructor\n",
    "    def __init__(self, x, y):\n",
    "        self.num = x\n",
    "        self.den = y\n",
    "\n",
    "    def __str__(self):\n",
    "        return f'{self.num}/{self.den}'\n",
    "    \n",
    "    def __add__(self,other): # magic methods\n",
    "        new_num  = self.num*other.den + other.num*self.den\n",
    "        new_deno = self.den*other.den\n",
    "        return f'{new_num}/{new_deno}'\n",
    "    \n",
    "\n",
    "    def __sub__(self,other):\n",
    "        new_num  = self.num*other.den - other.num*self.den\n",
    "        new_deno  = self.den*other.den\n",
    "        return f'{new_num}/{new_deno}'\n",
    "    \n",
    "    \n",
    "    def __mul__(self,other):\n",
    "        new_num = self.num*other.num\n",
    "        new_deno = self.den*other.den\n",
    "        return f'{new_num}/{new_deno}'\n",
    "    \n",
    "\n",
    "    def __truediv__(self,other):\n",
    "        new_num = self.num*other.den\n",
    "        new_deno = self.den*other.num\n",
    "        return f'{new_num}/{new_deno}'\n",
    "    \n",
    "    \n",
    "    def convet_to_decimal(self):\n",
    "        return self.num /self.den\n"
   ]
  },
  {
   "cell_type": "code",
   "execution_count": 76,
   "metadata": {},
   "outputs": [],
   "source": [
    "fr1 = Fraction(3,4)\n",
    "fr2 = Fraction(1,2)\n"
   ]
  },
  {
   "cell_type": "code",
   "execution_count": 77,
   "metadata": {},
   "outputs": [
    {
     "name": "stdout",
     "output_type": "stream",
     "text": [
      "<class '__main__.Fraction'>\n",
      "3/4\n",
      "1/2\n"
     ]
    }
   ],
   "source": [
    "\n",
    "print(type(fr1))\n",
    "print(fr1)\n",
    "print(fr2)"
   ]
  },
  {
   "cell_type": "code",
   "execution_count": 80,
   "metadata": {},
   "outputs": [
    {
     "name": "stdout",
     "output_type": "stream",
     "text": [
      "10/8\n",
      "2/8\n",
      "3/8\n",
      "6/4\n",
      "0.75\n"
     ]
    }
   ],
   "source": [
    "print(fr1 + fr2)\n",
    "print(fr1 - fr2)\n",
    "print(fr1 * fr2)\n",
    "print(fr1 / fr2)\n",
    "print(fr1.convet_to_decimal())"
   ]
  }
 ],
 "metadata": {
  "kernelspec": {
   "display_name": "Python 3",
   "language": "python",
   "name": "python3"
  },
  "language_info": {
   "codemirror_mode": {
    "name": "ipython",
    "version": 3
   },
   "file_extension": ".py",
   "mimetype": "text/x-python",
   "name": "python",
   "nbconvert_exporter": "python",
   "pygments_lexer": "ipython3",
   "version": "3.8.10"
  }
 },
 "nbformat": 4,
 "nbformat_minor": 2
}
